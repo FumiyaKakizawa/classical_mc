{
 "cells": [
  {
   "cell_type": "code",
   "execution_count": 1,
   "metadata": {
    "collapsed": false
   },
   "outputs": [
    {
     "name": "stdout",
     "output_type": "stream",
     "text": [
      "3.142 0.110616454472 0.000407346410207\n",
      "3.1392 0.0431666537967 0.00239265358979\n",
      "3.14898 0.0196653909191 0.00738734641021\n",
      "3.140668 0.00458125048431 0.000924653589793\n",
      "3.1416988 0.00173655111068 0.000106146410207\n"
     ]
    },
    {
     "data": {
      "text/plain": [
       "array([ 0.,  1.,  2.])"
      ]
     },
     "execution_count": 1,
     "metadata": {},
     "output_type": "execute_result"
    }
   ],
   "source": [
    "import numpy as np\n",
    "import random\n",
    "\n",
    "random.seed(100)\n",
    "\n",
    "def compute_pi(num_samples, num_bins = 20):\n",
    "    results = []\n",
    "    counter = 0\n",
    "\n",
    "    for ib in range(num_bins):\n",
    "        counter = 0\n",
    "        for i in range(num_samples):\n",
    "             x = 2 * random.random() - 1.0\n",
    "             y = 2 * random.random() - 1.0\n",
    "             r = x**2 + y**2\n",
    "             if r <= 1.0:\n",
    "                counter += 1\n",
    "        results.append(((4.*counter)/num_samples))\n",
    "   \n",
    "    return np.average(results), np.std(results)\n",
    "\n",
    "for num_samples in [10**2, 10**3, 10**4, 10**5, 10**6]:\n",
    "    av,err = compute_pi(num_samples)\n",
    "    print(av, err, np.abs(av-np.pi))\n",
    "    \n",
    "    \n",
    "#plt.errorbar(num_samples_list, data[:,0], data[:,1])\n",
    "plt.plot(num_samples_list, data[:,1], marker=\"o\")\n",
    "plt.xscale(\"log\")\n",
    "plt.yscale(\"log\")\n",
    "plt.plot(num_samples_list, 1/np.array(num_samples_list, dtype=float)**0.5)\n",
    "\n",
    "plt.xlabel(\"Number of samples\")\n",
    "plt.ylabel(\"Error bars\")\n",
    "plt.tight_layout()\n",
    "plt.savefig(\"error.pdf\")\n",
    "    "
   ]
  },
  {
   "cell_type": "code",
   "execution_count": 20,
   "metadata": {
    "collapsed": false
   },
   "outputs": [
    {
     "name": "stdout",
     "output_type": "stream",
     "text": [
      "A\n"
     ]
    }
   ],
   "source": [
    "printA()"
   ]
  },
  {
   "cell_type": "code",
   "execution_count": null,
   "metadata": {
    "collapsed": true
   },
   "outputs": [],
   "source": []
  },
  {
   "cell_type": "code",
   "execution_count": 17,
   "metadata": {
    "collapsed": false
   },
   "outputs": [
    {
     "name": "stdout",
     "output_type": "stream",
     "text": [
      "3.124\n",
      "3.104\n",
      "3.079\n",
      "3.0872\n",
      "3.09733333333\n",
      "3.11142857143\n",
      "3.118\n",
      "3.11733333333\n",
      "3.1204\n",
      "3.12436363636\n",
      "3.28\n"
     ]
    }
   ],
   "source": [
    "import numpy as np\n",
    "import random\n",
    "#from abc import abstractmethod\n",
    "\n",
    "class MonteCarloSampler:\n",
    "    def __init__(self):\n",
    "        self.results = []\n",
    "    \n",
    "    def perform(self):\n",
    "        #do nothing\n",
    "        print(\"Should not be called\")\n",
    "        \n",
    "    def get_results(self):\n",
    "        if len(self.results) == 0:\n",
    "            print(\"No available results found\")\n",
    "            return 0.0\n",
    "        return np.average(self.results)\n",
    "    \n",
    "    def reset(self):\n",
    "        self.results = []\n",
    "\n",
    "class SimpleMonteCarloSampler(MonteCarloSampler):\n",
    "    def __init__(self):\n",
    "        super().__init__()\n",
    "        \n",
    "    def perform(self):\n",
    "        counter = 0\n",
    "        num_samples = 10**3\n",
    "        for i in range(num_samples):\n",
    "            x = 2 * random.random() - 1\n",
    "            y = 2 * random.random() - 1\n",
    "            if x**2 + y**2 < 1:\n",
    "                counter += 1\n",
    "        self.results.append(4*counter/num_samples)\n",
    "\n",
    "#class FastMonteCarloSampler(MonteCarloSampler):\n",
    "#    def perform(self):\n",
    "        #\"\"\"\"\"******\"\"\"\n",
    "\n",
    "mc = SimpleMonteCarloSampler()\n",
    "mc.perform()\n",
    "\n",
    "for i in range(10):\n",
    "    mc.perform()\n",
    "    print(mc.get_results())\n",
    "\n",
    "mc.reset()\n",
    "mc.perform()\n",
    "print(mc.get_results())"
   ]
  },
  {
   "cell_type": "code",
   "execution_count": 4,
   "metadata": {
    "collapsed": false
   },
   "outputs": [
    {
     "name": "stdout",
     "output_type": "stream",
     "text": [
      "100.0 76.168\n",
      "10.0 9.886\n",
      "1.0 0.9172\n"
     ]
    }
   ],
   "source": [
    "import numpy as np\n",
    "import random\n",
    "import copy\n",
    "\n",
    "class MonteCarloSampler:\n",
    "    def __init__(self, params):\n",
    "        self.results = {}\n",
    "        self.params = copy.copy(params)\n",
    "    \n",
    "    def perform(self):\n",
    "        #do nothing\n",
    "        h = self.params[\"h\"]\n",
    "        beta = self.params[\"beta\"]\n",
    "        Sz = 1\n",
    "        E = -h * Sz\n",
    "        n_sample = 1000000\n",
    "        Es = np.zeros(n_sample, dtype=float)\n",
    "        Szs = np.zeros(n_sample, dtype=float)\n",
    "        for isample in range(n_sample):\n",
    "            Pu = np.exp(beta*h)/(np.exp(beta*h) + np.exp(beta*-h))\n",
    "            if random.random() < Pu:\n",
    "                Sz = 1\n",
    "            else:\n",
    "                Sz = -1\n",
    "            E = - h * Sz\n",
    "            Szs[isample] = Sz\n",
    "            Es[isample] = E\n",
    "            \n",
    "        #compute results\n",
    "        self.results[\"chi\"] = np.average(Szs)/h\n",
    "\n",
    "    def get_results(self):\n",
    "        return self.results\n",
    "    \n",
    "    def reset(self):\n",
    "        self.results = []\n",
    "\n",
    "p = {\"h\" : 0.01, \"Ns\" : 1, \"beta\" : 10.0}\n",
    "#p[\"J\"] = -1.0\n",
    "#p[\"Ns\"] = 2\n",
    "#a = np.identity(2, dtype=float)\n",
    "#p[\"array\"] = np.array(a)\n",
    "#p[\"array\"] *= 2\n",
    "for T in [0.01, 0.1, 1]:\n",
    "    p[\"beta\"] = 1/T\n",
    "    mc = MonteCarloSampler(p)\n",
    "    mc.perform()\n",
    "    r = mc.get_results()\n",
    "    print(1/T, r[\"chi\"])\n"
   ]
  },
  {
   "cell_type": "code",
   "execution_count": null,
   "metadata": {
    "collapsed": true
   },
   "outputs": [],
   "source": []
  }
 ],
 "metadata": {
  "anaconda-cloud": {},
  "kernelspec": {
   "display_name": "Python 3",
   "language": "python",
   "name": "python3"
  },
  "language_info": {
   "codemirror_mode": {
    "name": "ipython",
    "version": 3
   },
   "file_extension": ".py",
   "mimetype": "text/x-python",
   "name": "python",
   "nbconvert_exporter": "python",
   "pygments_lexer": "ipython3",
   "version": "3.5.2"
  }
 },
 "nbformat": 4,
 "nbformat_minor": 1
}
