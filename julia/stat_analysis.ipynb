{
 "cells": [
  {
   "cell_type": "code",
   "execution_count": 1,
   "metadata": {},
   "outputs": [],
   "source": [
    "using Statistics"
   ]
  },
  {
   "cell_type": "code",
   "execution_count": 2,
   "metadata": {},
   "outputs": [
    {
     "name": "stdout",
     "output_type": "stream",
     "text": [
      "mean(Tc) = 0.15572391554463402\n",
      "std(Tc, corrected = false) = 0.0036094795845917366\n"
     ]
    }
   ],
   "source": [
    "# mq_sqrt3\n",
    "Tc = [0.15821964643143097, 0.15207132205081553, 0.1564216172884766, 0.15121116530475898, 0.16069582664768806]\n",
    "@show mean(Tc)\n",
    "@show std(Tc, corrected=false)\n",
    ";"
   ]
  },
  {
   "cell_type": "code",
   "execution_count": 3,
   "metadata": {},
   "outputs": [
    {
     "name": "stdout",
     "output_type": "stream",
     "text": [
      "mean(Tc) = 0.15814193053960166\n",
      "std(Tc, corrected = false) = 0.0003034820043977242\n"
     ]
    }
   ],
   "source": [
    "# afvc\n",
    "Tc = [0.1582282154948477, 0.15806062755200836, 0.15785514622550903, 0.15868563429575383, 0.15788002912988927]\n",
    "@show mean(Tc)\n",
    "@show std(Tc, corrected=false)\n",
    ";"
   ]
  },
  {
   "cell_type": "code",
   "execution_count": 4,
   "metadata": {},
   "outputs": [
    {
     "name": "stdout",
     "output_type": "stream",
     "text": [
      "mean(Tc) = 0.15662716015593792\n",
      "std(Tc, corrected = false) = 0.006051115600663099\n"
     ]
    }
   ],
   "source": [
    "# octupole\n",
    "Tc = [0.16072209475919325, 0.15583187130373805, 0.1622011767475085, 0.15909099647592595, 0.14528966149332392]\n",
    "@show mean(Tc)\n",
    "@show std(Tc, corrected=false)\n",
    ";"
   ]
  }
 ],
 "metadata": {
  "kernelspec": {
   "display_name": "Julia 1.7.3",
   "language": "julia",
   "name": "julia-1.7"
  },
  "language_info": {
   "file_extension": ".jl",
   "mimetype": "application/julia",
   "name": "julia",
   "version": "1.7.3"
  },
  "orig_nbformat": 4
 },
 "nbformat": 4,
 "nbformat_minor": 2
}
