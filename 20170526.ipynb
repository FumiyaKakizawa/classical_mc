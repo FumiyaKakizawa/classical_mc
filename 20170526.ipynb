{
 "cells": [
  {
   "cell_type": "markdown",
   "metadata": {},
   "source": [
    "# 再帰とループ"
   ]
  },
  {
   "cell_type": "code",
   "execution_count": 1,
   "metadata": {},
   "outputs": [
    {
     "name": "stdout",
     "output_type": "stream",
     "text": [
      "0 1\n",
      "1 1\n",
      "2 2\n",
      "3 6\n",
      "4 24\n",
      "5 120\n",
      "6 720\n",
      "7 5040\n",
      "8 40320\n",
      "9 362880\n"
     ]
    }
   ],
   "source": [
    "#Let us compute factorials in two different ways.\n",
    "\n",
    "def factorial_recursive(n):\n",
    "    assert n>=0\n",
    "    if n==0 or n==1:\n",
    "        return 1\n",
    "    else:\n",
    "        return n * factorial_recursive(n-1)\n",
    "\n",
    "for i in range(10):\n",
    "    print(i, factorial_recursive(i))"
   ]
  },
  {
   "cell_type": "code",
   "execution_count": 7,
   "metadata": {},
   "outputs": [
    {
     "name": "stdout",
     "output_type": "stream",
     "text": [
      "0 1\n",
      "1 1\n",
      "2 2\n",
      "3 6\n",
      "4 24\n",
      "5 120\n",
      "6 720\n",
      "7 5040\n",
      "8 40320\n",
      "9 362880\n"
     ]
    }
   ],
   "source": [
    "def factorial_loop(n):\n",
    "    assert n>=0\n",
    "    if n==0 or n==1:\n",
    "        return 1\n",
    "    r = 1\n",
    "    for i in range(2,n+1):\n",
    "        r *= i\n",
    "    return r\n",
    "\n",
    "for i in range(10):\n",
    "    print(i, factorial_loop(i))"
   ]
  },
  {
   "cell_type": "code",
   "execution_count": 8,
   "metadata": {},
   "outputs": [
    {
     "ename": "AssertionError",
     "evalue": "",
     "output_type": "error",
     "traceback": [
      "\u001b[0;31m---------------------------------------------------------------------------\u001b[0m",
      "\u001b[0;31mAssertionError\u001b[0m                            Traceback (most recent call last)",
      "\u001b[0;32m<ipython-input-8-0fcfb90574be>\u001b[0m in \u001b[0;36m<module>\u001b[0;34m()\u001b[0m\n\u001b[0;32m----> 1\u001b[0;31m \u001b[0mfactorial_loop\u001b[0m\u001b[0;34m(\u001b[0m\u001b[0;34m-\u001b[0m\u001b[0;36m1\u001b[0m\u001b[0;34m)\u001b[0m\u001b[0;34m\u001b[0m\u001b[0m\n\u001b[0m",
      "\u001b[0;32m<ipython-input-7-6f319da90090>\u001b[0m in \u001b[0;36mfactorial_loop\u001b[0;34m(n)\u001b[0m\n\u001b[1;32m      1\u001b[0m \u001b[0;32mdef\u001b[0m \u001b[0mfactorial_loop\u001b[0m\u001b[0;34m(\u001b[0m\u001b[0mn\u001b[0m\u001b[0;34m)\u001b[0m\u001b[0;34m:\u001b[0m\u001b[0;34m\u001b[0m\u001b[0m\n\u001b[0;32m----> 2\u001b[0;31m     \u001b[0;32massert\u001b[0m \u001b[0mn\u001b[0m\u001b[0;34m>=\u001b[0m\u001b[0;36m0\u001b[0m\u001b[0;34m\u001b[0m\u001b[0m\n\u001b[0m\u001b[1;32m      3\u001b[0m     \u001b[0;32mif\u001b[0m \u001b[0mn\u001b[0m\u001b[0;34m==\u001b[0m\u001b[0;36m0\u001b[0m \u001b[0;32mor\u001b[0m \u001b[0mn\u001b[0m\u001b[0;34m==\u001b[0m\u001b[0;36m1\u001b[0m\u001b[0;34m:\u001b[0m\u001b[0;34m\u001b[0m\u001b[0m\n\u001b[1;32m      4\u001b[0m         \u001b[0;32mreturn\u001b[0m \u001b[0;36m1\u001b[0m\u001b[0;34m\u001b[0m\u001b[0m\n\u001b[1;32m      5\u001b[0m     \u001b[0mr\u001b[0m \u001b[0;34m=\u001b[0m \u001b[0;36m1\u001b[0m\u001b[0;34m\u001b[0m\u001b[0m\n",
      "\u001b[0;31mAssertionError\u001b[0m: "
     ]
    }
   ],
   "source": [
    "#Safe to use assertion\n",
    "factorial_loop(-1)"
   ]
  },
  {
   "cell_type": "code",
   "execution_count": 10,
   "metadata": {},
   "outputs": [
    {
     "name": "stdout",
     "output_type": "stream",
     "text": [
      "362880.0\n"
     ]
    }
   ],
   "source": [
    "# In practical calculations, avoid to reinvent the wheel!\n",
    "from scipy.special import factorial\n",
    "\n",
    "print(factorial(9))"
   ]
  },
  {
   "cell_type": "markdown",
   "metadata": {},
   "source": [
    "再帰の方が論理構造がわかりやすい場合がある。ただし、多数の関数呼び出しが必要なので、性能が悪い可能性も考慮。性能にクリティカルに関わる部分以外は、基本的にわかりやすいコードにするのが鉄則。"
   ]
  },
  {
   "cell_type": "markdown",
   "metadata": {},
   "source": [
    "# クラス"
   ]
  },
  {
   "cell_type": "code",
   "execution_count": 3,
   "metadata": {},
   "outputs": [
    {
     "name": "stdout",
     "output_type": "stream",
     "text": [
      "3\n",
      "10\n"
     ]
    }
   ],
   "source": [
    "import numpy as np\n",
    "\n",
    "class MyVector:\n",
    "    #Constructor\n",
    "    def __init__(self, N):\n",
    "        self.N = N\n",
    "        self.data = np.zeros((N,),dtype=float)\n",
    "    \n",
    "    #Member function\n",
    "    def len(self):\n",
    "        return self.N\n",
    "        \n",
    "v3 = MyVector(3)\n",
    "print(v3.len())\n",
    "\n",
    "v10 = MyVector(10)\n",
    "print(v10.len())"
   ]
  },
  {
   "cell_type": "code",
   "execution_count": 6,
   "metadata": {},
   "outputs": [
    {
     "name": "stdout",
     "output_type": "stream",
     "text": [
      "3\n",
      "10\n",
      "[  0.00000000e+00   0.00000000e+00   0.00000000e+00   1.00000000e+30\n",
      "   0.00000000e+00   0.00000000e+00   0.00000000e+00   0.00000000e+00\n",
      "   0.00000000e+00   0.00000000e+00]\n",
      "[  0.00000000e+00   0.00000000e+00   0.00000000e+00   1.00000000e+30\n",
      "   0.00000000e+00   0.00000000e+00   0.00000000e+00   0.00000000e+00\n",
      "   0.00000000e+00   0.00000000e+00]\n"
     ]
    }
   ],
   "source": [
    "import numpy as np\n",
    "\n",
    "class MyVector:\n",
    "    #Constructor\n",
    "    def __init__(self, N):\n",
    "        self.data = np.zeros((N,),dtype=float)\n",
    "    \n",
    "    #Member functions\n",
    "    def len(self):\n",
    "        return len(self.data)\n",
    "    \n",
    "    def write_at(self, i, new_value):\n",
    "        assert i < self.len()\n",
    "        assert new_value >= 0.0\n",
    "        self.data[i] = new_value\n",
    "    \n",
    "    def print(self):\n",
    "        print(self.data)\n",
    "        \n",
    "v3 = MyVector(3)\n",
    "print(v3.len())\n",
    "\n",
    "v10 = MyVector(10)\n",
    "print(v10.len())\n",
    "\n",
    "v10.write_at(3, 1E+30)\n",
    "v10.print()\n",
    "\n",
    "print(v10.data)"
   ]
  },
  {
   "cell_type": "markdown",
   "metadata": {},
   "source": [
    "Inheritance (継承)"
   ]
  },
  {
   "cell_type": "code",
   "execution_count": 8,
   "metadata": {},
   "outputs": [
    {
     "name": "stdout",
     "output_type": "stream",
     "text": [
      "Initializing: A\n",
      "Initializing: A\n",
      "Initializing: B\n",
      "I am a B\n"
     ]
    }
   ],
   "source": [
    "class A:\n",
    "    def __init__(self):\n",
    "        print(\"Initializing: A\")\n",
    "\n",
    "class B(A):\n",
    "    def __init__(self):\n",
    "        super().__init__()\n",
    "        print(\"Initializing: B\")\n",
    "    \n",
    "    def print(self):\n",
    "        print(\"I am a B\")\n",
    "\n",
    "\n",
    "a = A()\n",
    "b = B()\n",
    "b.print()"
   ]
  },
  {
   "cell_type": "code",
   "execution_count": 41,
   "metadata": {},
   "outputs": [
    {
     "ename": "AttributeError",
     "evalue": "'MyVector' object has no attribute 'write_at'",
     "output_type": "error",
     "traceback": [
      "\u001b[0;31m---------------------------------------------------------------------------\u001b[0m",
      "\u001b[0;31mAttributeError\u001b[0m                            Traceback (most recent call last)",
      "\u001b[0;32m<ipython-input-41-f6ff1776a4e7>\u001b[0m in \u001b[0;36m<module>\u001b[0;34m()\u001b[0m\n\u001b[1;32m     27\u001b[0m \u001b[0;34m\u001b[0m\u001b[0m\n\u001b[1;32m     28\u001b[0m \u001b[0mv3\u001b[0m \u001b[0;34m=\u001b[0m \u001b[0mMyVector\u001b[0m\u001b[0;34m(\u001b[0m\u001b[0;36m3\u001b[0m\u001b[0;34m)\u001b[0m\u001b[0;34m\u001b[0m\u001b[0m\n\u001b[0;32m---> 29\u001b[0;31m \u001b[0mv3\u001b[0m\u001b[0;34m.\u001b[0m\u001b[0mwrite_at\u001b[0m\u001b[0;34m(\u001b[0m\u001b[0;36m1\u001b[0m\u001b[0;34m,\u001b[0m \u001b[0;36m1E+30\u001b[0m\u001b[0;34m)\u001b[0m\u001b[0;34m\u001b[0m\u001b[0m\n\u001b[0m",
      "\u001b[0;31mAttributeError\u001b[0m: 'MyVector' object has no attribute 'write_at'"
     ]
    }
   ],
   "source": [
    "import numpy as np\n",
    "\n",
    "class MyVector:\n",
    "    #Constructor\n",
    "    def __init__(self, N):\n",
    "        self.data = np.zeros((N,),dtype=float)\n",
    "    \n",
    "    #Member functions\n",
    "    def len(self):\n",
    "        return len(self.data)\n",
    "    \n",
    "    def print(self):\n",
    "        print(self.data)\n",
    "\n",
    "class WritableVector(MyVector):\n",
    "    def __init__(self, N):\n",
    "        super().__init__(N)\n",
    "        #You can do additional things here if any.\n",
    "        self.x = 100.0\n",
    "    \n",
    "    def write_at(self, i, new_value):\n",
    "        assert i < self.len()\n",
    "        self.data[i] = new_value\n",
    "\n",
    "wv3 = WritableVector(3)\n",
    "wv3.write_at(1, 1E+30)\n",
    "        \n",
    "v3 = MyVector(3)\n",
    "v3.write_at(1, 1E+30)\n"
   ]
  },
  {
   "cell_type": "markdown",
   "metadata": {},
   "source": [
    "乱数を昇順にソートせよ"
   ]
  },
  {
   "cell_type": "code",
   "execution_count": 16,
   "metadata": {},
   "outputs": [
    {
     "name": "stdout",
     "output_type": "stream",
     "text": [
      "[ 0.20971849  0.66510752  0.75638369  0.66797083  0.76010374  0.15178078\n",
      "  0.36784402  0.53518689  0.86896513  0.56439904  0.04182987  0.11214791\n",
      "  0.66654121  0.67124841  0.15906173  0.599741    0.93369601  0.03861833\n",
      "  0.52305497  0.43524134]\n",
      "[ 0.03861833  0.04182987  0.11214791  0.15178078  0.15906173  0.20971849\n",
      "  0.36784402  0.43524134  0.52305497  0.53518689  0.56439904  0.599741\n",
      "  0.66510752  0.66654121  0.66797083  0.67124841  0.75638369  0.76010374\n",
      "  0.86896513  0.93369601]\n",
      "[ 0.03861833  0.04182987  0.11214791  0.15178078  0.15906173  0.20971849\n",
      "  0.36784402  0.43524134  0.52305497  0.53518689  0.56439904  0.599741\n",
      "  0.66510752  0.66654121  0.66797083  0.67124841  0.75638369  0.76010374\n",
      "  0.86896513  0.93369601]\n"
     ]
    }
   ],
   "source": [
    "import random\n",
    "import numpy as np\n",
    "\n",
    "\n",
    "#input: in_array is an array to be sorted. This array wont'be modified.\n",
    "#This function returns a sorted array.\n",
    "def merge_sort(in_array):\n",
    "    N = len(in_array)\n",
    "    if N==1:\n",
    "        return in_array\n",
    "    \n",
    "    N1 = int(N/2)\n",
    "    N2 = N - N1\n",
    "    \n",
    "    array1 = merge_sort(in_array[0:N1])\n",
    "    array2 = merge_sort(in_array[N1:])\n",
    "\n",
    "    assert len(array1) == N1\n",
    "    assert len(array2) == N2\n",
    "\n",
    "    sorted_array = np.zeros_like(in_array)\n",
    "    \n",
    "    i1 = i2 = 0\n",
    "    i = 0\n",
    "    while i < N:\n",
    "        if i1 == N1:#array1 is already empty\n",
    "            sorted_array[i] = array2[i2]\n",
    "            i2 += 1\n",
    "        elif i2 == N2:#array2 is already empty\n",
    "            sorted_array[i] = array1[i1]\n",
    "            i1 += 1\n",
    "        elif array1[i1] < array2[i2]:\n",
    "            sorted_array[i] = array1[i1]\n",
    "            i1 += 1\n",
    "        else:\n",
    "            sorted_array[i] = array2[i2]\n",
    "            i2 += 1\n",
    "        i += 1\n",
    "    \n",
    "    assert i == N\n",
    "    assert i1 == N1\n",
    "    assert i2 == N2\n",
    "    \n",
    "    return sorted_array\n",
    "\n",
    "N=20\n",
    "nums = np.zeros(N)\n",
    "for i in range(N):\n",
    "    nums[i] = random.random()\n",
    "    \n",
    "print(nums)\n",
    "print(merge_sort(nums))\n",
    "print(np.sort(nums))"
   ]
  }
 ],
 "metadata": {
  "anaconda-cloud": {},
  "kernelspec": {
   "display_name": "Python 3",
   "language": "python",
   "name": "python3"
  },
  "language_info": {
   "codemirror_mode": {
    "name": "ipython",
    "version": 3
   },
   "file_extension": ".py",
   "mimetype": "text/x-python",
   "name": "python",
   "nbconvert_exporter": "python",
   "pygments_lexer": "ipython3",
   "version": "3.6.5"
  }
 },
 "nbformat": 4,
 "nbformat_minor": 1
}
