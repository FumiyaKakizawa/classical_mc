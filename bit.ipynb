{
 "cells": [
  {
   "cell_type": "code",
   "execution_count": 5,
   "metadata": {},
   "outputs": [],
   "source": [
    "from __future__ import print_function\n",
    "import numpy as np"
   ]
  },
  {
   "cell_type": "markdown",
   "metadata": {},
   "source": [
    "10進数と2進数"
   ]
  },
  {
   "cell_type": "code",
   "execution_count": 6,
   "metadata": {},
   "outputs": [
    {
     "name": "stdout",
     "output_type": "stream",
     "text": [
      "0 0b0\n",
      "1 0b1\n",
      "2 0b10\n",
      "3 0b11\n",
      "4 0b100\n",
      "5 0b101\n",
      "6 0b110\n",
      "7 0b111\n",
      "8 0b1000\n",
      "9 0b1001\n",
      "10 0b1010\n",
      "11 0b1011\n",
      "12 0b1100\n",
      "13 0b1101\n",
      "14 0b1110\n",
      "15 0b1111\n",
      "16 0b10000\n",
      "17 0b10001\n",
      "18 0b10010\n",
      "19 0b10011\n",
      "20 0b10100\n",
      "21 0b10101\n",
      "22 0b10110\n",
      "23 0b10111\n",
      "24 0b11000\n",
      "25 0b11001\n",
      "26 0b11010\n",
      "27 0b11011\n",
      "28 0b11100\n",
      "29 0b11101\n",
      "30 0b11110\n",
      "31 0b11111\n"
     ]
    }
   ],
   "source": [
    "N = 5\n",
    "\n",
    "for i in range(2**5):\n",
    "    print(i, bin(i))"
   ]
  },
  {
   "cell_type": "markdown",
   "metadata": {},
   "source": [
    "整数の各bitを右から求める\n",
    "シフト演算 (&)については、\n",
    "https://qiita.com/7shi/items/41d262ca11ea16d85abc"
   ]
  },
  {
   "cell_type": "code",
   "execution_count": 18,
   "metadata": {},
   "outputs": [
    {
     "name": "stdout",
     "output_type": "stream",
     "text": [
      "[0 0 1 1]\n",
      "0b1100\n"
     ]
    }
   ],
   "source": [
    "def bits(some_int, num_bits):\n",
    "    bits = np.empty(num_bits, dtype=int)\n",
    "    int_shifted = some_int\n",
    "    for i in range(num_bits):\n",
    "        bits[i] = int_shifted & 1\n",
    "        int_shifted = int_shifted >> 1\n",
    "    return bits\n",
    "\n",
    "some_int = 12\n",
    "\n",
    "print(bits(some_int, 4))\n",
    "print(bin(some_int))\n",
    "    "
   ]
  },
  {
   "cell_type": "markdown",
   "metadata": {},
   "source": [
    "すべてのスピン状態を機械的に生成できる"
   ]
  },
  {
   "cell_type": "code",
   "execution_count": 19,
   "metadata": {},
   "outputs": [
    {
     "name": "stdout",
     "output_type": "stream",
     "text": [
      "[0 0 0 0 0]\n",
      "[1 0 0 0 0]\n",
      "[0 1 0 0 0]\n",
      "[1 1 0 0 0]\n",
      "[0 0 1 0 0]\n",
      "[1 0 1 0 0]\n",
      "[0 1 1 0 0]\n",
      "[1 1 1 0 0]\n",
      "[0 0 0 1 0]\n",
      "[1 0 0 1 0]\n",
      "[0 1 0 1 0]\n",
      "[1 1 0 1 0]\n",
      "[0 0 1 1 0]\n",
      "[1 0 1 1 0]\n",
      "[0 1 1 1 0]\n",
      "[1 1 1 1 0]\n",
      "[0 0 0 0 1]\n",
      "[1 0 0 0 1]\n",
      "[0 1 0 0 1]\n",
      "[1 1 0 0 1]\n",
      "[0 0 1 0 1]\n",
      "[1 0 1 0 1]\n",
      "[0 1 1 0 1]\n",
      "[1 1 1 0 1]\n",
      "[0 0 0 1 1]\n",
      "[1 0 0 1 1]\n",
      "[0 1 0 1 1]\n",
      "[1 1 0 1 1]\n",
      "[0 0 1 1 1]\n",
      "[1 0 1 1 1]\n",
      "[0 1 1 1 1]\n",
      "[1 1 1 1 1]\n"
     ]
    }
   ],
   "source": [
    "# Number of spins\n",
    "Ns = 5\n",
    "for i in range(2**Ns):\n",
    "    print(bits(i, Ns))"
   ]
  }
 ],
 "metadata": {
  "kernelspec": {
   "display_name": "Python 3",
   "language": "python",
   "name": "python3"
  },
  "language_info": {
   "codemirror_mode": {
    "name": "ipython",
    "version": 2
   },
   "file_extension": ".py",
   "mimetype": "text/x-python",
   "name": "python",
   "nbconvert_exporter": "python",
   "pygments_lexer": "ipython2",
   "version": "2.7.15"
  }
 },
 "nbformat": 4,
 "nbformat_minor": 2
}
