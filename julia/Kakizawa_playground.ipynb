{
 "cells": [
  {
   "cell_type": "code",
   "execution_count": 29,
   "metadata": {},
   "outputs": [
    {
     "data": {
      "text/plain": [
       "2-element Array{Array{Tuple{Float64,Float64,Float64},1},1}:\n",
       " [(1.0, 2.0, 3.0), (1.0, 2.0, 3.0), (1.0, 2.0, 3.0)]\n",
       " [(1.0, 2.0, 3.0), (1.0, 2.0, 3.0), (1.0, 2.0, 3.0)]"
      ]
     },
     "execution_count": 29,
     "metadata": {},
     "output_type": "execute_result"
    }
   ],
   "source": [
    "using BenchmarkTools\n",
    "num_temps = 2\n",
    "num_spins = 3\n",
    "spins = [fill((1.0,2.0,3.0),num_spins) for i in 1:num_temps]\n",
    "#spins_array = fill(0.0,3,num_spins,num_temps)"
   ]
  },
  {
   "cell_type": "code",
   "execution_count": 30,
   "metadata": {},
   "outputs": [
    {
     "data": {
      "text/plain": [
       "3×3 Array{Float64,2}:\n",
       " 1.0  1.0  1.0\n",
       " 2.0  2.0  2.0\n",
       " 3.0  3.0  3.0"
      ]
     },
     "execution_count": 30,
     "metadata": {},
     "output_type": "execute_result"
    }
   ],
   "source": [
    "const HeisenbergSpin = Tuple{Float64,Float64,Float64}\n",
    "function convert_spins_to_array(spins::Vector{HeisenbergSpin})\n",
    "    N = length(spins)\n",
    "    spins_array = Array{Float64,2}(undef, 3, N)\n",
    "    for i in 1:N, j=1:3\n",
    "        spins_array[j,i] = spins[i][j]\n",
    "    end\n",
    "    spins_array\n",
    "end\n",
    "s = spins[1]\n",
    "sa = convert_spins_to_array(s)"
   ]
  },
  {
   "cell_type": "code",
   "execution_count": 31,
   "metadata": {},
   "outputs": [
    {
     "data": {
      "text/plain": [
       "BenchmarkTools.Trial: \n",
       "  memory estimate:  160 bytes\n",
       "  allocs estimate:  1\n",
       "  --------------\n",
       "  minimum time:     51.507 ns (0.00% GC)\n",
       "  median time:      61.754 ns (0.00% GC)\n",
       "  mean time:        75.608 ns (3.85% GC)\n",
       "  maximum time:     3.615 μs (0.00% GC)\n",
       "  --------------\n",
       "  samples:          10000\n",
       "  evals/sample:     980"
      ]
     },
     "execution_count": 31,
     "metadata": {},
     "output_type": "execute_result"
    }
   ],
   "source": [
    "s = spins[1]\n",
    "@benchmark convert_spins_to_array(s)"
   ]
  },
  {
   "cell_type": "code",
   "execution_count": 32,
   "metadata": {},
   "outputs": [
    {
     "data": {
      "text/plain": [
       "3×3×2 Array{Float64,3}:\n",
       "[:, :, 1] =\n",
       " 1.0  1.0  1.0\n",
       " 2.0  2.0  2.0\n",
       " 3.0  3.0  3.0\n",
       "\n",
       "[:, :, 2] =\n",
       " 1.0  1.0  1.0\n",
       " 2.0  2.0  2.0\n",
       " 3.0  3.0  3.0"
      ]
     },
     "execution_count": 32,
     "metadata": {},
     "output_type": "execute_result"
    }
   ],
   "source": [
    "function test1(spins,num_spins,num_temps)\n",
    "\tspins_array = fill(0.0,3,num_spins,num_temps)\n",
    "\tfor i in 1:num_temps\n",
    "\t\tspins_array[:,:,i] = convert_spins_to_array(spins[i])\n",
    "\tend\n",
    "\tspins_array\n",
    "end\n",
    "spins_array = test1(spins)"
   ]
  },
  {
   "cell_type": "code",
   "execution_count": 33,
   "metadata": {},
   "outputs": [
    {
     "data": {
      "text/plain": [
       "BenchmarkTools.Trial: \n",
       "  memory estimate:  544 bytes\n",
       "  allocs estimate:  3\n",
       "  --------------\n",
       "  minimum time:     202.655 ns (0.00% GC)\n",
       "  median time:      234.669 ns (0.00% GC)\n",
       "  mean time:        266.464 ns (3.94% GC)\n",
       "  maximum time:     8.933 μs (0.00% GC)\n",
       "  --------------\n",
       "  samples:          10000\n",
       "  evals/sample:     473"
      ]
     },
     "execution_count": 33,
     "metadata": {},
     "output_type": "execute_result"
    }
   ],
   "source": [
    "@benchmark test1(spins)"
   ]
  },
  {
   "cell_type": "code",
   "execution_count": 34,
   "metadata": {},
   "outputs": [
    {
     "data": {
      "text/plain": [
       "test2! (generic function with 2 methods)"
      ]
     },
     "execution_count": 34,
     "metadata": {},
     "output_type": "execute_result"
    }
   ],
   "source": [
    "function test2!(spins,spins_array,num_temps,num_spins)\n",
    "\t\n",
    "\tfor i in 1:num_temps\n",
    "\t\tspins_array[:,:,i] = convert_spins_to_array(spins[i])\n",
    "\tend\n",
    "end"
   ]
  },
  {
   "cell_type": "code",
   "execution_count": 35,
   "metadata": {},
   "outputs": [
    {
     "data": {
      "text/plain": [
       "BenchmarkTools.Trial: \n",
       "  memory estimate:  1.28 KiB\n",
       "  allocs estimate:  51\n",
       "  --------------\n",
       "  minimum time:     3.415 μs (0.00% GC)\n",
       "  median time:      4.060 μs (0.00% GC)\n",
       "  mean time:        4.421 μs (1.74% GC)\n",
       "  maximum time:     411.993 μs (98.09% GC)\n",
       "  --------------\n",
       "  samples:          10000\n",
       "  evals/sample:     8"
      ]
     },
     "execution_count": 35,
     "metadata": {},
     "output_type": "execute_result"
    }
   ],
   "source": [
    "spins_array = fill(0.0,3,num_spins,num_temps)\n",
    "@benchmark test2!(spins,spins_array) "
   ]
  },
  {
   "cell_type": "markdown",
   "metadata": {},
   "source": [
    "多分、"
   ]
  },
  {
   "cell_type": "code",
   "execution_count": null,
   "metadata": {},
   "outputs": [],
   "source": []
  }
 ],
 "metadata": {
  "kernelspec": {
   "display_name": "Julia 1.4.0",
   "language": "julia",
   "name": "julia-1.4"
  },
  "language_info": {
   "file_extension": ".jl",
   "mimetype": "application/julia",
   "name": "julia",
   "version": "1.4.0"
  }
 },
 "nbformat": 4,
 "nbformat_minor": 4
}
