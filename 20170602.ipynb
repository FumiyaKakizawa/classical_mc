{
 "cells": [
  {
   "cell_type": "markdown",
   "metadata": {},
   "source": [
    "# ソートと計算量"
   ]
  },
  {
   "cell_type": "code",
   "execution_count": 1,
   "metadata": {
    "collapsed": true
   },
   "outputs": [],
   "source": [
    "def bubble_sort(in_array):\n",
    "    work = np.array(in_array)\n",
    "    N = len(work)\n",
    "    while True:\n",
    "        swapped = False\n",
    "        for i in range(N-1):\n",
    "            if work[i] >= work[i+1]:\n",
    "                work[i],work[i+1] = work[i+1],work[i]\n",
    "                swapped = True\n",
    "        if not swapped:\n",
    "            break\n",
    "    return work\n",
    "\n",
    "def check_sort(in_array):\n",
    "    N = len(in_array)\n",
    "    for i in range(N-1):\n",
    "        if in_array[i] > in_array[i+1]:\n",
    "            return False\n",
    "    return True"
   ]
  },
  {
   "cell_type": "code",
   "execution_count": 3,
   "metadata": {
    "collapsed": false
   },
   "outputs": [
    {
     "name": "stdout",
     "output_type": "stream",
     "text": [
      "Done\n",
      "True\n",
      "[  8.92557461e-05   1.45078094e-04   4.39641304e-04 ...,   9.99226023e-01\n",
      "   9.99538123e-01   9.99997451e-01]\n"
     ]
    }
   ],
   "source": [
    "import random\n",
    "import numpy as np\n",
    "\n",
    "N = 5000\n",
    "nums = np.random.rand(N)\n",
    "r = bubble_sort(nums)\n",
    "print(\"Done\")\n",
    "print(check_sort(r))\n",
    "print(r)"
   ]
  },
  {
   "cell_type": "code",
   "execution_count": 4,
   "metadata": {
    "collapsed": false
   },
   "outputs": [],
   "source": [
    "import random\n",
    "import numpy as np\n",
    "\n",
    "\n",
    "#input: in_array is an array to be sorted. This array wont'be modified.\n",
    "#This function returns a sorted array.\n",
    "def merge_sort(in_array):\n",
    "    N = len(in_array)\n",
    "    if N==1:\n",
    "        return in_array\n",
    "    \n",
    "    N1 = int(N/2)\n",
    "    N2 = N - N1\n",
    "    \n",
    "    #Divide in_array into two subarrays and sort them independently.\n",
    "    array1 = merge_sort(in_array[0:N1])\n",
    "    array2 = merge_sort(in_array[N1:])\n",
    "\n",
    "    sorted_array = np.zeros_like(in_array)\n",
    "    \n",
    "    #Then, we merge the two subarrays into a single array.\n",
    "    i1 = i2 = 0\n",
    "    i = 0\n",
    "    while i < N:\n",
    "        if i1 == N1:#array1 is already empty\n",
    "            sorted_array[i] = array2[i2]\n",
    "            i2 += 1\n",
    "        elif i2 == N2:#array2 is already empty\n",
    "            sorted_array[i] = array1[i1]\n",
    "            i1 += 1\n",
    "        elif array1[i1] < array2[i2]:\n",
    "            sorted_array[i] = array1[i1]\n",
    "            i1 += 1\n",
    "        else:\n",
    "            sorted_array[i] = array2[i2]\n",
    "            i2 += 1\n",
    "        i += 1\n",
    "\n",
    "    \n",
    "    return sorted_array"
   ]
  },
  {
   "cell_type": "code",
   "execution_count": 6,
   "metadata": {
    "collapsed": false
   },
   "outputs": [
    {
     "name": "stdout",
     "output_type": "stream",
     "text": [
      "Done\n",
      "True\n"
     ]
    }
   ],
   "source": [
    "import random\n",
    "import numpy as np\n",
    "\n",
    "N = 100000\n",
    "nums = np.random.rand(N)\n",
    "r = merge_sort(nums)\n",
    "print(\"Done\")\n",
    "print(check_sort(r))"
   ]
  },
  {
   "cell_type": "code",
   "execution_count": 26,
   "metadata": {
    "collapsed": false
   },
   "outputs": [
    {
     "name": "stdout",
     "output_type": "stream",
     "text": [
      "92103.4037198\n",
      "100000000\n"
     ]
    }
   ],
   "source": [
    "print(10000*np.log(10000))\n",
    "print(10000**2)"
   ]
  },
  {
   "cell_type": "markdown",
   "metadata": {},
   "source": [
    "# 探索"
   ]
  },
  {
   "cell_type": "code",
   "execution_count": 6,
   "metadata": {
    "collapsed": false
   },
   "outputs": [
    {
     "name": "stdout",
     "output_type": "stream",
     "text": [
      "99823\n"
     ]
    }
   ],
   "source": [
    "import numpy as np\n",
    "import random\n",
    "\n",
    "N = 1000000\n",
    "nums = np.random.rand(N)\n",
    "\n",
    "nr = (0.4, 0.5)\n",
    "#Count numbers in the range of (nr[0], nr[1])\n",
    "\n",
    "def count_nums(a, nr):\n",
    "    count = 0\n",
    "    for r in a:\n",
    "        if nr[0] < r and r < nr[1]:\n",
    "            count += 1\n",
    "    return count\n",
    "\n",
    "print(count_nums(nums, nr))"
   ]
  },
  {
   "cell_type": "code",
   "execution_count": 5,
   "metadata": {
    "collapsed": false
   },
   "outputs": [
    {
     "name": "stdout",
     "output_type": "stream",
     "text": [
      "[  2.67121735e-07   1.23072549e-06   2.45905687e-06   3.19048821e-06\n",
      "   7.16430495e-06   7.67104011e-06   8.49471285e-06   9.75246744e-06\n",
      "   1.11263630e-05   1.20100679e-05]\n"
     ]
    }
   ],
   "source": [
    "#first sort the array\n",
    "sorted_nums = merge_sort(nums)\n",
    "print(\"done\")"
   ]
  },
  {
   "cell_type": "code",
   "execution_count": 15,
   "metadata": {
    "collapsed": false
   },
   "outputs": [
    {
     "name": "stdout",
     "output_type": "stream",
     "text": [
      "[0.9512492197100073, 0.951249219768215]\n",
      "-3.010149074444968e-11\n"
     ]
    }
   ],
   "source": [
    "#Find the zero of f(x)\n",
    "def f(x):\n",
    "    return x**2 - 1 + 0.1*x\n",
    "\n",
    "r = [0, 2.0]\n",
    "while r[1]-r[0] > 1e-10:\n",
    "    m = 0.5*(r[0] + r[1])\n",
    "    if f(m) * f(r[0]) > 0.0:\n",
    "        r[0] = m\n",
    "    else:\n",
    "        r[1] = m\n",
    "print(r)\n",
    "print(f(r[0]))"
   ]
  }
 ],
 "metadata": {
  "anaconda-cloud": {},
  "kernelspec": {
   "display_name": "Python 3",
   "language": "python",
   "name": "python3"
  },
  "language_info": {
   "codemirror_mode": {
    "name": "ipython",
    "version": 3
   },
   "file_extension": ".py",
   "mimetype": "text/x-python",
   "name": "python",
   "nbconvert_exporter": "python",
   "pygments_lexer": "ipython3",
   "version": "3.5.2"
  }
 },
 "nbformat": 4,
 "nbformat_minor": 1
}
