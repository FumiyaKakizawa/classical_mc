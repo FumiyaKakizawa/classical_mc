{
 "cells": [
  {
   "cell_type": "code",
   "execution_count": 1,
   "metadata": {},
   "outputs": [
    {
     "name": "stdout",
     "output_type": "stream",
     "text": [
      "Julia Version 1.4.0\n",
      "Commit b8e9a9ecc6 (2020-03-21 16:36 UTC)\n",
      "Platform Info:\n",
      "  OS: Linux (x86_64-pc-linux-gnu)\n",
      "  CPU: Intel(R) Xeon(R) Platinum 8280 CPU @ 2.70GHz\n",
      "  WORD_SIZE: 64\n",
      "  LIBM: libopenlibm\n",
      "  LLVM: libLLVM-8.0.1 (ORCJIT, skylake)\n",
      "Environment:\n",
      "  JULIA_DEPOT_PATH = /work/go85/o85002/.julia\n",
      "  JULIA_DIR = /work/opt/local/apps/julia/1.4.0\n"
     ]
    }
   ],
   "source": [
    "versioninfo()"
   ]
  },
  {
   "cell_type": "code",
   "execution_count": 2,
   "metadata": {},
   "outputs": [
    {
     "name": "stdout",
     "output_type": "stream",
     "text": [
      "/work/00/go85/o85002/non_eq_relax/J2_-5e-3/L300\n"
     ]
    },
    {
     "data": {
      "text/plain": [
       "Process(`\u001b[4mpwd\u001b[24m`, ProcessExited(0))"
      ]
     },
     "execution_count": 2,
     "metadata": {},
     "output_type": "execute_result"
    }
   ],
   "source": [
    "mycommand = `pwd`\n",
    "run(mycommand)"
   ]
  },
  {
   "cell_type": "code",
   "execution_count": 3,
   "metadata": {},
   "outputs": [],
   "source": [
    "using Interpolations\n",
    "using Printf\n",
    "using Optim\n",
    "using PyPlot\n",
    "using LinearAlgebra\n",
    "using HDF5"
   ]
  },
  {
   "cell_type": "code",
   "execution_count": 4,
   "metadata": {},
   "outputs": [
    {
     "data": {
      "text/plain": [
       "read_from_hdf5 (generic function with 1 method)"
      ]
     },
     "execution_count": 4,
     "metadata": {},
     "output_type": "execute_result"
    }
   ],
   "source": [
    "function read_from_hdf5(h5file,obs_name)\n",
    "\tfid = h5open(h5file,\"r\")\n",
    "\ttemps = fid[\"temperatures\"][:]\n",
    "\tobs   = fid[obs_name*\"/mean\"]\n",
    "\ttimes = [i for i in 1:size(obs)[1]]\n",
    "\treturn temps,obs,times\n",
    "end"
   ]
  },
  {
   "cell_type": "code",
   "execution_count": 5,
   "metadata": {},
   "outputs": [
    {
     "data": {
      "text/plain": [
       "([0.01, 0.015, 0.02, 0.025, 0.03, 0.035, 0.04, 0.045, 0.05, 0.055, 0.06, 0.065, 0.07, 0.075, 0.08, 0.085, 0.09, 0.095, 0.1], HDF5 dataset: /afvc_corr/mean (file: 2d_out.h5 xfer_mode: 0), [1, 2, 3, 4, 5, 6, 7, 8, 9, 10  …  9992, 9993, 9994, 9995, 9996, 9997, 9998, 9999, 10000, 10001])"
      ]
     },
     "execution_count": 5,
     "metadata": {},
     "output_type": "execute_result"
    }
   ],
   "source": [
    "h5file = \"2d_out.h5\"\n",
    "obs_name = \"afvc_corr\"\n",
    "temps,m_data,times = read_from_hdf5(h5file,obs_name)"
   ]
  },
  {
   "cell_type": "code",
   "execution_count": 6,
   "metadata": {},
   "outputs": [
    {
     "ename": "PyCall.PyError",
     "evalue": "\u001b[91mPyError ($(Expr(:escape, :(ccall(#= /work/go85/o85002/.julia/packages/PyCall/zqDXB/src/pyfncall.jl:43 =# @pysym(:PyObject_Call), PyPtr, (PyPtr, PyPtr, PyPtr), o, pyargsptr, kw))))) <type 'exceptions.ValueError'>\u001b[39m\n\u001b[91mValueError('Data has no positive values, and therefore can not be log-scaled.',)\u001b[39m\n\u001b[91m  File \"/usr/lib64/python2.7/site-packages/matplotlib/pyplot.py\", line 2954, in semilogy\u001b[39m\n\u001b[91m    ret = ax.semilogy(*args, **kwargs)\u001b[39m\n\u001b[91m  File \"/usr/lib64/python2.7/site-packages/matplotlib/axes.py\", line 4232, in semilogy\u001b[39m\n\u001b[91m    l = self.plot(*args, **kwargs)\u001b[39m\n\u001b[91m  File \"/usr/lib64/python2.7/site-packages/matplotlib/axes.py\", line 4000, in plot\u001b[39m\n\u001b[91m    self.autoscale_view(scalex=scalex, scaley=scaley)\u001b[39m\n\u001b[91m  File \"/usr/lib64/python2.7/site-packages/matplotlib/axes.py\", line 1967, in autoscale_view\u001b[39m\n\u001b[91m    y0, y1 = ylocator.view_limits(y0, y1)\u001b[39m\n\u001b[91m  File \"/usr/lib64/python2.7/site-packages/matplotlib/ticker.py\", line 1485, in view_limits\u001b[39m\n\u001b[91m    \"Data has no positive values, and therefore can not be \"\u001b[39m\n",
     "output_type": "error",
     "traceback": [
      "\u001b[91mPyError ($(Expr(:escape, :(ccall(#= /work/go85/o85002/.julia/packages/PyCall/zqDXB/src/pyfncall.jl:43 =# @pysym(:PyObject_Call), PyPtr, (PyPtr, PyPtr, PyPtr), o, pyargsptr, kw))))) <type 'exceptions.ValueError'>\u001b[39m\n\u001b[91mValueError('Data has no positive values, and therefore can not be log-scaled.',)\u001b[39m\n\u001b[91m  File \"/usr/lib64/python2.7/site-packages/matplotlib/pyplot.py\", line 2954, in semilogy\u001b[39m\n\u001b[91m    ret = ax.semilogy(*args, **kwargs)\u001b[39m\n\u001b[91m  File \"/usr/lib64/python2.7/site-packages/matplotlib/axes.py\", line 4232, in semilogy\u001b[39m\n\u001b[91m    l = self.plot(*args, **kwargs)\u001b[39m\n\u001b[91m  File \"/usr/lib64/python2.7/site-packages/matplotlib/axes.py\", line 4000, in plot\u001b[39m\n\u001b[91m    self.autoscale_view(scalex=scalex, scaley=scaley)\u001b[39m\n\u001b[91m  File \"/usr/lib64/python2.7/site-packages/matplotlib/axes.py\", line 1967, in autoscale_view\u001b[39m\n\u001b[91m    y0, y1 = ylocator.view_limits(y0, y1)\u001b[39m\n\u001b[91m  File \"/usr/lib64/python2.7/site-packages/matplotlib/ticker.py\", line 1485, in view_limits\u001b[39m\n\u001b[91m    \"Data has no positive values, and therefore can not be \"\u001b[39m\n",
      "",
      "Stacktrace:",
      " [1] pyerr_check at /work/go85/o85002/.julia/packages/PyCall/zqDXB/src/exception.jl:60 [inlined]",
      " [2] pyerr_check at /work/go85/o85002/.julia/packages/PyCall/zqDXB/src/exception.jl:64 [inlined]",
      " [3] _handle_error(::String) at /work/go85/o85002/.julia/packages/PyCall/zqDXB/src/exception.jl:81",
      " [4] macro expansion at /work/go85/o85002/.julia/packages/PyCall/zqDXB/src/exception.jl:95 [inlined]",
      " [5] #110 at /work/go85/o85002/.julia/packages/PyCall/zqDXB/src/pyfncall.jl:43 [inlined]",
      " [6] disable_sigint at ./c.jl:446 [inlined]",
      " [7] __pycall! at /work/go85/o85002/.julia/packages/PyCall/zqDXB/src/pyfncall.jl:42 [inlined]",
      " [8] _pycall!(::PyCall.PyObject, ::PyCall.PyObject, ::Tuple{Array{Int64,1},Array{Float64,1}}, ::Int64, ::PyCall.PyObject) at /work/go85/o85002/.julia/packages/PyCall/zqDXB/src/pyfncall.jl:29",
      " [9] _pycall!(::PyCall.PyObject, ::PyCall.PyObject, ::Tuple{Array{Int64,1},Array{Float64,1}}, ::Base.Iterators.Pairs{Symbol,String,Tuple{Symbol},NamedTuple{(:label,),Tuple{String}}}) at /work/go85/o85002/.julia/packages/PyCall/zqDXB/src/pyfncall.jl:11",
      " [10] #_#117 at /work/go85/o85002/.julia/packages/PyCall/zqDXB/src/pyfncall.jl:86 [inlined]",
      " [11] top-level scope at ./In[6]:6"
     ]
    }
   ],
   "source": [
    "# cut too low temperature datas\n",
    "num_temps = length(temps)\n",
    "min_temp  = 1\n",
    "max_temp  = num_temps\n",
    "for it in min_temp:max_temp\n",
    "\tplt.semilogy(times,m_data[:,it],label=\"$(temps[it])\")\n",
    "end\n",
    "plt.title(\"$(obs_name) J2/J1 = -5e-3, L= 900\")\n",
    "plt.xscale(\"log\")\n",
    "plt.xlim(1,length(times)*15)\n",
    "plt.ylim(1e-6,1)\n",
    "\n",
    "plt.legend(loc=\"upper right\")\n",
    "plt.show()"
   ]
  },
  {
   "cell_type": "code",
   "execution_count": 7,
   "metadata": {},
   "outputs": [],
   "source": [
    "#=\n",
    "#load average data from text file\n",
    "temps = [0.112,0.113,0.114,0.115,0.116]\n",
    "file_idx = [3,4,5,6,7]\n",
    "num_temps = length(temps)\n",
    "mc_steps  = 20000 \n",
    "m_data = Array{Float64}(undef,mc_steps,num_temps)\n",
    "counter = 1\n",
    "for ifl in file_idx\n",
    "\topen(\"mq_sqrt3_$(ifl).dat\",\"r\") do fp\n",
    "\t\tfor is in 1:mc_steps\n",
    "\t\t\tstr = split(readline(fp))\n",
    "\t\t\tm_data[is,counter] = parse(Float64,str[2])\n",
    "\t\tend\n",
    "\tend\n",
    "\tcounter += 1\n",
    "end\n",
    "=#"
   ]
  },
  {
   "cell_type": "code",
   "execution_count": 8,
   "metadata": {},
   "outputs": [
    {
     "data": {
      "text/plain": [
       "HDF5 dataset: /afvc_corr/mean (file: 2d_out.h5 xfer_mode: 0)"
      ]
     },
     "execution_count": 8,
     "metadata": {},
     "output_type": "execute_result"
    }
   ],
   "source": [
    "m_data"
   ]
  },
  {
   "cell_type": "code",
   "execution_count": 9,
   "metadata": {},
   "outputs": [
    {
     "name": "stdout",
     "output_type": "stream",
     "text": [
      "19\n"
     ]
    },
    {
     "ename": "PyCall.PyError",
     "evalue": "\u001b[91mPyError ($(Expr(:escape, :(ccall(#= /work/go85/o85002/.julia/packages/PyCall/zqDXB/src/pyfncall.jl:43 =# @pysym(:PyObject_Call), PyPtr, (PyPtr, PyPtr, PyPtr), o, pyargsptr, kw))))) <type 'exceptions.ValueError'>\u001b[39m\n\u001b[91mValueError('Data has no positive values, and therefore can not be log-scaled.',)\u001b[39m\n\u001b[91m  File \"/usr/lib64/python2.7/site-packages/matplotlib/pyplot.py\", line 2954, in semilogy\u001b[39m\n\u001b[91m    ret = ax.semilogy(*args, **kwargs)\u001b[39m\n\u001b[91m  File \"/usr/lib64/python2.7/site-packages/matplotlib/axes.py\", line 4232, in semilogy\u001b[39m\n\u001b[91m    l = self.plot(*args, **kwargs)\u001b[39m\n\u001b[91m  File \"/usr/lib64/python2.7/site-packages/matplotlib/axes.py\", line 4000, in plot\u001b[39m\n\u001b[91m    self.autoscale_view(scalex=scalex, scaley=scaley)\u001b[39m\n\u001b[91m  File \"/usr/lib64/python2.7/site-packages/matplotlib/axes.py\", line 1967, in autoscale_view\u001b[39m\n\u001b[91m    y0, y1 = ylocator.view_limits(y0, y1)\u001b[39m\n\u001b[91m  File \"/usr/lib64/python2.7/site-packages/matplotlib/ticker.py\", line 1485, in view_limits\u001b[39m\n\u001b[91m    \"Data has no positive values, and therefore can not be \"\u001b[39m\n",
     "output_type": "error",
     "traceback": [
      "\u001b[91mPyError ($(Expr(:escape, :(ccall(#= /work/go85/o85002/.julia/packages/PyCall/zqDXB/src/pyfncall.jl:43 =# @pysym(:PyObject_Call), PyPtr, (PyPtr, PyPtr, PyPtr), o, pyargsptr, kw))))) <type 'exceptions.ValueError'>\u001b[39m\n\u001b[91mValueError('Data has no positive values, and therefore can not be log-scaled.',)\u001b[39m\n\u001b[91m  File \"/usr/lib64/python2.7/site-packages/matplotlib/pyplot.py\", line 2954, in semilogy\u001b[39m\n\u001b[91m    ret = ax.semilogy(*args, **kwargs)\u001b[39m\n\u001b[91m  File \"/usr/lib64/python2.7/site-packages/matplotlib/axes.py\", line 4232, in semilogy\u001b[39m\n\u001b[91m    l = self.plot(*args, **kwargs)\u001b[39m\n\u001b[91m  File \"/usr/lib64/python2.7/site-packages/matplotlib/axes.py\", line 4000, in plot\u001b[39m\n\u001b[91m    self.autoscale_view(scalex=scalex, scaley=scaley)\u001b[39m\n\u001b[91m  File \"/usr/lib64/python2.7/site-packages/matplotlib/axes.py\", line 1967, in autoscale_view\u001b[39m\n\u001b[91m    y0, y1 = ylocator.view_limits(y0, y1)\u001b[39m\n\u001b[91m  File \"/usr/lib64/python2.7/site-packages/matplotlib/ticker.py\", line 1485, in view_limits\u001b[39m\n\u001b[91m    \"Data has no positive values, and therefore can not be \"\u001b[39m\n",
      "",
      "Stacktrace:",
      " [1] pyerr_check at /work/go85/o85002/.julia/packages/PyCall/zqDXB/src/exception.jl:60 [inlined]",
      " [2] pyerr_check at /work/go85/o85002/.julia/packages/PyCall/zqDXB/src/exception.jl:64 [inlined]",
      " [3] _handle_error(::String) at /work/go85/o85002/.julia/packages/PyCall/zqDXB/src/exception.jl:81",
      " [4] macro expansion at /work/go85/o85002/.julia/packages/PyCall/zqDXB/src/exception.jl:95 [inlined]",
      " [5] #110 at /work/go85/o85002/.julia/packages/PyCall/zqDXB/src/pyfncall.jl:43 [inlined]",
      " [6] disable_sigint at ./c.jl:446 [inlined]",
      " [7] __pycall! at /work/go85/o85002/.julia/packages/PyCall/zqDXB/src/pyfncall.jl:42 [inlined]",
      " [8] _pycall!(::PyCall.PyObject, ::PyCall.PyObject, ::Tuple{Array{Int64,1},Array{Float64,1}}, ::Int64, ::PyCall.PyObject) at /work/go85/o85002/.julia/packages/PyCall/zqDXB/src/pyfncall.jl:29",
      " [9] _pycall!(::PyCall.PyObject, ::PyCall.PyObject, ::Tuple{Array{Int64,1},Array{Float64,1}}, ::Base.Iterators.Pairs{Symbol,String,Tuple{Symbol},NamedTuple{(:label,),Tuple{String}}}) at /work/go85/o85002/.julia/packages/PyCall/zqDXB/src/pyfncall.jl:11",
      " [10] #_#117 at /work/go85/o85002/.julia/packages/PyCall/zqDXB/src/pyfncall.jl:86 [inlined]",
      " [11] top-level scope at ./In[9]:5"
     ]
    }
   ],
   "source": [
    "num_temps = length(temps)\n",
    "println(num_temps)\n",
    "times = [i for i in 1:size(m_data)[1]]\n",
    "for it in 1:num_temps\n",
    "\tplt.semilogy(times[10:end],m_data[:,it][10:end],label=\"$(temps[it])\")\n",
    "end\n",
    "plt.title(\"$(obs_name) J2/J1 = -5e-3, L= 900\")\n",
    "#plt.xscale(\"log\")\n",
    "plt.xlim(1,length(times)*1.5)\n",
    "plt.ylim(1e-3,1)\n",
    "plt.legend(loc=\"upper right\")\n",
    "plt.show()"
   ]
  },
  {
   "cell_type": "code",
   "execution_count": 10,
   "metadata": {},
   "outputs": [
    {
     "data": {
      "text/plain": [
       "10001×5 Array{Float64,2}:\n",
       " 0.0  0.0  0.0  0.0  0.0\n",
       " 0.0  0.0  0.0  0.0  0.0\n",
       " 0.0  0.0  0.0  0.0  0.0\n",
       " 0.0  0.0  0.0  0.0  0.0\n",
       " 0.0  0.0  0.0  0.0  0.0\n",
       " 0.0  0.0  0.0  0.0  0.0\n",
       " 0.0  0.0  0.0  0.0  0.0\n",
       " 0.0  0.0  0.0  0.0  0.0\n",
       " 0.0  0.0  0.0  0.0  0.0\n",
       " 0.0  0.0  0.0  0.0  0.0\n",
       " 0.0  0.0  0.0  0.0  0.0\n",
       " 0.0  0.0  0.0  0.0  0.0\n",
       " 0.0  0.0  0.0  0.0  0.0\n",
       " ⋮                   \n",
       " 0.0  0.0  0.0  0.0  0.0\n",
       " 0.0  0.0  0.0  0.0  0.0\n",
       " 0.0  0.0  0.0  0.0  0.0\n",
       " 0.0  0.0  0.0  0.0  0.0\n",
       " 0.0  0.0  0.0  0.0  0.0\n",
       " 0.0  0.0  0.0  0.0  0.0\n",
       " 0.0  0.0  0.0  0.0  0.0\n",
       " 0.0  0.0  0.0  0.0  0.0\n",
       " 0.0  0.0  0.0  0.0  0.0\n",
       " 0.0  0.0  0.0  0.0  0.0\n",
       " 0.0  0.0  0.0  0.0  0.0\n",
       " 0.0  0.0  0.0  0.0  0.0"
      ]
     },
     "execution_count": 10,
     "metadata": {},
     "output_type": "execute_result"
    }
   ],
   "source": [
    "# reshape some datas for optimization.\n",
    "min_temp = 1\n",
    "max_temp = 5\n",
    "temps  = temps[min_temp:max_temp]\n",
    "num_temps = length(temps)\n",
    "m_data = m_data[:,min_temp:max_temp]\n"
   ]
  },
  {
   "cell_type": "code",
   "execution_count": 11,
   "metadata": {},
   "outputs": [
    {
     "ename": "PyCall.PyError",
     "evalue": "\u001b[91mPyError ($(Expr(:escape, :(ccall(#= /work/go85/o85002/.julia/packages/PyCall/zqDXB/src/pyfncall.jl:43 =# @pysym(:PyObject_Call), PyPtr, (PyPtr, PyPtr, PyPtr), o, pyargsptr, kw))))) <type 'exceptions.ValueError'>\u001b[39m\n\u001b[91mValueError('Data has no positive values, and therefore can not be log-scaled.',)\u001b[39m\n\u001b[91m  File \"/usr/lib64/python2.7/site-packages/matplotlib/pyplot.py\", line 2954, in semilogy\u001b[39m\n\u001b[91m    ret = ax.semilogy(*args, **kwargs)\u001b[39m\n\u001b[91m  File \"/usr/lib64/python2.7/site-packages/matplotlib/axes.py\", line 4232, in semilogy\u001b[39m\n\u001b[91m    l = self.plot(*args, **kwargs)\u001b[39m\n\u001b[91m  File \"/usr/lib64/python2.7/site-packages/matplotlib/axes.py\", line 4000, in plot\u001b[39m\n\u001b[91m    self.autoscale_view(scalex=scalex, scaley=scaley)\u001b[39m\n\u001b[91m  File \"/usr/lib64/python2.7/site-packages/matplotlib/axes.py\", line 1967, in autoscale_view\u001b[39m\n\u001b[91m    y0, y1 = ylocator.view_limits(y0, y1)\u001b[39m\n\u001b[91m  File \"/usr/lib64/python2.7/site-packages/matplotlib/ticker.py\", line 1485, in view_limits\u001b[39m\n\u001b[91m    \"Data has no positive values, and therefore can not be \"\u001b[39m\n",
     "output_type": "error",
     "traceback": [
      "\u001b[91mPyError ($(Expr(:escape, :(ccall(#= /work/go85/o85002/.julia/packages/PyCall/zqDXB/src/pyfncall.jl:43 =# @pysym(:PyObject_Call), PyPtr, (PyPtr, PyPtr, PyPtr), o, pyargsptr, kw))))) <type 'exceptions.ValueError'>\u001b[39m\n\u001b[91mValueError('Data has no positive values, and therefore can not be log-scaled.',)\u001b[39m\n\u001b[91m  File \"/usr/lib64/python2.7/site-packages/matplotlib/pyplot.py\", line 2954, in semilogy\u001b[39m\n\u001b[91m    ret = ax.semilogy(*args, **kwargs)\u001b[39m\n\u001b[91m  File \"/usr/lib64/python2.7/site-packages/matplotlib/axes.py\", line 4232, in semilogy\u001b[39m\n\u001b[91m    l = self.plot(*args, **kwargs)\u001b[39m\n\u001b[91m  File \"/usr/lib64/python2.7/site-packages/matplotlib/axes.py\", line 4000, in plot\u001b[39m\n\u001b[91m    self.autoscale_view(scalex=scalex, scaley=scaley)\u001b[39m\n\u001b[91m  File \"/usr/lib64/python2.7/site-packages/matplotlib/axes.py\", line 1967, in autoscale_view\u001b[39m\n\u001b[91m    y0, y1 = ylocator.view_limits(y0, y1)\u001b[39m\n\u001b[91m  File \"/usr/lib64/python2.7/site-packages/matplotlib/ticker.py\", line 1485, in view_limits\u001b[39m\n\u001b[91m    \"Data has no positive values, and therefore can not be \"\u001b[39m\n",
      "",
      "Stacktrace:",
      " [1] pyerr_check at /work/go85/o85002/.julia/packages/PyCall/zqDXB/src/exception.jl:60 [inlined]",
      " [2] pyerr_check at /work/go85/o85002/.julia/packages/PyCall/zqDXB/src/exception.jl:64 [inlined]",
      " [3] _handle_error(::String) at /work/go85/o85002/.julia/packages/PyCall/zqDXB/src/exception.jl:81",
      " [4] macro expansion at /work/go85/o85002/.julia/packages/PyCall/zqDXB/src/exception.jl:95 [inlined]",
      " [5] #110 at /work/go85/o85002/.julia/packages/PyCall/zqDXB/src/pyfncall.jl:43 [inlined]",
      " [6] disable_sigint at ./c.jl:446 [inlined]",
      " [7] __pycall! at /work/go85/o85002/.julia/packages/PyCall/zqDXB/src/pyfncall.jl:42 [inlined]",
      " [8] _pycall!(::PyCall.PyObject, ::PyCall.PyObject, ::Tuple{Array{Float64,1},Array{Float64,1}}, ::Int64, ::PyCall.PyObject) at /work/go85/o85002/.julia/packages/PyCall/zqDXB/src/pyfncall.jl:29",
      " [9] _pycall!(::PyCall.PyObject, ::PyCall.PyObject, ::Tuple{Array{Float64,1},Array{Float64,1}}, ::Base.Iterators.Pairs{Symbol,String,Tuple{Symbol,Symbol},NamedTuple{(:marker, :label),Tuple{String,String}}}) at /work/go85/o85002/.julia/packages/PyCall/zqDXB/src/pyfncall.jl:11",
      " [10] #_#117 at /work/go85/o85002/.julia/packages/PyCall/zqDXB/src/pyfncall.jl:86 [inlined]",
      " [11] top-level scope at ./In[11]:8"
     ]
    }
   ],
   "source": [
    "# search configuration of tau which put some curves on one curve.\n",
    "taus   = [120,95.,50.,30.,20.0]\n",
    "@assert length(taus) == max_temp - min_temp + 1\n",
    "lambda = 0.1\n",
    "start  = 1000\n",
    "plt.figure()\n",
    "for it in 1:num_temps\n",
    "\tplt.semilogy(times[start:end] ./ taus[it],(taus[it]^lambda)*m_data[:,it][start:end],marker=\"o\",label=\"$(temps[it])\")\n",
    "\t\n",
    "end\n",
    "plt.title(\"scaling plot before τ optimization\")\n",
    "plt.xlabel(\"t/τ\")\n",
    "plt.ylabel(\"τ^λ * raw_data\")\n",
    "plt.legend(loc=\"upper right\")\n",
    "plt.show()"
   ]
  },
  {
   "cell_type": "code",
   "execution_count": 12,
   "metadata": {},
   "outputs": [
    {
     "data": {
      "text/plain": [
       "cost (generic function with 1 method)"
      ]
     },
     "execution_count": 12,
     "metadata": {},
     "output_type": "execute_result"
    }
   ],
   "source": [
    "\"\"\"\n",
    "params: [tau1, tau2, ...]\n",
    "\"\"\"\n",
    "newaxis = [CartesianIndex()]\n",
    "function cost(params)\n",
    "    taus = params\n",
    "    nx_smpl = 10\n",
    "    x_u = minimum(times[end] ./ taus)\n",
    "    x_l = maximum(times[start] ./ taus)\n",
    "    xs_smpl = range(x_l, x_u, length=nx_smpl)\n",
    "    g_intpl = zeros((nx_smpl, length(temps)))\n",
    "    for it in eachindex(temps)\n",
    "        tau = taus[it]\n",
    "        xs = times ./ tau\n",
    "        g_data = tau^lambda * m_data[:, it]\n",
    "        itp = LinearInterpolation(xs, g_data)        \n",
    "        g_intpl[:, it] = itp.(xs_smpl)\n",
    "    end\n",
    "    g_mean = sum(g_intpl, dims=2) ./ length(temps)\n",
    "    norm(g_intpl .- g_mean[:, newaxis])^2 /  norm(g_mean)^2\n",
    "end"
   ]
  },
  {
   "cell_type": "code",
   "execution_count": 13,
   "metadata": {},
   "outputs": [
    {
     "ename": "BoundsError",
     "evalue": "\u001b[91mBoundsError: attempt to access 10001-element extrapolate(interpolate((::Array{Float64,1},), ::Array{Float64,1}, Gridded(Linear())), Throw()) with element type Float64 at index [100.25062656641603]\u001b[39m",
     "output_type": "error",
     "traceback": [
      "\u001b[91mBoundsError: attempt to access 10001-element extrapolate(interpolate((::Array{Float64,1},), ::Array{Float64,1}, Gridded(Linear())), Throw()) with element type Float64 at index [100.25062656641603]\u001b[39m",
      "",
      "Stacktrace:",
      " [1] throw_boundserror(::Interpolations.Extrapolation{Float64,1,Interpolations.GriddedInterpolation{Float64,1,Float64,Gridded{Linear},Tuple{Array{Float64,1}}},Gridded{Linear},Throw{Nothing}}, ::Tuple{Float64}) at ./abstractarray.jl:537",
      " [2] inbounds_index at /work/go85/o85002/.julia/packages/Interpolations/GIn2o/src/extrapolation/extrapolation.jl:108 [inlined]",
      " [3] inbounds_position at /work/go85/o85002/.julia/packages/Interpolations/GIn2o/src/extrapolation/extrapolation.jl:99 [inlined]",
      " [4] Extrapolation at /work/go85/o85002/.julia/packages/Interpolations/GIn2o/src/extrapolation/extrapolation.jl:48 [inlined]",
      " [5] _broadcast_getindex_evalf at ./broadcast.jl:631 [inlined]",
      " [6] _broadcast_getindex at ./broadcast.jl:604 [inlined]",
      " [7] getindex at ./broadcast.jl:564 [inlined]",
      " [8] macro expansion at ./broadcast.jl:910 [inlined]",
      " [9] macro expansion at ./simdloop.jl:77 [inlined]",
      " [10] copyto! at ./broadcast.jl:909 [inlined]",
      " [11] copyto! at ./broadcast.jl:864 [inlined]",
      " [12] copy at ./broadcast.jl:840 [inlined]",
      " [13] materialize(::Base.Broadcast.Broadcasted{Base.Broadcast.DefaultArrayStyle{1},Nothing,Interpolations.Extrapolation{Float64,1,Interpolations.GriddedInterpolation{Float64,1,Float64,Gridded{Linear},Tuple{Array{Float64,1}}},Gridded{Linear},Throw{Nothing}},Tuple{StepRangeLen{Float64,Base.TwicePrecision{Float64},Base.TwicePrecision{Float64}}}}) at ./broadcast.jl:820",
      " [14] cost(::Array{Float64,1}) at ./In[12]:17",
      " [15] value(::NonDifferentiable{Float64,Array{Float64,1}}, ::Array{Float64,1}) at /work/go85/o85002/.julia/packages/NLSolversBase/NsXIC/src/interface.jl:19",
      " [16] update_state!(::NonDifferentiable{Float64,Array{Float64,1}}, ::Optim.NelderMeadState{Array{Float64,1},Float64,Array{Float64,1}}, ::NelderMead{Optim.AffineSimplexer,Optim.AdaptiveParameters}) at /work/go85/o85002/.julia/packages/Optim/L5T76/src/multivariate/solvers/zeroth_order/nelder_mead.jl:209",
      " [17] optimize(::NonDifferentiable{Float64,Array{Float64,1}}, ::Array{Float64,1}, ::NelderMead{Optim.AffineSimplexer,Optim.AdaptiveParameters}, ::Optim.Options{Float64,Nothing}, ::Optim.NelderMeadState{Array{Float64,1},Float64,Array{Float64,1}}) at /work/go85/o85002/.julia/packages/Optim/L5T76/src/multivariate/optimize/optimize.jl:57",
      " [18] optimize(::NonDifferentiable{Float64,Array{Float64,1}}, ::Array{Float64,1}, ::NelderMead{Optim.AffineSimplexer,Optim.AdaptiveParameters}, ::Optim.Options{Float64,Nothing}) at /work/go85/o85002/.julia/packages/Optim/L5T76/src/multivariate/optimize/optimize.jl:33",
      " [19] optimize(::Function, ::Array{Float64,1}; inplace::Bool, autodiff::Symbol, kwargs::Base.Iterators.Pairs{Union{},Union{},Tuple{},NamedTuple{(),Tuple{}}}) at /work/go85/o85002/.julia/packages/Optim/L5T76/src/multivariate/optimize/interface.jl:64",
      " [20] optimize(::Function, ::Array{Float64,1}) at /work/go85/o85002/.julia/packages/Optim/L5T76/src/multivariate/optimize/interface.jl:58",
      " [21] top-level scope at In[13]:1"
     ]
    }
   ],
   "source": [
    "res = Optim.optimize(cost, taus)\n",
    "res"
   ]
  },
  {
   "cell_type": "code",
   "execution_count": 14,
   "metadata": {},
   "outputs": [
    {
     "ename": "UndefVarError",
     "evalue": "\u001b[91mUndefVarError: res not defined\u001b[39m",
     "output_type": "error",
     "traceback": [
      "\u001b[91mUndefVarError: res not defined\u001b[39m",
      "",
      "Stacktrace:",
      " [1] top-level scope at In[14]:1"
     ]
    }
   ],
   "source": [
    "taus_opt = Optim.minimizer(res)"
   ]
  },
  {
   "cell_type": "code",
   "execution_count": 15,
   "metadata": {},
   "outputs": [
    {
     "name": "stdout",
     "output_type": "stream",
     "text": [
      "T τ\n"
     ]
    },
    {
     "ename": "UndefVarError",
     "evalue": "\u001b[91mUndefVarError: taus_opt not defined\u001b[39m",
     "output_type": "error",
     "traceback": [
      "\u001b[91mUndefVarError: taus_opt not defined\u001b[39m",
      "",
      "Stacktrace:",
      " [1] top-level scope at ./In[15]:3"
     ]
    }
   ],
   "source": [
    "println(\"T τ\")\n",
    "for i in 1:num_temps \n",
    "\tprintln(temps[i],\" \",taus_opt[i])\n",
    "end\n"
   ]
  },
  {
   "cell_type": "code",
   "execution_count": 16,
   "metadata": {},
   "outputs": [
    {
     "ename": "UndefVarError",
     "evalue": "\u001b[91mUndefVarError: taus_opt not defined\u001b[39m",
     "output_type": "error",
     "traceback": [
      "\u001b[91mUndefVarError: taus_opt not defined\u001b[39m",
      "",
      "Stacktrace:",
      " [1] top-level scope at ./In[16]:3"
     ]
    }
   ],
   "source": [
    "plt.figure()\n",
    "for it in eachindex(temps)\n",
    "\tplt.semilogy(times[10:end] ./ taus_opt[it], (taus_opt[it]^lambda) * m_data[:, it][10:end], marker=\"o\",label=\"$(temps[it])\")\n",
    "    #println((taus[it]^lambda) * m_data[:, it])\n",
    "end\n",
    "plt.title(\"scaling plot after τ optimizaton\")\n",
    "plt.xlabel(\"t/τ\")\n",
    "plt.ylabel(\"τ^λ * m_data\")\n",
    "plt.legend(loc=\"upper right\")\n",
    "plt.show()"
   ]
  },
  {
   "cell_type": "code",
   "execution_count": 17,
   "metadata": {},
   "outputs": [
    {
     "data": {
      "text/plain": [
       "1.0:-0.00101010101010101:0.9"
      ]
     },
     "execution_count": 17,
     "metadata": {},
     "output_type": "execute_result"
    }
   ],
   "source": [
    "x = 1.0\n",
    "y = 0.9\n",
    "n = 100\n",
    "test = range(x,y,length=n)"
   ]
  },
  {
   "cell_type": "code",
   "execution_count": 18,
   "metadata": {},
   "outputs": [
    {
     "data": {
      "text/plain": [
       "100-element LinRange{Float64}:\n",
       " 1.0,0.99899,0.99798,0.99697,0.99596,…,0.90404,0.90303,0.90202,0.90101,0.9"
      ]
     },
     "execution_count": 18,
     "metadata": {},
     "output_type": "execute_result"
    }
   ],
   "source": [
    "test = LinRange(x,y,n)\n"
   ]
  },
  {
   "cell_type": "code",
   "execution_count": null,
   "metadata": {},
   "outputs": [],
   "source": []
  }
 ],
 "metadata": {
  "kernelspec": {
   "display_name": "Julia 1.6.0",
   "language": "julia",
   "name": "julia-1.6"
  },
  "language_info": {
   "file_extension": ".jl",
   "mimetype": "application/julia",
   "name": "julia",
   "version": "1.6.0"
  }
 },
 "nbformat": 4,
 "nbformat_minor": 4
}
