{
 "cells": [
  {
   "cell_type": "markdown",
   "metadata": {},
   "source": [
    "# 数値積分 (異なる手法の比較)"
   ]
  },
  {
   "cell_type": "markdown",
   "metadata": {},
   "source": [
    "## 台形公式"
   ]
  },
  {
   "cell_type": "markdown",
   "metadata": {},
   "source": [
    "$$\\int_a^b f(x) \\mathrm{d}x$$の数値的近似解を求めたい。ただし、関数は連続で滑らか。\n",
    "区間を等間隔な幅$h$を持つ区間に分割しする。\n",
    "$$\\int_a^b f(x) \\mathrm{d}x = \\sum_{n=1}^{N-1} \\int_{a_n}^{a_{n+1}}f(x) \\mathrm{d}x.$$\n",
    "ただし、$$a_1=a, a_N=b.$$\n",
    "ここで、各区間の積分を以下のように近似する。\n",
    "$$\\int_{a_n}^{a_{n+1}}f(x) \\mathrm{d}x \\simeq \\frac{f(a_n) + f(a_{n+1})}{2} h.$$\n",
    "すべての項をまとめると、\n",
    "$$\\int_a^b f(x) \\mathrm{d}x \\simeq h\\sum_{n=1}^{N-1} \\frac{f(a_n) + f(a_{n+1})}{2} = h \\sum_{n=1}^N f(a_{n}) - h f(a_1)/2 - h f(a_N)/2.$$\n",
    "$$f(x) = f(x_0) + f(x_0)^\\prime + O(x)$$\n",
    "結果の誤差は、分割数$N$に対して、$O(1/N^2)$。"
   ]
  },
  {
   "cell_type": "markdown",
   "metadata": {},
   "source": [
    "## シンプソンの公式"
   ]
  },
  {
   "cell_type": "markdown",
   "metadata": {},
   "source": [
    "積分区間中で非積分関数を多項式で近似する。\n",
    "まず、ラグランジュ補間を導入する。\n",
    "任意の関数$f(x)$に対して、異なる点$x_0,~x_1,\\cdots,x_n$での値$f(x_0),~f(x_1),\\cdots,f(x_n)$が得られているとする。\n",
    "ラグランジュ補間は、$n+1$個の多項式の和として、\n",
    "$$\n",
    "p_n(x) = \\sum_{j=0}^n f(x_j) l_j(x)\n",
    "$$\n",
    "と書ける。ここで、\n",
    "$$\n",
    "l_j(x) = \\prod_{k\\neq j} \\frac{x-x_k}{x_j-x_k}\n",
    "$$\n",
    "である。$l_j(x)$は$n$次多項式であり、\n",
    "$$\n",
    " l_j(x_k)=\n",
    " \\begin{cases}\n",
    "    0 &  k \\neq j\\\\\n",
    "    1 &  k = j.\\\\\n",
    "  \\end{cases}\n",
    "$$\n",
    "この性質を使うと、$p_n(x_k) = f(x_k)$であることが分かる。\n",
    "つまり、$p_n(x)$は、関数$f(x)$の$n$次多項式での補間である。\n",
    "なお、$f(x)$が$n$次以下の多項式の場合には、補間は厳密である [$f(x)=p_n(x)~\\forall x$]。\n",
    "多くの数値積分公式は、非積分関数を多項式近似した後、その補間された関数を厳密に積分することで得られる。\n",
    "特に、$n=2$の場合には、ラグランジュ補間を解析的に積分することで、以下の積分公式が得られる。\n",
    "$$\n",
    "\\int_a^b f(x) \\mathrm{d} x = \\frac{b-a}{6} \\left[f(a) + 4 f\\left(\\frac{a+b}{2}\\right) + f(b)\\right].\n",
    "$$\n",
    "なお、この場合、非積分関数を補間した際の残差は$O(h^3)$である。\n",
    "台形公式の場合には、$O(h^2)$であった。\n",
    "なので、今回の場合には、数値積分自体の誤差は、$O(h^3)$であることが期待される。\n"
   ]
  },
  {
   "cell_type": "code",
   "execution_count": 53,
   "metadata": {},
   "outputs": [
    {
     "name": "stdout",
     "output_type": "stream",
     "text": [
      "0.20833333333333331 0.2\n"
     ]
    }
   ],
   "source": [
    "import numpy as np\n",
    "\n",
    "p = 4\n",
    "\n",
    "def f(x):\n",
    "    return x**p\n",
    "\n",
    "b = 1.0\n",
    "a = 0\n",
    "intf = ((b-a)/6) * (f(a) + 4*f((a+b)/2) + f(b))\n",
    "print(intf, b**(p+1)/(p+1) - a**(p+1)/(p+1))"
   ]
  },
  {
   "cell_type": "markdown",
   "metadata": {},
   "source": [
    "## 合成則"
   ]
  },
  {
   "cell_type": "markdown",
   "metadata": {},
   "source": [
    "$$\n",
    "\\int_a^b f(x) \\mathrm{d} x = \\sum_{i=0}^{N-1} \\int_{a_i}^{a_{i+1}} f(x) \\mathrm{d} x =  \\sum_{i=0}^{N-1}   \\frac{a_{i+1}-a_i}{6} \\left[f(a_i) + 4 f\\left(\\frac{a_i+a_{i+1}}{2}\\right) + f(a_{i+1})\\right].\n",
    "$$"
   ]
  },
  {
   "cell_type": "code",
   "execution_count": 54,
   "metadata": {},
   "outputs": [
    {
     "name": "stdout",
     "output_type": "stream",
     "text": [
      "0.20833333333333331\n",
      "1 0.00833333333333\n",
      "10 8.33333333339e-07\n",
      "100 8.33333124728e-11\n",
      "1000 8.49320613838e-15\n",
      "1000000 -5.3290705182e-15\n"
     ]
    }
   ],
   "source": [
    "def simpson(f, a, b):\n",
    "    return ((b-a)/6) * (f(a) + 4*f((a+b)/2) + f(b))\n",
    "\n",
    "print(simpson(f, 0, 1))\n",
    "\n",
    "def composite_simpson(f, a, b, N):\n",
    "    xn = np.linspace(a, b, N+1)\n",
    "    r = 0.0\n",
    "    for i in range(N):\n",
    "        r += simpson(f, xn[i], xn[i+1])\n",
    "    return r\n",
    "\n",
    "#def g(x):\n",
    "#    return np.sqrt(1-x**2)\n",
    "\n",
    "a = 0.0\n",
    "b = 1.0\n",
    "for N in [1, 10, 100, 1000, 1000000]:\n",
    "    print(N, composite_simpson(f, a, b, N)- b**(p+1)/(p+1) + a**(p+1)/(p+1))\n"
   ]
  },
  {
   "cell_type": "code",
   "execution_count": 44,
   "metadata": {},
   "outputs": [
    {
     "name": "stdout",
     "output_type": "stream",
     "text": [
      "1 -0.165524910165\n",
      "10 -0.00514558933259\n",
      "100 -0.000162404396773\n",
      "1000 -5.13467751873e-06\n",
      "3000 -9.8815487215e-07\n"
     ]
    }
   ],
   "source": [
    "def g(x):\n",
    "    return np.sqrt(1-x**2)\n",
    "\n",
    "a =  0.0\n",
    "b =  1.0\n",
    "for N in [1, 10, 100, 1000, 3000]:\n",
    "    print(N, 4*composite_simpson(g, a, b, N) - np.pi)\n",
    "    \n",
    "#あまり精度が出ない"
   ]
  },
  {
   "cell_type": "code",
   "execution_count": 43,
   "metadata": {},
   "outputs": [
    {
     "name": "stdout",
     "output_type": "stream",
     "text": [
      "3 -0.0200720905577\n",
      "30 -1.88804402015e-05\n",
      "300 -1.63978103096e-07\n",
      "3000 -5.13472819819e-09\n"
     ]
    }
   ],
   "source": [
    "for N in [1, 10, 100, 1000]:\n",
    "    print(3*N, 4*(composite_simpson(g, 0, 0.9, N) + composite_simpson(g, 0.9, 0.99, N)+ composite_simpson(g, 0.99, 1.0, N)) - np.pi)"
   ]
  },
  {
   "cell_type": "code",
   "execution_count": 50,
   "metadata": {},
   "outputs": [
    {
     "name": "stdout",
     "output_type": "stream",
     "text": [
      "1 -8.881784197e-16\n",
      "2 -4.4408920985e-16\n"
     ]
    }
   ],
   "source": [
    "def h(x):\n",
    "    return np.sin(x)**2\n",
    "\n",
    "for N in [1, 2]:\n",
    "    print(N, 4*composite_simpson(h, 0, 0.5*np.pi, N) - np.pi)"
   ]
  }
 ],
 "metadata": {
  "anaconda-cloud": {},
  "kernelspec": {
   "display_name": "Python 3",
   "language": "python",
   "name": "python3"
  },
  "language_info": {
   "codemirror_mode": {
    "name": "ipython",
    "version": 3
   },
   "file_extension": ".py",
   "mimetype": "text/x-python",
   "name": "python",
   "nbconvert_exporter": "python",
   "pygments_lexer": "ipython3",
   "version": "3.6.5"
  }
 },
 "nbformat": 4,
 "nbformat_minor": 1
}
