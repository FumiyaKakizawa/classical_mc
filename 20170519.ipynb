{
 "cells": [
  {
   "cell_type": "markdown",
   "metadata": {},
   "source": [
    "# if文　（字下げで論理構造の深さを表す）"
   ]
  },
  {
   "cell_type": "code",
   "execution_count": 1,
   "metadata": {
    "collapsed": false
   },
   "outputs": [
    {
     "name": "stdout",
     "output_type": "stream",
     "text": [
      "More\n",
      "Done\n"
     ]
    }
   ],
   "source": [
    "#x = int(input('Please enter an integer: '))\n",
    "x = 41\n",
    "if x < 0:\n",
    "    x = 0\n",
    "    print('Negative changed to zero')\n",
    "elif x == 0:\n",
    "    print('Zero')\n",
    "elif x == 1:\n",
    "    print('Single')\n",
    "else:\n",
    "    print('More')\n",
    "print('Done')"
   ]
  },
  {
   "cell_type": "markdown",
   "metadata": {},
   "source": [
    "# 比較演算子"
   ]
  },
  {
   "cell_type": "code",
   "execution_count": 2,
   "metadata": {
    "collapsed": false
   },
   "outputs": [
    {
     "data": {
      "text/plain": [
       "True"
      ]
     },
     "execution_count": 2,
     "metadata": {},
     "output_type": "execute_result"
    }
   ],
   "source": [
    "1==1"
   ]
  },
  {
   "cell_type": "code",
   "execution_count": 3,
   "metadata": {
    "collapsed": false
   },
   "outputs": [
    {
     "name": "stdout",
     "output_type": "stream",
     "text": [
      "False\n"
     ]
    }
   ],
   "source": [
    "print(1==2)"
   ]
  },
  {
   "cell_type": "code",
   "execution_count": 4,
   "metadata": {
    "collapsed": false
   },
   "outputs": [
    {
     "name": "stdout",
     "output_type": "stream",
     "text": [
      "False\n"
     ]
    }
   ],
   "source": [
    "print(1!=1)"
   ]
  },
  {
   "cell_type": "code",
   "execution_count": 5,
   "metadata": {
    "collapsed": false
   },
   "outputs": [
    {
     "name": "stdout",
     "output_type": "stream",
     "text": [
      "True\n"
     ]
    }
   ],
   "source": [
    "print(1!=2)"
   ]
  },
  {
   "cell_type": "code",
   "execution_count": 6,
   "metadata": {
    "collapsed": false
   },
   "outputs": [
    {
     "name": "stdout",
     "output_type": "stream",
     "text": [
      "True\n"
     ]
    }
   ],
   "source": [
    "print(\"A\"==\"A\")"
   ]
  },
  {
   "cell_type": "code",
   "execution_count": 7,
   "metadata": {
    "collapsed": false
   },
   "outputs": [
    {
     "name": "stdout",
     "output_type": "stream",
     "text": [
      "True\n"
     ]
    }
   ],
   "source": [
    "print(1 < 2)"
   ]
  },
  {
   "cell_type": "code",
   "execution_count": 8,
   "metadata": {
    "collapsed": false
   },
   "outputs": [
    {
     "name": "stdout",
     "output_type": "stream",
     "text": [
      "False\n"
     ]
    }
   ],
   "source": [
    "print(1 > 2)"
   ]
  },
  {
   "cell_type": "code",
   "execution_count": 9,
   "metadata": {
    "collapsed": false
   },
   "outputs": [
    {
     "name": "stdout",
     "output_type": "stream",
     "text": [
      "True\n"
     ]
    }
   ],
   "source": [
    "print(1 <= 1)"
   ]
  },
  {
   "cell_type": "code",
   "execution_count": 10,
   "metadata": {
    "collapsed": false
   },
   "outputs": [
    {
     "name": "stdout",
     "output_type": "stream",
     "text": [
      "True\n"
     ]
    }
   ],
   "source": [
    "print(1 <= 2)"
   ]
  },
  {
   "cell_type": "code",
   "execution_count": 11,
   "metadata": {
    "collapsed": false
   },
   "outputs": [
    {
     "name": "stdout",
     "output_type": "stream",
     "text": [
      "True\n"
     ]
    }
   ],
   "source": [
    "print(2 >= 1)"
   ]
  },
  {
   "cell_type": "markdown",
   "metadata": {},
   "source": [
    "# 論理演算子(複数の条件を組み合わせる）"
   ]
  },
  {
   "cell_type": "code",
   "execution_count": 12,
   "metadata": {
    "collapsed": false
   },
   "outputs": [
    {
     "data": {
      "text/plain": [
       "False"
      ]
     },
     "execution_count": 12,
     "metadata": {},
     "output_type": "execute_result"
    }
   ],
   "source": [
    "1==1 and 1==2"
   ]
  },
  {
   "cell_type": "code",
   "execution_count": 13,
   "metadata": {
    "collapsed": false
   },
   "outputs": [
    {
     "data": {
      "text/plain": [
       "True"
      ]
     },
     "execution_count": 13,
     "metadata": {},
     "output_type": "execute_result"
    }
   ],
   "source": [
    "1==1 or 1==2"
   ]
  },
  {
   "cell_type": "code",
   "execution_count": 14,
   "metadata": {
    "collapsed": false
   },
   "outputs": [
    {
     "data": {
      "text/plain": [
       "True"
      ]
     },
     "execution_count": 14,
     "metadata": {},
     "output_type": "execute_result"
    }
   ],
   "source": [
    "True or False"
   ]
  },
  {
   "cell_type": "code",
   "execution_count": 15,
   "metadata": {
    "collapsed": false
   },
   "outputs": [
    {
     "data": {
      "text/plain": [
       "True"
      ]
     },
     "execution_count": 15,
     "metadata": {},
     "output_type": "execute_result"
    }
   ],
   "source": [
    "not 1==2"
   ]
  },
  {
   "cell_type": "code",
   "execution_count": 16,
   "metadata": {
    "collapsed": false
   },
   "outputs": [
    {
     "data": {
      "text/plain": [
       "True"
      ]
     },
     "execution_count": 16,
     "metadata": {},
     "output_type": "execute_result"
    }
   ],
   "source": [
    "(not 1==2) and (not 1==2)"
   ]
  },
  {
   "cell_type": "markdown",
   "metadata": {},
   "source": [
    "ド・モルガンの法則　（必須）"
   ]
  },
  {
   "cell_type": "markdown",
   "metadata": {},
   "source": [
    "not (A and B) = (not A) or (not B)"
   ]
  },
  {
   "cell_type": "markdown",
   "metadata": {},
   "source": [
    "not (A or B) = (not A) and (not B)"
   ]
  },
  {
   "cell_type": "markdown",
   "metadata": {},
   "source": [
    "# 繰り返し構造　(for文)"
   ]
  },
  {
   "cell_type": "code",
   "execution_count": 17,
   "metadata": {
    "collapsed": false
   },
   "outputs": [
    {
     "name": "stdout",
     "output_type": "stream",
     "text": [
      "0\n",
      "1\n",
      "2\n",
      "3\n"
     ]
    }
   ],
   "source": [
    "L = [0, 1, 2, 3] #list consisting of four numbers\n",
    "for i in L:\n",
    "    print(i)"
   ]
  },
  {
   "cell_type": "code",
   "execution_count": 18,
   "metadata": {
    "collapsed": false
   },
   "outputs": [
    {
     "name": "stdout",
     "output_type": "stream",
     "text": [
      "0\n",
      "1\n",
      "2\n",
      "3\n"
     ]
    }
   ],
   "source": [
    "#Instead, you can generate a range object.\n",
    "for i in range(4):\n",
    "    print(i)"
   ]
  },
  {
   "cell_type": "code",
   "execution_count": 19,
   "metadata": {
    "collapsed": false
   },
   "outputs": [
    {
     "name": "stdout",
     "output_type": "stream",
     "text": [
      "2\n",
      "3\n"
     ]
    }
   ],
   "source": [
    "for i in range(2,4):\n",
    "    print(i)"
   ]
  },
  {
   "cell_type": "code",
   "execution_count": 20,
   "metadata": {
    "collapsed": false
   },
   "outputs": [
    {
     "name": "stdout",
     "output_type": "stream",
     "text": [
      "range(2, 4)\n"
     ]
    }
   ],
   "source": [
    "print(range(2,4))"
   ]
  },
  {
   "cell_type": "code",
   "execution_count": 21,
   "metadata": {
    "collapsed": false
   },
   "outputs": [
    {
     "name": "stdout",
     "output_type": "stream",
     "text": [
      "i= 0 j= 0\n",
      "i= 0 j= 1\n",
      "i= 0 j= 2\n",
      "i= 1 j= 0\n",
      "i= 1 j= 1\n",
      "i= 1 j= 2\n"
     ]
    }
   ],
   "source": [
    "#You can create nested loops\n",
    "for i in range(2):\n",
    "    for j in range(3):\n",
    "        print(\"i=\", i, \"j=\", j)"
   ]
  },
  {
   "cell_type": "code",
   "execution_count": 22,
   "metadata": {
    "collapsed": false
   },
   "outputs": [
    {
     "name": "stdout",
     "output_type": "stream",
     "text": [
      "i= 0 j= 0 k= 0\n",
      "i= 0 j= 0 k= 1\n",
      "i= 0 j= 0 k= 2\n",
      "i= 0 j= 1 k= 0\n",
      "i= 0 j= 1 k= 1\n",
      "i= 0 j= 1 k= 2\n",
      "i= 0 j= 2 k= 0\n",
      "i= 0 j= 2 k= 1\n",
      "i= 0 j= 2 k= 2\n",
      "i= 1 j= 0 k= 0\n",
      "i= 1 j= 0 k= 1\n",
      "i= 1 j= 0 k= 2\n",
      "i= 1 j= 1 k= 0\n",
      "i= 1 j= 1 k= 1\n",
      "i= 1 j= 1 k= 2\n",
      "i= 1 j= 2 k= 0\n",
      "i= 1 j= 2 k= 1\n",
      "i= 1 j= 2 k= 2\n"
     ]
    }
   ],
   "source": [
    "for i in range(2):\n",
    "    for j in range(3):\n",
    "            for k in range(3):\n",
    "                print(\"i=\", i, \"j=\", j, \"k=\", k)"
   ]
  },
  {
   "cell_type": "code",
   "execution_count": 23,
   "metadata": {
    "collapsed": false
   },
   "outputs": [
    {
     "name": "stdout",
     "output_type": "stream",
     "text": [
      "0\n",
      "1\n",
      "2\n",
      "3\n",
      "4\n",
      "5\n",
      "6\n",
      "7\n",
      "8\n",
      "9\n",
      "10\n"
     ]
    }
   ],
   "source": [
    "#What if you want to quit a loop?\n",
    "for i in range(100000):\n",
    "    print(i)\n",
    "    if i==10:\n",
    "        break"
   ]
  },
  {
   "cell_type": "code",
   "execution_count": 24,
   "metadata": {
    "collapsed": false
   },
   "outputs": [
    {
     "name": "stdout",
     "output_type": "stream",
     "text": [
      "i= 0 j= 0\n",
      "i= 0 j= 1\n",
      "i= 0 j= 2\n",
      "i= 0 j= 3\n",
      "i= 0 j= 4\n",
      "i= 0 j= 5\n",
      "i= 0 j= 6\n",
      "i= 0 j= 7\n",
      "i= 0 j= 8\n",
      "i= 0 j= 9\n",
      "i= 0 j= 10\n",
      "Called break\n",
      "i= 1 j= 0\n",
      "i= 1 j= 1\n",
      "i= 1 j= 2\n",
      "i= 1 j= 3\n",
      "i= 1 j= 4\n",
      "i= 1 j= 5\n",
      "i= 1 j= 6\n",
      "i= 1 j= 7\n",
      "i= 1 j= 8\n",
      "i= 1 j= 9\n",
      "i= 1 j= 10\n",
      "Called break\n"
     ]
    }
   ],
   "source": [
    "#What if you want to quit the innermost loop?\n",
    "for i in range(2):\n",
    "    for j in range(100):\n",
    "        print(\"i=\", i, \"j=\", j)\n",
    "        if (j==10):\n",
    "            break\n",
    "    print(\"Called break\")"
   ]
  },
  {
   "cell_type": "code",
   "execution_count": 25,
   "metadata": {
    "collapsed": false
   },
   "outputs": [
    {
     "name": "stdout",
     "output_type": "stream",
     "text": [
      "0\n",
      "1\n",
      "2\n",
      "3\n",
      "5\n",
      "6\n",
      "7\n",
      "8\n",
      "9\n"
     ]
    }
   ],
   "source": [
    "#You can skip the rest of the current cycle.\n",
    "for i in range(10):\n",
    "    if (i==4):\n",
    "        continue\n",
    "    print(i)"
   ]
  },
  {
   "cell_type": "code",
   "execution_count": 26,
   "metadata": {
    "collapsed": false
   },
   "outputs": [
    {
     "name": "stdout",
     "output_type": "stream",
     "text": [
      "i= 0 j= 0 k= 0\n",
      "i= 0 j= 0 k= 1\n",
      "i= 0 j= 0 k= 2\n",
      "i= 0 j= 1 k= 0\n",
      "i= 0 j= 1 k= 1\n",
      "i= 0 j= 1 k= 2\n",
      "i= 0 j= 2 k= 0\n",
      "i= 0 j= 2 k= 1\n",
      "i= 0 j= 2 k= 2\n",
      "i= 1 j= 0 k= 0\n",
      "i= 1 j= 0 k= 1\n",
      "i= 1 j= 0 k= 2\n",
      "i= 1 j= 1 k= 0\n",
      "i= 1 j= 1 k= 1\n",
      "i= 1 j= 1 k= 2\n",
      "i= 1 j= 2 k= 0\n",
      "i= 1 j= 2 k= 1\n",
      "i= 1 j= 2 k= 2\n"
     ]
    }
   ],
   "source": [
    "#Or you can use itertools (advanced) to represent nested loops\n",
    "from itertools import * #This should be called somewhere once before using product().\n",
    "\n",
    "for i,j,k in product(range(2), range(3), range(3)):\n",
    "    print(\"i=\", i, \"j=\", j, \"k=\", k)"
   ]
  },
  {
   "cell_type": "markdown",
   "metadata": {},
   "source": [
    "# 関数"
   ]
  },
  {
   "cell_type": "code",
   "execution_count": 27,
   "metadata": {
    "collapsed": false
   },
   "outputs": [
    {
     "name": "stdout",
     "output_type": "stream",
     "text": [
      "This is mine: A\n",
      "returned value: A\n"
     ]
    }
   ],
   "source": [
    "def my_print(str):\n",
    "    print(\"This is mine: \"+str)\n",
    "    \n",
    "    return \"returned value: \"+str\n",
    "\n",
    "s = my_print(\"A\")\n",
    "print(s)"
   ]
  },
  {
   "cell_type": "code",
   "execution_count": 28,
   "metadata": {
    "collapsed": false
   },
   "outputs": [
    {
     "name": "stdout",
     "output_type": "stream",
     "text": [
      "A\n",
      "0\n",
      "-1\n"
     ]
    }
   ],
   "source": [
    "#You may define a function which does not return a value\n",
    "def my_func(str, i, k):\n",
    "    print(str)\n",
    "    print(i)\n",
    "    print(k)\n",
    "i=100\n",
    "my_func(\"A\", 0, -1)"
   ]
  },
  {
   "cell_type": "code",
   "execution_count": 29,
   "metadata": {
    "collapsed": false
   },
   "outputs": [
    {
     "name": "stdout",
     "output_type": "stream",
     "text": [
      "(0, 1)\n",
      "returned value (2, 4)\n",
      "first_value  2\n",
      "second_value  4\n"
     ]
    }
   ],
   "source": [
    "#You can return multiple objects as a tuple\n",
    "def my_func2(i,j):\n",
    "    return i,j\n",
    "print(my_func2(0,1))\n",
    "\n",
    "r = my_func2(2,4)\n",
    "print(\"returned value\", r)\n",
    "print(\"first_value \", r[0])\n",
    "print(\"second_value \", r[1])"
   ]
  },
  {
   "cell_type": "code",
   "execution_count": 30,
   "metadata": {
    "collapsed": false
   },
   "outputs": [
    {
     "name": "stdout",
     "output_type": "stream",
     "text": [
      "2\n",
      "some str\n",
      "[1, 2, 3, 'my_func4']\n"
     ]
    }
   ],
   "source": [
    "#immutable objects\n",
    "def my_func3(i, s):\n",
    "    i *= 2\n",
    "    s += \" appended\"\n",
    "\n",
    "j = 2\n",
    "ss = \"some str\"\n",
    "my_func3(j, ss)\n",
    "print(j)\n",
    "print(ss)\n",
    "\n",
    "#mutable objects can be modified.\n",
    "def my_func4(l):\n",
    "    l.append(\"my_func4\")\n",
    "\n",
    "l = [1, 2, 3]\n",
    "my_func4(l)\n",
    "print(l)"
   ]
  },
  {
   "cell_type": "markdown",
   "metadata": {},
   "source": [
    "他にもデフォルト引数、任意引数リストとかいろいろ便利な機能があります。"
   ]
  },
  {
   "cell_type": "code",
   "execution_count": 31,
   "metadata": {
    "collapsed": false
   },
   "outputs": [
    {
     "name": "stdout",
     "output_type": "stream",
     "text": [
      "{'a': 1, 'b': 2, 'c': 'A'}\n",
      "3\n"
     ]
    }
   ],
   "source": [
    "#Advanced example (pass arguments to a function as a dictionary.)\n",
    "def my_func3(**args):\n",
    "    print(args)\n",
    "    print(len(args))\n",
    "\n",
    "my_func3(a=1, b=2, c=\"A\")"
   ]
  },
  {
   "cell_type": "markdown",
   "metadata": {},
   "source": [
    "# 課題 100以下の素数をすべて求めよ。"
   ]
  },
  {
   "cell_type": "code",
   "execution_count": 6,
   "metadata": {
    "collapsed": false
   },
   "outputs": [
    {
     "name": "stdout",
     "output_type": "stream",
     "text": [
      "2\n",
      "3\n",
      "5\n",
      "7\n",
      "11\n",
      "13\n",
      "17\n",
      "19\n",
      "23\n",
      "29\n",
      "31\n",
      "37\n",
      "41\n",
      "43\n",
      "47\n",
      "53\n",
      "59\n",
      "61\n",
      "67\n",
      "71\n",
      "73\n",
      "79\n",
      "83\n",
      "89\n",
      "97\n"
     ]
    }
   ],
   "source": [
    "Nmax = 100\n",
    "print(2)\n",
    "for i in range(3,Nmax+1):\n",
    "    flag = False\n",
    "    for j in range(2,i):\n",
    "        if i%j == 0:\n",
    "            flag = True\n",
    "            break\n",
    "    if not flag:\n",
    "        print(i)"
   ]
  },
  {
   "cell_type": "code",
   "execution_count": null,
   "metadata": {
    "collapsed": true
   },
   "outputs": [],
   "source": []
  }
 ],
 "metadata": {
  "anaconda-cloud": {},
  "kernelspec": {
   "display_name": "Python 3",
   "language": "python",
   "name": "python3"
  },
  "language_info": {
   "codemirror_mode": {
    "name": "ipython",
    "version": 3
   },
   "file_extension": ".py",
   "mimetype": "text/x-python",
   "name": "python",
   "nbconvert_exporter": "python",
   "pygments_lexer": "ipython3",
   "version": "3.5.2"
  }
 },
 "nbformat": 4,
 "nbformat_minor": 1
}
