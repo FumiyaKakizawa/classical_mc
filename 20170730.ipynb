{
 "cells": [
  {
   "cell_type": "markdown",
   "metadata": {},
   "source": [
    "# 最適化問題"
   ]
  },
  {
   "cell_type": "markdown",
   "metadata": {},
   "source": [
    "## 最急降下勾配法"
   ]
  },
  {
   "cell_type": "markdown",
   "metadata": {
    "collapsed": false
   },
   "source": [
    "関数$f(x_1,\\cdots,x_N)$の最小値を与える$(x_1,\\cdots,x_N)$を求めたい。\n",
    "偏微分$\\partial f/\\partial x_i$が計算できる場合に使用できる簡便な方法として、\n",
    "最急降下勾配法がある。\n",
    "$\\boldsymbol{x} = (x_1,\\cdots,x_N)$として、$m$ステップ目の変数を$\\boldsymbol{x}_m$と置く。\n",
    "$$\n",
    "\\boldsymbol{x}_{m+1} = \\boldsymbol{x}_{m} - \\alpha \\frac{\\partial f}{\\partial \\boldsymbol{x}}(\\boldsymbol{x}_{m}).\n",
    "$$\n",
    "$\\alpha$は適当な正の定数。"
   ]
  },
  {
   "cell_type": "markdown",
   "metadata": {},
   "source": [
    "### 練習問題1\n",
    "$f(x) = (x-1)^2$の最小値を与える$x$を最急降下勾配法で求めよ。ただし初期値は$x=0$とせよ。次に、$\\alpha$を変えたときの収束性の変化を調べてみよ。"
   ]
  },
  {
   "cell_type": "code",
   "execution_count": 36,
   "metadata": {
    "collapsed": false
   },
   "outputs": [
    {
     "name": "stdout",
     "output_type": "stream",
     "text": [
      "x= 0.9999999999999996 ite= 159\n"
     ]
    }
   ],
   "source": [
    "import numpy as np\n",
    "\n",
    "def f(x):\n",
    "    return (x-1)**2\n",
    "\n",
    "def f1(x):\n",
    "    return 2*(x-1)\n",
    "\n",
    "alpha = 0.1\n",
    "x = 0.0\n",
    "ite = 0\n",
    "\n",
    "while np.abs(f1(x)) > 1E-15 and ite < 10000:\n",
    "    x = x - alpha * f1(x)\n",
    "#    print(ite, x)\n",
    "    ite += 1\n",
    "    \n",
    "print(\"x=\", x, \"ite=\", ite)"
   ]
  },
  {
   "cell_type": "markdown",
   "metadata": {},
   "source": [
    "### 練習問題2\n",
    "$f(x_1, x_2) = (x_1-1)^2 + (x_2-2)^2$の最小値を与える$\\boldsymbol{x}$を最急降下勾配法で求めよ。ただし初期値は$\\boldsymbol{x}=0$とせよ。次に、$\\alpha$を変えたときの収束性の変化を調べてみよ。"
   ]
  },
  {
   "cell_type": "code",
   "execution_count": null,
   "metadata": {
    "collapsed": true
   },
   "outputs": [],
   "source": []
  }
 ],
 "metadata": {
  "anaconda-cloud": {},
  "kernelspec": {
   "display_name": "Python 3",
   "language": "python",
   "name": "python3"
  },
  "language_info": {
   "codemirror_mode": {
    "name": "ipython",
    "version": 3
   },
   "file_extension": ".py",
   "mimetype": "text/x-python",
   "name": "python",
   "nbconvert_exporter": "python",
   "pygments_lexer": "ipython3",
   "version": "3.5.2"
  }
 },
 "nbformat": 4,
 "nbformat_minor": 1
}
