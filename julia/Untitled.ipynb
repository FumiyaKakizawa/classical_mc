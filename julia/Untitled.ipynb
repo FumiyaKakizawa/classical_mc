{
 "cells": [
  {
   "cell_type": "code",
   "execution_count": null,
   "metadata": {},
   "outputs": [],
   "source": [
    "using HDF5\n",
    "using PyPlot\n",
    "using LsqFit"
   ]
  },
  {
   "cell_type": "code",
   "execution_count": null,
   "metadata": {},
   "outputs": [],
   "source": [
    "h5file = \"2d_out.h5\"\n",
    "names = [\"Gt\",\"mq_sqrt3_corr\", \"mq_q0_corr\", \"afvc_corr\", \"fvc_corr\",\"m_120degs_corr\"]"
   ]
  },
  {
   "cell_type": "code",
   "execution_count": null,
   "metadata": {},
   "outputs": [],
   "source": [
    "function out_to_txt(h5file,names)\n",
    "\n",
    "    fid = h5open(h5file,\"r\")\n",
    "    temps = fid[\"temperatures\"]\n",
    "    num_temps = length(temps)\n",
    "    for iname in names\n",
    "        data = fid[\"$(iname)/mean\"]\n",
    "        name = split(iname,\"_corr\")[1]\n",
    "        mc_steps = length(data[:,1])\n",
    "        for it in 1:num_temps\n",
    "            open(\"$(name)_$(it).dat\",\"w\") do fp\n",
    "                for i in 1:mc_steps\n",
    "                    println(fp,i,\" \",data[:,it][i])\n",
    "                end\n",
    "            end\n",
    "        end\n",
    "    end\n",
    "    close(fid)\n",
    "end\n",
    "\n",
    "out_to_txt(h5file,names)\n",
    "\n",
    "\n",
    "function compute_τ(tdatas,ydatas,p0)\n",
    "    model(t,p) = p[1] .- (1/p[2])*t\n",
    "    fit = curve_fit(model, tdatas, ydatas, p0)\n",
    "    fit.param[2]\n",
    "end\n",
    "\n",
    "\n",
    "\n",
    "function compute_Tc(temps,τs,p0)\n",
    "    model(t,p) = p[1] .+ p[2] ./ sqrt.(t .- p[3])\n",
    "    fit = curve_fit(model,temps,log.(τs),p0)\n",
    "    fit.param[3]\n",
    "end\n",
    "\n",
    "\n",
    "function execute(fid,name)\n",
    "\n",
    "    temps = fid[\"temperatures\"]\n",
    "    num_temps = length(temps)\n",
    "    @assert num_temps > 1\n",
    "    ydata = fid[\"$(name)/mean\"]\n",
    "    tdata = [i for i in 1:length(ydata[:,1])]\n",
    "    p01 = [1.0,1.0]\n",
    "    τs = Vector{Float64}(undef,num_temps)\n",
    "    println(\"τs=$(τs)\")\n",
    "    \n",
    "    for it in 1:num_temps\n",
    "        temp_ydata = log.(abs.(ydata[:,it]))\n",
    "        τs[it] = compute_τ(tdata,temp_ydata,p01)\n",
    "    end\n",
    "    \n",
    "    p02 = [1.0,1.0,1.0]\n",
    "    Tc = compute_Tc(collect(temps),τs,p02)\n",
    "    Tc\n",
    "    \n",
    "end\n",
    "\n",
    "#=\n",
    "h5file = \"2d_out.h5\"\n",
    "fid = h5open(h5file,\"r\")\n",
    "name = \"Gt\"\n",
    "Tc_of_Gt = execute(fid,name)\n",
    "println(\"Tc of Gt = $(Tc_of_Gt)\")"
   ]
  }
 ],
 "metadata": {
  "kernelspec": {
   "display_name": "Julia 1.4.0",
   "language": "julia",
   "name": "julia-1.4"
  },
  "language_info": {
   "file_extension": ".jl",
   "mimetype": "application/julia",
   "name": "julia",
   "version": "1.4.0"
  }
 },
 "nbformat": 4,
 "nbformat_minor": 4
}
