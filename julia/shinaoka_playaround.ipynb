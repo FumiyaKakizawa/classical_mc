{
 "cells": [
  {
   "cell_type": "code",
   "execution_count": 3,
   "metadata": {},
   "outputs": [],
   "source": [
    "using Revise\n",
    "using BenchmarkTools"
   ]
  },
  {
   "cell_type": "code",
   "execution_count": 4,
   "metadata": {},
   "outputs": [],
   "source": [
    "includet(\"measure_mc.jl\")"
   ]
  },
  {
   "cell_type": "code",
   "execution_count": 8,
   "metadata": {},
   "outputs": [
    {
     "data": {
      "text/plain": [
       "mk_kagome (generic function with 1 method)"
      ]
     },
     "execution_count": 8,
     "metadata": {},
     "output_type": "execute_result"
    }
   ],
   "source": [
    "const HeisenbergSpin = Tuple{Float64,Float64,Float64}\n",
    "\n",
    "function compute_mq(q,kagome,spins,triangles)\n",
    "\n",
    "    @assert length(keys(kagome)) == length(spins)\n",
    "\n",
    "    sq = fill((0.0+0im,0.0+0im,0.0+0im),3)\n",
    "    for i in triangles\n",
    "        for j in 1:3\n",
    "            idx = i[j]\n",
    "            R = kagome[idx]\n",
    "            sq[j] = sq[j] .+ spins[idx].*exp((q⋅R)*im)\n",
    "        end\n",
    "    end\n",
    "\n",
    "    ss = 0.\n",
    "\n",
    "    for i in 1:3\n",
    "        ss += sq[i] ⋅ sq[i]\n",
    "    end\n",
    "\n",
    "    return real(ss)/(3*length(triangles)^2)\n",
    "end\n",
    "\n",
    "function compute_mq_fast(q,kagome,spins,triangles)\n",
    "    @assert length(keys(kagome)) == length(spins)\n",
    "\n",
    "    sq = SVector{3,Complex{Float64}}(0.0, 0.0, 0.0)\n",
    "    for i in triangles\n",
    "        for j in 1:3\n",
    "            idx = i[j]\n",
    "            R = kagome[idx]\n",
    "            sq[j] = sq[j] .+ spins[idx].*exp((q⋅R)*im)\n",
    "        end\n",
    "    end\n",
    "\n",
    "    ss = 0.\n",
    "\n",
    "    for i in 1:3\n",
    "        ss += sq[i] ⋅ sq[i]\n",
    "    end\n",
    "\n",
    "    return real(ss)/(3*length(triangles)^2)\n",
    "end\n",
    "\n",
    "function mk_kagome(L)\n",
    "\n",
    "    kagome = Dict()\n",
    "    idx = 1\n",
    "    L = 2L\n",
    "\n",
    "    for (i,j) in Iterators.product(1:L,1:L)\n",
    "        mod_site = mod.((i,j),L)\n",
    "        if mod(mod_site[1],2) == 0 && mod(mod_site[2],2) == 1\n",
    "            continue\n",
    "        end\n",
    "\n",
    "        kagome[idx] = copy.(mod_site)\n",
    "        idx += 1\n",
    "    end\n",
    "\n",
    "    return kagome\n",
    "end"
   ]
  },
  {
   "cell_type": "code",
   "execution_count": 18,
   "metadata": {},
   "outputs": [
    {
     "data": {
      "text/plain": [
       "BenchmarkTools.Trial: \n",
       "  memory estimate:  240 bytes\n",
       "  allocs estimate:  2\n",
       "  --------------\n",
       "  minimum time:     3.486 μs (0.00% GC)\n",
       "  median time:      3.724 μs (0.00% GC)\n",
       "  mean time:        4.185 μs (0.00% GC)\n",
       "  maximum time:     24.061 μs (0.00% GC)\n",
       "  --------------\n",
       "  samples:          10000\n",
       "  evals/sample:     8"
      ]
     },
     "execution_count": 18,
     "metadata": {},
     "output_type": "execute_result"
    }
   ],
   "source": [
    "L = 12\n",
    "num_spins = 3L^2\n",
    "num_triangles = L^2\n",
    "\n",
    "triangles = fill((1,1,1), num_triangles)\n",
    "spins = fill((0.0, 0.0, 0.0),num_spins)\n",
    "kagome = mk_kagome(Int(sqrt(num_spins/3)))\n",
    "\n",
    "kagome_array = [kagome[i] for i in 1:num_spins]\n",
    "\n",
    "@benchmark compute_mq((0.,0.), kagome_array, spins, triangles)"
   ]
  },
  {
   "cell_type": "code",
   "execution_count": 46,
   "metadata": {},
   "outputs": [
    {
     "data": {
      "text/plain": [
       "compute_vector_chirality2 (generic function with 2 methods)"
      ]
     },
     "execution_count": 46,
     "metadata": {},
     "output_type": "execute_result"
    }
   ],
   "source": [
    "#using StaticArrays\n",
    "function mycross(s1, s2)\n",
    "    s1[1]s2[2] - s1[2]s2[1]\n",
    "end\n",
    "\n",
    "function compute_vector_chirality2(spins::AbstractArray{Float64,2},\n",
    "                                  triangles::Vector{Tuple{Int64,Int64,Int64}})\n",
    "\n",
    "    vc = 0.0\n",
    "    num_spins = size(spins)[2]\n",
    "    num_triangles = length(triangles)\n",
    "    #MVector{3,Float64}\n",
    "    @assert num_spins == 3num_triangles\n",
    "    for i in triangles\n",
    "        for j in 1:3\n",
    "            s1 = view(spins, :, i[j])\n",
    "            s2 = view(spins, :, i[ifelse(j==3,1,j+1)])\n",
    "            #s1 = spins[:, i[j]]\n",
    "            #s2 = spins[:, i[ifelse(j==3,1,j+1)]]\n",
    "            vc += mycross(s1, s2)\n",
    "        end\n",
    "    end\n",
    "    return vc / num_spins\n",
    "end"
   ]
  },
  {
   "cell_type": "code",
   "execution_count": 32,
   "metadata": {},
   "outputs": [
    {
     "data": {
      "text/plain": [
       "BenchmarkTools.Trial: \n",
       "  memory estimate:  94.50 KiB\n",
       "  allocs estimate:  864\n",
       "  --------------\n",
       "  minimum time:     27.752 μs (0.00% GC)\n",
       "  median time:      29.154 μs (0.00% GC)\n",
       "  mean time:        33.818 μs (3.81% GC)\n",
       "  maximum time:     901.331 μs (90.06% GC)\n",
       "  --------------\n",
       "  samples:          10000\n",
       "  evals/sample:     1"
      ]
     },
     "execution_count": 32,
     "metadata": {},
     "output_type": "execute_result"
    }
   ],
   "source": [
    "L = 12\n",
    "num_spins = 3L^2\n",
    "num_triangles = L^2\n",
    "\n",
    "triangles = fill((1,1,1), num_triangles)\n",
    "spins = fill(0.0, 3, num_spins)\n",
    "\n",
    "@benchmark compute_vector_chirality2(spins, triangles)"
   ]
  },
  {
   "cell_type": "code",
   "execution_count": 35,
   "metadata": {},
   "outputs": [
    {
     "data": {
      "text/plain": [
       "10-element Array{Int64,1}:\n",
       " 1\n",
       " 1\n",
       " 0\n",
       " 0\n",
       " 0\n",
       " 0\n",
       " 0\n",
       " 0\n",
       " 0\n",
       " 0"
      ]
     },
     "execution_count": 35,
     "metadata": {},
     "output_type": "execute_result"
    }
   ],
   "source": [
    "x = fill(0, 10)\n",
    "x[1:2] .= 1\n",
    "x"
   ]
  },
  {
   "cell_type": "code",
   "execution_count": 37,
   "metadata": {},
   "outputs": [
    {
     "data": {
      "text/plain": [
       "10-element Array{Int64,1}:\n",
       " 0\n",
       " 0\n",
       " 0\n",
       " 0\n",
       " 0\n",
       " 0\n",
       " 0\n",
       " 0\n",
       " 0\n",
       " 0"
      ]
     },
     "execution_count": 37,
     "metadata": {},
     "output_type": "execute_result"
    }
   ],
   "source": [
    "function test_f!(x)\n",
    "    x .= 1\n",
    "end\n",
    "x = fill(0, 10)\n",
    "test_f!(x[1:2])\n",
    "x"
   ]
  },
  {
   "cell_type": "code",
   "execution_count": 38,
   "metadata": {},
   "outputs": [
    {
     "data": {
      "text/plain": [
       "10-element Array{Int64,1}:\n",
       " 1\n",
       " 1\n",
       " 0\n",
       " 0\n",
       " 0\n",
       " 0\n",
       " 0\n",
       " 0\n",
       " 0\n",
       " 0"
      ]
     },
     "execution_count": 38,
     "metadata": {},
     "output_type": "execute_result"
    }
   ],
   "source": [
    "x = fill(0, 10)\n",
    "test_f!(view(x, 1:2))\n",
    "x"
   ]
  },
  {
   "cell_type": "code",
   "execution_count": 39,
   "metadata": {},
   "outputs": [
    {
     "data": {
      "text/plain": [
       "2-element view(::Array{Int64,1}, 1:2) with eltype Int64:\n",
       " 1\n",
       " 1"
      ]
     },
     "execution_count": 39,
     "metadata": {},
     "output_type": "execute_result"
    }
   ],
   "source": [
    "view(x, 1:2)"
   ]
  },
  {
   "cell_type": "code",
   "execution_count": 42,
   "metadata": {},
   "outputs": [
    {
     "data": {
      "text/plain": [
       "10-element Array{Int64,1}:\n",
       " 1\n",
       " 1\n",
       " 0\n",
       " 0\n",
       " 0\n",
       " 0\n",
       " 0\n",
       " 0\n",
       " 0\n",
       " 0"
      ]
     },
     "execution_count": 42,
     "metadata": {},
     "output_type": "execute_result"
    }
   ],
   "source": [
    "x = fill(0, 10)\n",
    "test_f!(@view x[1:2])\n",
    "x"
   ]
  },
  {
   "cell_type": "code",
   "execution_count": 44,
   "metadata": {},
   "outputs": [
    {
     "data": {
      "text/plain": [
       "2-element Array{Array{Float64,2},1}:\n",
       " [0.0 0.0 … 0.0 0.0; 0.0 0.0 … 0.0 0.0; 0.0 0.0 … 0.0 0.0]\n",
       " [0.0 0.0 … 0.0 0.0; 0.0 0.0 … 0.0 0.0; 0.0 0.0 … 0.0 0.0]"
      ]
     },
     "execution_count": 44,
     "metadata": {},
     "output_type": "execute_result"
    }
   ],
   "source": [
    "num_temps = 2\n",
    "x = fill(0.0, 3, num_spins, num_temps)\n",
    "x2 = [fill(0.0, 3, num_spins) for i in 1:num_temps]"
   ]
  },
  {
   "cell_type": "code",
   "execution_count": 47,
   "metadata": {},
   "outputs": [
    {
     "data": {
      "text/plain": [
       "0.0"
      ]
     },
     "execution_count": 47,
     "metadata": {},
     "output_type": "execute_result"
    }
   ],
   "source": [
    "compute_vector_chirality2(view(spins, :, :, 1), triangles)"
   ]
  },
  {
   "cell_type": "code",
   "execution_count": 30,
   "metadata": {},
   "outputs": [
    {
     "name": "stdout",
     "output_type": "stream",
     "text": [
      "Variables\n",
      "  #self#\u001b[36m::Core.Compiler.Const(compute_vector_chirality2, false)\u001b[39m\n",
      "  spins\u001b[36m::Array{Float64,2}\u001b[39m\n",
      "  triangles\u001b[36m::Array{Tuple{Int64,Int64,Int64},1}\u001b[39m\n",
      "  vc\u001b[36m::Float64\u001b[39m\n",
      "  num_spins\u001b[36m::Int64\u001b[39m\n",
      "  num_triangles\u001b[36m::Int64\u001b[39m\n",
      "  @_7\u001b[33m\u001b[1m::Union{Nothing, Tuple{Tuple{Int64,Int64,Int64},Int64}}\u001b[22m\u001b[39m\n",
      "  i\u001b[36m::Tuple{Int64,Int64,Int64}\u001b[39m\n",
      "  @_9\u001b[33m\u001b[1m::Union{Nothing, Tuple{Int64,Int64}}\u001b[22m\u001b[39m\n",
      "  j\u001b[36m::Int64\u001b[39m\n",
      "  s1\u001b[36m::SubArray{Float64,1,Array{Float64,2},Tuple{Base.Slice{Base.OneTo{Int64}},Int64},true}\u001b[39m\n",
      "  s2\u001b[36m::SubArray{Float64,1,Array{Float64,2},Tuple{Base.Slice{Base.OneTo{Int64}},Int64},true}\u001b[39m\n",
      "\n",
      "Body\u001b[36m::Float64\u001b[39m\n",
      "\u001b[90m1 ──\u001b[39m       Core.NewvarNode(:(@_7))\n",
      "\u001b[90m│   \u001b[39m       (vc = 0.0)\n",
      "\u001b[90m│   \u001b[39m %3  = Main.size(spins)\u001b[36m::Tuple{Int64,Int64}\u001b[39m\n",
      "\u001b[90m│   \u001b[39m       (num_spins = Base.getindex(%3, 2))\n",
      "\u001b[90m│   \u001b[39m       (num_triangles = Main.length(triangles))\n",
      "\u001b[90m│   \u001b[39m %6  = num_spins\u001b[36m::Int64\u001b[39m\n",
      "\u001b[90m│   \u001b[39m %7  = (3 * num_triangles)\u001b[36m::Int64\u001b[39m\n",
      "\u001b[90m│   \u001b[39m %8  = (%6 == %7)\u001b[36m::Bool\u001b[39m\n",
      "\u001b[90m└───\u001b[39m       goto #3 if not %8\n",
      "\u001b[90m2 ──\u001b[39m       goto #4\n",
      "\u001b[90m3 ──\u001b[39m %11 = Base.AssertionError(\"num_spins == 3num_triangles\")\u001b[36m::AssertionError\u001b[39m\n",
      "\u001b[90m└───\u001b[39m       Base.throw(%11)\n",
      "\u001b[90m4 ┄─\u001b[39m %13 = triangles\u001b[36m::Array{Tuple{Int64,Int64,Int64},1}\u001b[39m\n",
      "\u001b[90m│   \u001b[39m       (@_7 = Base.iterate(%13))\n",
      "\u001b[90m│   \u001b[39m %15 = (@_7 === nothing)\u001b[36m::Bool\u001b[39m\n",
      "\u001b[90m│   \u001b[39m %16 = Base.not_int(%15)\u001b[36m::Bool\u001b[39m\n",
      "\u001b[90m└───\u001b[39m       goto #10 if not %16\n",
      "\u001b[90m5 ┄─\u001b[39m %18 = @_7::Tuple{Tuple{Int64,Int64,Int64},Int64}\u001b[36m::Tuple{Tuple{Int64,Int64,Int64},Int64}\u001b[39m\n",
      "\u001b[90m│   \u001b[39m       (i = Core.getfield(%18, 1))\n",
      "\u001b[90m│   \u001b[39m %20 = Core.getfield(%18, 2)\u001b[36m::Int64\u001b[39m\n",
      "\u001b[90m│   \u001b[39m %21 = (1:3)\u001b[36m::Core.Compiler.Const(1:3, false)\u001b[39m\n",
      "\u001b[90m│   \u001b[39m       (@_9 = Base.iterate(%21))\n",
      "\u001b[90m│   \u001b[39m %23 = (@_9::Core.Compiler.Const((1, 1), false) === nothing)\u001b[36m::Core.Compiler.Const(false, false)\u001b[39m\n",
      "\u001b[90m│   \u001b[39m %24 = Base.not_int(%23)\u001b[36m::Core.Compiler.Const(true, false)\u001b[39m\n",
      "\u001b[90m└───\u001b[39m       goto #8 if not %24\n",
      "\u001b[90m6 ┄─\u001b[39m %26 = @_9::Tuple{Int64,Int64}\u001b[36m::Tuple{Int64,Int64}\u001b[39m\n",
      "\u001b[90m│   \u001b[39m       (j = Core.getfield(%26, 1))\n",
      "\u001b[90m│   \u001b[39m %28 = Core.getfield(%26, 2)\u001b[36m::Int64\u001b[39m\n",
      "\u001b[90m│   \u001b[39m %29 = Base.getindex(i, j)\u001b[36m::Int64\u001b[39m\n",
      "\u001b[90m│   \u001b[39m       (s1 = Main.view(spins, Main.:(:), %29))\n",
      "\u001b[90m│   \u001b[39m %31 = i\u001b[36m::Tuple{Int64,Int64,Int64}\u001b[39m\n",
      "\u001b[90m│   \u001b[39m %32 = (j == 3)\u001b[36m::Bool\u001b[39m\n",
      "\u001b[90m│   \u001b[39m %33 = (j + 1)\u001b[36m::Int64\u001b[39m\n",
      "\u001b[90m│   \u001b[39m %34 = Main.ifelse(%32, 1, %33)\u001b[36m::Int64\u001b[39m\n",
      "\u001b[90m│   \u001b[39m %35 = Base.getindex(%31, %34)\u001b[36m::Int64\u001b[39m\n",
      "\u001b[90m│   \u001b[39m       (s2 = Main.view(spins, Main.:(:), %35))\n",
      "\u001b[90m│   \u001b[39m %37 = vc\u001b[36m::Float64\u001b[39m\n",
      "\u001b[90m│   \u001b[39m %38 = Main.mycross(s1, s2)\u001b[36m::Float64\u001b[39m\n",
      "\u001b[90m│   \u001b[39m       (vc = %37 + %38)\n",
      "\u001b[90m│   \u001b[39m       (@_9 = Base.iterate(%21, %28))\n",
      "\u001b[90m│   \u001b[39m %41 = (@_9 === nothing)\u001b[36m::Bool\u001b[39m\n",
      "\u001b[90m│   \u001b[39m %42 = Base.not_int(%41)\u001b[36m::Bool\u001b[39m\n",
      "\u001b[90m└───\u001b[39m       goto #8 if not %42\n",
      "\u001b[90m7 ──\u001b[39m       goto #6\n",
      "\u001b[90m8 ┄─\u001b[39m       (@_7 = Base.iterate(%13, %20))\n",
      "\u001b[90m│   \u001b[39m %46 = (@_7 === nothing)\u001b[36m::Bool\u001b[39m\n",
      "\u001b[90m│   \u001b[39m %47 = Base.not_int(%46)\u001b[36m::Bool\u001b[39m\n",
      "\u001b[90m└───\u001b[39m       goto #10 if not %47\n",
      "\u001b[90m9 ──\u001b[39m       goto #5\n",
      "\u001b[90m10 ┄\u001b[39m %50 = (vc / num_spins)\u001b[36m::Float64\u001b[39m\n",
      "\u001b[90m└───\u001b[39m       return %50\n"
     ]
    }
   ],
   "source": [
    "@code_warntype compute_vector_chirality2(spins, triangles)"
   ]
  },
  {
   "cell_type": "code",
   "execution_count": 19,
   "metadata": {},
   "outputs": [
    {
     "data": {
      "text/plain": [
       "convert_spins_to_array (generic function with 1 method)"
      ]
     },
     "execution_count": 19,
     "metadata": {},
     "output_type": "execute_result"
    }
   ],
   "source": [
    "function convert_spins_to_array(spins::Vector{HeisenbergSpin})\n",
    "    N = length(spins)\n",
    "    spins_array = Array{Float64,2}(undef, 3, N)\n",
    "    for i in 1:N, j=1:3\n",
    "        spins_array[j,i] = spins[i][j]\n",
    "    end\n",
    "    spins_array\n",
    "end"
   ]
  },
  {
   "cell_type": "code",
   "execution_count": 1,
   "metadata": {},
   "outputs": [
    {
     "ename": "LoadError",
     "evalue": "UndefVarError: @benchmark not defined",
     "output_type": "error",
     "traceback": [
      "UndefVarError: @benchmark not defined",
      ""
     ]
    }
   ],
   "source": [
    "@benchmark convert_spins_to_array(spins)"
   ]
  },
  {
   "cell_type": "code",
   "execution_count": null,
   "metadata": {},
   "outputs": [],
   "source": []
  },
  {
   "cell_type": "code",
   "execution_count": 14,
   "metadata": {},
   "outputs": [
    {
     "data": {
      "text/plain": [
       "BenchmarkTools.Trial: \n",
       "  memory estimate:  50.75 KiB\n",
       "  allocs estimate:  433\n",
       "  --------------\n",
       "  minimum time:     12.756 μs (0.00% GC)\n",
       "  median time:      15.710 μs (0.00% GC)\n",
       "  mean time:        16.712 μs (4.05% GC)\n",
       "  maximum time:     720.229 μs (96.25% GC)\n",
       "  --------------\n",
       "  samples:          10000\n",
       "  evals/sample:     1"
      ]
     },
     "execution_count": 14,
     "metadata": {},
     "output_type": "execute_result"
    }
   ],
   "source": [
    "L = 12\n",
    "num_spins = 3L^2\n",
    "num_triangles = L^2\n",
    "\n",
    "triangles = fill((1,1,1), num_triangles)\n",
    "spins = fill((0.0, 0.0, 0.0), num_spins)\n",
    "\n",
    "@benchmark compute_vector_chirality(spins, triangles)"
   ]
  },
  {
   "cell_type": "code",
   "execution_count": 12,
   "metadata": {},
   "outputs": [
    {
     "name": "stdout",
     "output_type": "stream",
     "text": [
      "Variables\n",
      "  #self#\u001b[36m::Core.Compiler.Const(compute_vector_chirality, false)\u001b[39m\n",
      "  spins\u001b[36m::Array{Tuple{Float64,Float64,Float64},1}\u001b[39m\n",
      "  triangles\u001b[36m::Array{Tuple{Int64,Int64,Int64},1}\u001b[39m\n",
      "  vc\u001b[36m::Float64\u001b[39m\n",
      "  num_spins\u001b[36m::Int64\u001b[39m\n",
      "  num_triangles\u001b[36m::Int64\u001b[39m\n",
      "  spins2\u001b[36m::Array{Array{Float64,1},1}\u001b[39m\n",
      "  @_8\u001b[33m\u001b[1m::Union{Nothing, Tuple{Tuple{Int64,Int64,Int64},Int64}}\u001b[22m\u001b[39m\n",
      "  i\u001b[36m::Tuple{Int64,Int64,Int64}\u001b[39m\n",
      "  @_10\u001b[33m\u001b[1m::Union{Nothing, Tuple{Int64,Int64}}\u001b[22m\u001b[39m\n",
      "  j\u001b[36m::Int64\u001b[39m\n",
      "  s1\u001b[36m::Array{Float64,1}\u001b[39m\n",
      "  s2\u001b[36m::Array{Float64,1}\u001b[39m\n",
      "\n",
      "Body\u001b[36m::Float64\u001b[39m\n",
      "\u001b[90m1 ──\u001b[39m       Core.NewvarNode(:(spins2))\n",
      "\u001b[90m│   \u001b[39m       Core.NewvarNode(:(@_8))\n",
      "\u001b[90m│   \u001b[39m       (vc = 0.0)\n",
      "\u001b[90m│   \u001b[39m       (num_spins = Main.length(spins))\n",
      "\u001b[90m│   \u001b[39m       (num_triangles = Main.length(triangles))\n",
      "\u001b[90m│   \u001b[39m %6  = num_spins\u001b[36m::Int64\u001b[39m\n",
      "\u001b[90m│   \u001b[39m %7  = (3 * num_triangles)\u001b[36m::Int64\u001b[39m\n",
      "\u001b[90m│   \u001b[39m %8  = (%6 == %7)\u001b[36m::Bool\u001b[39m\n",
      "\u001b[90m└───\u001b[39m       goto #3 if not %8\n",
      "\u001b[90m2 ──\u001b[39m       goto #4\n",
      "\u001b[90m3 ──\u001b[39m %11 = Base.AssertionError(\"num_spins == 3num_triangles\")\u001b[36m::AssertionError\u001b[39m\n",
      "\u001b[90m└───\u001b[39m       Base.throw(%11)\n",
      "\u001b[90m4 ┄─\u001b[39m %13 = Base.broadcasted(Main.collect, spins)\u001b[36m::Base.Broadcast.Broadcasted{Base.Broadcast.DefaultArrayStyle{1},Nothing,typeof(collect),Tuple{Array{Tuple{Float64,Float64,Float64},1}}}\u001b[39m\n",
      "\u001b[90m│   \u001b[39m       (spins2 = Base.materialize(%13))\n",
      "\u001b[90m│   \u001b[39m %15 = triangles\u001b[36m::Array{Tuple{Int64,Int64,Int64},1}\u001b[39m\n",
      "\u001b[90m│   \u001b[39m       (@_8 = Base.iterate(%15))\n",
      "\u001b[90m│   \u001b[39m %17 = (@_8 === nothing)\u001b[36m::Bool\u001b[39m\n",
      "\u001b[90m│   \u001b[39m %18 = Base.not_int(%17)\u001b[36m::Bool\u001b[39m\n",
      "\u001b[90m└───\u001b[39m       goto #10 if not %18\n",
      "\u001b[90m5 ┄─\u001b[39m %20 = @_8::Tuple{Tuple{Int64,Int64,Int64},Int64}\u001b[36m::Tuple{Tuple{Int64,Int64,Int64},Int64}\u001b[39m\n",
      "\u001b[90m│   \u001b[39m       (i = Core.getfield(%20, 1))\n",
      "\u001b[90m│   \u001b[39m %22 = Core.getfield(%20, 2)\u001b[36m::Int64\u001b[39m\n",
      "\u001b[90m│   \u001b[39m %23 = (1:3)\u001b[36m::Core.Compiler.Const(1:3, false)\u001b[39m\n",
      "\u001b[90m│   \u001b[39m       (@_10 = Base.iterate(%23))\n",
      "\u001b[90m│   \u001b[39m %25 = (@_10::Core.Compiler.Const((1, 1), false) === nothing)\u001b[36m::Core.Compiler.Const(false, false)\u001b[39m\n",
      "\u001b[90m│   \u001b[39m %26 = Base.not_int(%25)\u001b[36m::Core.Compiler.Const(true, false)\u001b[39m\n",
      "\u001b[90m└───\u001b[39m       goto #8 if not %26\n",
      "\u001b[90m6 ┄─\u001b[39m %28 = @_10::Tuple{Int64,Int64}\u001b[36m::Tuple{Int64,Int64}\u001b[39m\n",
      "\u001b[90m│   \u001b[39m       (j = Core.getfield(%28, 1))\n",
      "\u001b[90m│   \u001b[39m %30 = Core.getfield(%28, 2)\u001b[36m::Int64\u001b[39m\n",
      "\u001b[90m│   \u001b[39m %31 = spins2\u001b[36m::Array{Array{Float64,1},1}\u001b[39m\n",
      "\u001b[90m│   \u001b[39m %32 = Base.getindex(i, j)\u001b[36m::Int64\u001b[39m\n",
      "\u001b[90m│   \u001b[39m       (s1 = Base.getindex(%31, %32))\n",
      "\u001b[90m│   \u001b[39m %34 = spins2\u001b[36m::Array{Array{Float64,1},1}\u001b[39m\n",
      "\u001b[90m│   \u001b[39m %35 = i\u001b[36m::Tuple{Int64,Int64,Int64}\u001b[39m\n",
      "\u001b[90m│   \u001b[39m %36 = (j == 3)\u001b[36m::Bool\u001b[39m\n",
      "\u001b[90m│   \u001b[39m %37 = (j + 1)\u001b[36m::Int64\u001b[39m\n",
      "\u001b[90m│   \u001b[39m %38 = Main.ifelse(%36, 1, %37)\u001b[36m::Int64\u001b[39m\n",
      "\u001b[90m│   \u001b[39m %39 = Base.getindex(%35, %38)\u001b[36m::Int64\u001b[39m\n",
      "\u001b[90m│   \u001b[39m       (s2 = Base.getindex(%34, %39))\n",
      "\u001b[90m│   \u001b[39m %41 = vc\u001b[36m::Float64\u001b[39m\n",
      "\u001b[90m│   \u001b[39m %42 = Base.getindex(s1, 1)\u001b[36m::Float64\u001b[39m\n",
      "\u001b[90m│   \u001b[39m %43 = Base.getindex(s2, 2)\u001b[36m::Float64\u001b[39m\n",
      "\u001b[90m│   \u001b[39m %44 = (%42 * %43)\u001b[36m::Float64\u001b[39m\n",
      "\u001b[90m│   \u001b[39m %45 = Base.getindex(s1, 2)\u001b[36m::Float64\u001b[39m\n",
      "\u001b[90m│   \u001b[39m %46 = Base.getindex(s2, 1)\u001b[36m::Float64\u001b[39m\n",
      "\u001b[90m│   \u001b[39m %47 = (%45 * %46)\u001b[36m::Float64\u001b[39m\n",
      "\u001b[90m│   \u001b[39m %48 = (%44 - %47)\u001b[36m::Float64\u001b[39m\n",
      "\u001b[90m│   \u001b[39m       (vc = %41 + %48)\n",
      "\u001b[90m│   \u001b[39m       (@_10 = Base.iterate(%23, %30))\n",
      "\u001b[90m│   \u001b[39m %51 = (@_10 === nothing)\u001b[36m::Bool\u001b[39m\n",
      "\u001b[90m│   \u001b[39m %52 = Base.not_int(%51)\u001b[36m::Bool\u001b[39m\n",
      "\u001b[90m└───\u001b[39m       goto #8 if not %52\n",
      "\u001b[90m7 ──\u001b[39m       goto #6\n",
      "\u001b[90m8 ┄─\u001b[39m       (@_8 = Base.iterate(%15, %22))\n",
      "\u001b[90m│   \u001b[39m %56 = (@_8 === nothing)\u001b[36m::Bool\u001b[39m\n",
      "\u001b[90m│   \u001b[39m %57 = Base.not_int(%56)\u001b[36m::Bool\u001b[39m\n",
      "\u001b[90m└───\u001b[39m       goto #10 if not %57\n",
      "\u001b[90m9 ──\u001b[39m       goto #5\n",
      "\u001b[90m10 ┄\u001b[39m %60 = (vc / num_spins)\u001b[36m::Float64\u001b[39m\n",
      "\u001b[90m└───\u001b[39m       return %60\n"
     ]
    }
   ],
   "source": [
    "@code_warntype compute_vector_chirality(spins, triangles)"
   ]
  },
  {
   "cell_type": "code",
   "execution_count": null,
   "metadata": {},
   "outputs": [],
   "source": []
  }
 ],
 "metadata": {
  "kernelspec": {
   "display_name": "Julia 1.5.2",
   "language": "julia",
   "name": "julia-1.5"
  },
  "language_info": {
   "file_extension": ".jl",
   "mimetype": "application/julia",
   "name": "julia",
   "version": "1.5.2"
  }
 },
 "nbformat": 4,
 "nbformat_minor": 4
}
