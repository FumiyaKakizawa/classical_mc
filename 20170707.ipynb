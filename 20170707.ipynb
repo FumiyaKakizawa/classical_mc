{
 "cells": [
  {
   "cell_type": "markdown",
   "metadata": {},
   "source": [
    "# 離散最適化問題"
   ]
  },
  {
   "cell_type": "markdown",
   "metadata": {},
   "source": [
    "## アニーリング法"
   ]
  },
  {
   "cell_type": "markdown",
   "metadata": {},
   "source": [
    "$N$スピンイジング模型\n",
    "$$\n",
    "E(\\{S_i\\}) = \\frac{1}{2}\\sum_{i,j=1, i\\neq j}^N J_{ij} S_i S_j\n",
    "$$\n",
    "「1次元反強磁性」模型。\n",
    "$J_{i,i+1} = J_{i+1,i} = 1$.\n",
    "エネルギーを最小化する状態は、$S_i=(-1)^i$.\n",
    "\n",
    "\n",
    "\n",
    "\n",
    "\n",
    "\n",
    "\n",
    "\n",
    "\n",
    "\n",
    "\n",
    "\n",
    "\n",
    "\n",
    "\n",
    "\n",
    "\n",
    "\n",
    "\n",
    "\n",
    "\n",
    "\n",
    "\n",
    "\n",
    "\n",
    "\n",
    "\n",
    "\n",
    "\n",
    "\n",
    "\n",
    "\n",
    "\n",
    "\n",
    "\n"
   ]
  },
  {
   "cell_type": "code",
   "execution_count": 21,
   "metadata": {},
   "outputs": [
    {
     "name": "stdout",
     "output_type": "stream",
     "text": [
      "[ 1 -1  1 -1  1 -1  1 -1  1 -1]\n"
     ]
    }
   ],
   "source": [
    "import numpy as np\n",
    "import random\n",
    "\n",
    "#def p(x_old, x_new):\n",
    "#   return (x-1)**2\n",
    "def energy(Svec):\n",
    "    e = 0.0\n",
    "    N = len(Svec)\n",
    "    for site in range(N-1):\n",
    "        e += Svec[site] * Svec[site+1]\n",
    "    return e\n",
    "    \n",
    "N = 10\n",
    "Svec = np.array([1]*N, dtype=int)\n",
    "#print(Svec)\n",
    "#print(energy(Svec))\n",
    "#beta = 0.0001\n",
    "\n",
    "Tmax = 100.0\n",
    "Tmin = 0.01\n",
    "\n",
    "M = 10000\n",
    "for loop in range(M):\n",
    "    T = Tmax + loop * (Tmin-Tmax) / (M-1)\n",
    "    beta = 1/T\n",
    "    \n",
    "    site = loop%N\n",
    "    \n",
    "    S1 = np.array(Svec)\n",
    "    S1[site] = 1\n",
    "    \n",
    "    S2 = np.array(Svec)\n",
    "    S2[site] = -1\n",
    "    \n",
    "    E1 = energy(S1)\n",
    "    E2 = energy(S2)\n",
    "    \n",
    "    dE = E1 - E2\n",
    "    P1 = np.exp(-beta*dE)/(np.exp(-beta*dE)+1.0)\n",
    "    \n",
    "    if random.random() < P1:\n",
    "        Svec[site] = 1\n",
    "    else:\n",
    "        Svec[site] = -1\n",
    "    \n",
    "print(Svec)\n",
    "    \n",
    "#beta = 0.2\n"
   ]
  },
  {
   "cell_type": "code",
   "execution_count": null,
   "metadata": {
    "collapsed": true
   },
   "outputs": [],
   "source": []
  }
 ],
 "metadata": {
  "anaconda-cloud": {},
  "kernelspec": {
   "display_name": "Python 3",
   "language": "python",
   "name": "python3"
  },
  "language_info": {
   "codemirror_mode": {
    "name": "ipython",
    "version": 3
   },
   "file_extension": ".py",
   "mimetype": "text/x-python",
   "name": "python",
   "nbconvert_exporter": "python",
   "pygments_lexer": "ipython3",
   "version": "3.6.5"
  }
 },
 "nbformat": 4,
 "nbformat_minor": 1
}
