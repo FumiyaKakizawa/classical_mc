{
 "cells": [
  {
   "cell_type": "code",
   "execution_count": 29,
   "metadata": {},
   "outputs": [
    {
     "data": {
      "text/plain": [
       "2-element Array{Array{Tuple{Float64,Float64,Float64},1},1}:\n",
       " [(1.0, 2.0, 3.0), (1.0, 2.0, 3.0), (1.0, 2.0, 3.0)]\n",
       " [(1.0, 2.0, 3.0), (1.0, 2.0, 3.0), (1.0, 2.0, 3.0)]"
      ]
     },
     "execution_count": 29,
     "metadata": {},
     "output_type": "execute_result"
    }
   ],
   "source": [
    "using BenchmarkTools\n",
    "num_temps = 2\n",
    "num_spins = 3\n",
    "spins = [fill((1.0,2.0,3.0),num_spins) for i in 1:num_temps]\n",
    "#spins_array = fill(0.0,3,num_spins,num_temps)"
   ]
  },
  {
   "cell_type": "code",
   "execution_count": 30,
   "metadata": {},
   "outputs": [
    {
     "data": {
      "text/plain": [
       "3×3 Array{Float64,2}:\n",
       " 1.0  1.0  1.0\n",
       " 2.0  2.0  2.0\n",
       " 3.0  3.0  3.0"
      ]
     },
     "execution_count": 30,
     "metadata": {},
     "output_type": "execute_result"
    }
   ],
   "source": [
    "const HeisenbergSpin = Tuple{Float64,Float64,Float64}\n",
    "function convert_spins_to_array(spins::Vector{HeisenbergSpin})\n",
    "    N = length(spins)\n",
    "    spins_array = Array{Float64,2}(undef, 3, N)\n",
    "    for i in 1:N, j=1:3\n",
    "        spins_array[j,i] = spins[i][j]\n",
    "    end\n",
    "    spins_array\n",
    "end\n",
    "s = spins[1]\n",
    "sa = convert_spins_to_array(s)"
   ]
  },
  {
   "cell_type": "code",
   "execution_count": 31,
   "metadata": {},
   "outputs": [
    {
     "data": {
      "text/plain": [
       "BenchmarkTools.Trial: \n",
       "  memory estimate:  160 bytes\n",
       "  allocs estimate:  1\n",
       "  --------------\n",
       "  minimum time:     51.507 ns (0.00% GC)\n",
       "  median time:      61.754 ns (0.00% GC)\n",
       "  mean time:        75.608 ns (3.85% GC)\n",
       "  maximum time:     3.615 μs (0.00% GC)\n",
       "  --------------\n",
       "  samples:          10000\n",
       "  evals/sample:     980"
      ]
     },
     "execution_count": 31,
     "metadata": {},
     "output_type": "execute_result"
    }
   ],
   "source": [
    "s = spins[1]\n",
    "@benchmark convert_spins_to_array(s)"
   ]
  },
  {
   "cell_type": "code",
   "execution_count": 32,
   "metadata": {},
   "outputs": [
    {
     "data": {
      "text/plain": [
       "3×3×2 Array{Float64,3}:\n",
       "[:, :, 1] =\n",
       " 1.0  1.0  1.0\n",
       " 2.0  2.0  2.0\n",
       " 3.0  3.0  3.0\n",
       "\n",
       "[:, :, 2] =\n",
       " 1.0  1.0  1.0\n",
       " 2.0  2.0  2.0\n",
       " 3.0  3.0  3.0"
      ]
     },
     "execution_count": 32,
     "metadata": {},
     "output_type": "execute_result"
    }
   ],
   "source": [
    "function test1(spins,num_spins,num_temps)\n",
    "\tspins_array = fill(0.0,3,num_spins,num_temps)\n",
    "\tfor i in 1:num_temps\n",
    "\t\tspins_array[:,:,i] = convert_spins_to_array(spins[i])\n",
    "\tend\n",
    "\tspins_array\n",
    "end\n",
    "spins_array = test1(spins)"
   ]
  },
  {
   "cell_type": "code",
   "execution_count": 33,
   "metadata": {},
   "outputs": [
    {
     "data": {
      "text/plain": [
       "BenchmarkTools.Trial: \n",
       "  memory estimate:  544 bytes\n",
       "  allocs estimate:  3\n",
       "  --------------\n",
       "  minimum time:     202.655 ns (0.00% GC)\n",
       "  median time:      234.669 ns (0.00% GC)\n",
       "  mean time:        266.464 ns (3.94% GC)\n",
       "  maximum time:     8.933 μs (0.00% GC)\n",
       "  --------------\n",
       "  samples:          10000\n",
       "  evals/sample:     473"
      ]
     },
     "execution_count": 33,
     "metadata": {},
     "output_type": "execute_result"
    }
   ],
   "source": [
    "@benchmark test1(spins)"
   ]
  },
  {
   "cell_type": "code",
   "execution_count": 14,
   "metadata": {},
   "outputs": [],
   "source": [
    "using Test"
   ]
  },
  {
   "cell_type": "code",
   "execution_count": 34,
   "metadata": {},
   "outputs": [
    {
     "data": {
      "text/plain": [
       "test2! (generic function with 2 methods)"
      ]
     },
     "execution_count": 34,
     "metadata": {},
     "output_type": "execute_result"
    }
   ],
   "source": [
    "function test2!(spins,spins_array,num_temps,num_spins)\n",
    "\t\n",
    "\tfor i in 1:num_temps\n",
    "\t\tspins_array[:,:,i] = convert_spins_to_array(spins[i])\n",
    "\tend\n",
    "end"
   ]
  },
  {
   "cell_type": "code",
   "execution_count": 35,
   "metadata": {},
   "outputs": [
    {
     "data": {
      "text/plain": [
       "BenchmarkTools.Trial: \n",
       "  memory estimate:  1.28 KiB\n",
       "  allocs estimate:  51\n",
       "  --------------\n",
       "  minimum time:     3.415 μs (0.00% GC)\n",
       "  median time:      4.060 μs (0.00% GC)\n",
       "  mean time:        4.421 μs (1.74% GC)\n",
       "  maximum time:     411.993 μs (98.09% GC)\n",
       "  --------------\n",
       "  samples:          10000\n",
       "  evals/sample:     8"
      ]
     },
     "execution_count": 35,
     "metadata": {},
     "output_type": "execute_result"
    }
   ],
   "source": [
    "spins_array = fill(0.0,3,num_spins,num_temps)\n",
    "@benchmark test2!(spins,spins_array) "
   ]
  },
  {
   "cell_type": "markdown",
   "metadata": {},
   "source": [
    "多分、"
   ]
  },
  {
   "cell_type": "code",
   "execution_count": 44,
   "metadata": {},
   "outputs": [],
   "source": [
    "using LinearAlgebra"
   ]
  },
  {
   "cell_type": "code",
   "execution_count": null,
   "metadata": {},
   "outputs": [],
   "source": []
  },
  {
   "cell_type": "code",
   "execution_count": 6,
   "metadata": {},
   "outputs": [],
   "source": [
    "function compute_bs(a1,a2,a3)\n",
    "\tb1 = 2π*(a2×a3)/(abs(a1 ⋅ (a2×a3)))\n",
    "\tb2 = 2π*(a3×a1)/(abs(a2 ⋅ (a3×a1)))\n",
    "\tb3 = 2π*(a1×a2)/(abs(a3 ⋅ (a1×a2)))\n",
    "\treturn b1,b2,b3\n",
    "end"
   ]
  },
  {
   "cell_type": "code",
   "execution_count": 6,
   "metadata": {},
   "outputs": [
    {
     "name": "stdout",
     "output_type": "stream",
     "text": [
      "([1.0, 0.0, 0.0], [0.0, 1.0, 0.0], [0.0, 0.0, 1.0])\n"
     ]
    }
   ],
   "source": [
    "#歪空間 q=0\n",
    "a1 = [1.0,0.0,0.0]\n",
    "a2 = [0.0,1.0,0.0]\n",
    "a3 = [0.0,0.0,1.0]\n",
    "bs = compute_bs(a1,a2,a3)\n",
    "println(bs./(2π))"
   ]
  },
  {
   "cell_type": "markdown",
   "metadata": {},
   "source": [
    "$$\\vec b_1 = \\left(2\\pi,0\\right)$$\n",
    "$$\\vec b_2 = \\left(0,2\\pi\\right)$$"
   ]
  },
  {
   "cell_type": "code",
   "execution_count": 49,
   "metadata": {},
   "outputs": [
    {
     "name": "stdout",
     "output_type": "stream",
     "text": [
      "([0.6666666666666666, 0.3333333333333333, -0.0], [-0.3333333333333333, 0.3333333333333333, 0.0], [0.0, -0.0, 1.0])\n"
     ]
    },
    {
     "data": {
      "text/plain": [
       "\u001b[32m\u001b[1mTest Passed\u001b[22m\u001b[39m"
      ]
     },
     "execution_count": 49,
     "metadata": {},
     "output_type": "execute_result"
    }
   ],
   "source": [
    "#歪空間 √3×√3\n",
    "a1 = [1.0,1.0,0.0]\n",
    "a2 = [-1.0,2.0,0.0]\n",
    "a3 = [0.0,0.0,1.0]\n",
    "bs = compute_bs(a1,a2,a3)\n",
    "println(bs./(2π))\n",
    "@test bs[1][1] ≈ 4π/3\n",
    "@test bs[1][2] ≈ 2π/3\n",
    "@test bs[2][1] ≈ -2π/3\n",
    "@test bs[2][2] ≈ 2π/3"
   ]
  },
  {
   "cell_type": "code",
   "execution_count": 85,
   "metadata": {},
   "outputs": [
    {
     "name": "stdout",
     "output_type": "stream",
     "text": [
      "([0.6666666666666666, -0.3333333333333333, 0.0], [-0.3333333333333333, 0.6666666666666666, 0.0], [0.0, 0.0, 1.0])\n"
     ]
    },
    {
     "data": {
      "text/plain": [
       "\u001b[32m\u001b[1mTest Passed\u001b[22m\u001b[39m"
      ]
     },
     "execution_count": 85,
     "metadata": {},
     "output_type": "execute_result"
    }
   ],
   "source": [
    "#歪空間 √3×√3\n",
    "a1 = [2.0,1.0,0.0]\n",
    "a2 = [1.0,2.0,0.0]\n",
    "a3 = [0.0,0.0,1.0]\n",
    "bs = compute_bs(a1,a2,a3)\n",
    "println(bs./(2π))\n",
    "@test bs[1][1] ≈ 4π/3\n",
    "@test bs[1][2] ≈ -2π/3\n",
    "@test bs[2][1] ≈ -2π/3\n",
    "@test bs[2][2] ≈ 4π/3"
   ]
  },
  {
   "cell_type": "markdown",
   "metadata": {},
   "source": [
    "$$\\vec b'_1 = \\left(\\frac{4\\pi}{3},\\frac{-2\\pi}{3}\\right) = \\frac{2}{3}\\vec b_1 + \\frac{-1}{3}\\vec b_2$$\n",
    "$$\\vec b'_2 = \\left(\\frac{-2\\pi}{3},\\frac{4\\pi}{3}\\right) = \\frac{-1}{3}\\vec b_1 + \\frac{2}{3}\\vec b_2$$"
   ]
  },
  {
   "cell_type": "code",
   "execution_count": 50,
   "metadata": {},
   "outputs": [
    {
     "name": "stdout",
     "output_type": "stream",
     "text": [
      "([1.0, -0.5773502691896257, 0.0], [0.0, 1.1547005383792515, 0.0], [0.0, 0.0, 1.0])\n"
     ]
    },
    {
     "data": {
      "text/plain": [
       "\u001b[32m\u001b[1mTest Passed\u001b[22m\u001b[39m"
      ]
     },
     "execution_count": 50,
     "metadata": {},
     "output_type": "execute_result"
    }
   ],
   "source": [
    "#実空間 q=0\n",
    "a1 = [1.0,0.0,0.0]\n",
    "a2 = [1/2,√3/2,0.0]\n",
    "a3 = [0.0,0.0,1.0]\n",
    "bs = compute_bs(a1,a2,a3)\n",
    "println(bs./(2π))\n",
    "@test bs[1][1] ≈ 2π\n",
    "@test bs[1][2] ≈ -2π/√3\n",
    "@test bs[2][1] ≈ 0\n",
    "@test bs[2][2] ≈ 4π / √3"
   ]
  },
  {
   "cell_type": "markdown",
   "metadata": {},
   "source": [
    "$$\\vec b_1 = \\left(2\\pi,\\frac{-2\\pi}{\\sqrt3}\\right)$$\n",
    "$$\\vec b_2 = \\left(0,\\frac{4\\pi}{\\sqrt3}\\right)$$"
   ]
  },
  {
   "cell_type": "code",
   "execution_count": 51,
   "metadata": {},
   "outputs": [
    {
     "name": "stdout",
     "output_type": "stream",
     "text": [
      "([0.6666666666666666, 0.0, 0.0], [-0.3333333333333333, 0.5773502691896257, 0.0], [0.0, 0.0, 1.0])\n"
     ]
    },
    {
     "data": {
      "text/plain": [
       "\u001b[32m\u001b[1mTest Passed\u001b[22m\u001b[39m"
      ]
     },
     "execution_count": 51,
     "metadata": {},
     "output_type": "execute_result"
    }
   ],
   "source": [
    "#実空間 √3×√3\n",
    "a1 = [3/2,√3/2,0.0]\n",
    "a2 = [0.0,√3,0.0]\n",
    "a3 = [0.0,0.0,1.0]\n",
    "bs = compute_bs(a1,a2,a3)\n",
    "println(bs./(2π))\n",
    "@test bs[1][1] ≈ 4π/3\n",
    "@test bs[1][2] ≈ 0\n",
    "@test bs[2][1] ≈ -2π/3\n",
    "@test bs[2][2] ≈ 2π/√3"
   ]
  },
  {
   "cell_type": "markdown",
   "metadata": {},
   "source": [
    "$$\\vec b'_1 = \\left(\\frac{4\\pi}{3},0\\right) = \\frac{2\\pi}{3}\\vec b_1 + \\frac{1}{3}\\vec b_2$$\n",
    "$$\\vec b'_2 = \\left(\\frac{-2\\pi}{3},\\frac{2\\pi}{\\sqrt3}\\right) = \\frac{-1}{3}\\vec b_1 + \\frac{1}{3}\\vec b_2$$"
   ]
  },
  {
   "cell_type": "code",
   "execution_count": 53,
   "metadata": {},
   "outputs": [],
   "source": [
    "using PyCall\n",
    "sy = pyimport(\"sympy\");"
   ]
  },
  {
   "cell_type": "code",
   "execution_count": 55,
   "metadata": {},
   "outputs": [
    {
     "data": {
      "text/latex": [
       "$\\displaystyle \\sin{\\left(\\pi x \\right)}$"
      ],
      "text/plain": [
       "PyObject sin(pi*x)"
      ]
     },
     "execution_count": 55,
     "metadata": {},
     "output_type": "execute_result"
    }
   ],
   "source": [
    "x = sy.Symbol(\"x\")\n",
    "y = sy.pi*x\n",
    "z = sy.sin(y)"
   ]
  },
  {
   "cell_type": "code",
   "execution_count": 57,
   "metadata": {},
   "outputs": [
    {
     "data": {
      "text/plain": [
       "(2,)"
      ]
     },
     "execution_count": 57,
     "metadata": {},
     "output_type": "execute_result"
    }
   ],
   "source": [
    "x = [1,2]\n",
    "size(x)"
   ]
  },
  {
   "cell_type": "code",
   "execution_count": 59,
   "metadata": {},
   "outputs": [
    {
     "data": {
      "text/plain": [
       "4-element Array{Int64,1}:\n",
       " 2\n",
       " 4\n",
       " 6\n",
       " 8"
      ]
     },
     "execution_count": 59,
     "metadata": {},
     "output_type": "execute_result"
    }
   ],
   "source": [
    "y = [3,4]\n",
    "x[2] * [x;y]"
   ]
  },
  {
   "cell_type": "code",
   "execution_count": 61,
   "metadata": {},
   "outputs": [
    {
     "data": {
      "text/plain": [
       "2-element Array{Int64,1}:\n",
       " 1\n",
       " 2"
      ]
     },
     "execution_count": 61,
     "metadata": {},
     "output_type": "execute_result"
    }
   ],
   "source": [
    "x = [2,1]\n",
    "sort!(x)\n",
    "x"
   ]
  },
  {
   "cell_type": "code",
   "execution_count": 77,
   "metadata": {},
   "outputs": [
    {
     "name": "stdout",
     "output_type": "stream",
     "text": [
      "Dict(4 => (2, 0),2 => (1, 0),3 => (0, 1),5 => (3, 0),6 => (4, 0),1 => (0, 0))\n"
     ]
    },
    {
     "data": {
      "text/plain": [
       "6-element Array{Tuple{Int64,Int64},1}:\n",
       " (0, 0)\n",
       " (1, 0)\n",
       " (0, 1)\n",
       " (2, 0)\n",
       " (3, 0)\n",
       " (4, 0)"
      ]
     },
     "execution_count": 77,
     "metadata": {},
     "output_type": "execute_result"
    }
   ],
   "source": [
    "d = Dict(1=>(0,0),2=>(1,0),3=>(0,1))\n",
    "for i in 1:3\n",
    "\td[3+i] = (1+i,0)\n",
    "end\n",
    "println(d)\n",
    "a = [d[key] for key in sort(collect(keys(d)))]"
   ]
  },
  {
   "cell_type": "code",
   "execution_count": 80,
   "metadata": {},
   "outputs": [
    {
     "name": "stdout",
     "output_type": "stream",
     "text": [
      "Base.KeySet{Int64,Dict{Int64,Tuple{Int64,Int64}}}\n",
      "2\n",
      "[2, 1]\n"
     ]
    },
    {
     "data": {
      "text/plain": [
       "Base.ValueIterator for a Dict{Int64,Tuple{Int64,Int64}} with 2 entries. Values:\n",
       "  (3, 4)\n",
       "  (1, 2)"
      ]
     },
     "execution_count": 80,
     "metadata": {},
     "output_type": "execute_result"
    }
   ],
   "source": [
    "d2 = Dict(2=>(3,4),1=>(1,2))\n",
    "println(typeof(keys(d2)))\n",
    "println(length(keys(d2)))\n",
    "println(collect(keys(d2)))\n",
    "values(d2)"
   ]
  },
  {
   "cell_type": "code",
   "execution_count": 86,
   "metadata": {},
   "outputs": [
    {
     "data": {
      "text/plain": [
       "1×2×3 Array{Float64,3}:\n",
       "[:, :, 1] =\n",
       " 0.0  5.0e-324\n",
       "\n",
       "[:, :, 2] =\n",
       " 2.3288e-314  5.0e-324\n",
       "\n",
       "[:, :, 3] =\n",
       " 5.0e-324  2.3288e-314"
      ]
     },
     "execution_count": 86,
     "metadata": {},
     "output_type": "execute_result"
    }
   ],
   "source": [
    "test = Array{Float64,3}(undef,1,2,3)"
   ]
  },
  {
   "cell_type": "code",
   "execution_count": null,
   "metadata": {},
   "outputs": [],
   "source": []
  }
 ],
 "metadata": {
  "kernelspec": {
   "display_name": "Julia 1.4.0",
   "language": "julia",
   "name": "julia-1.4"
  },
  "language_info": {
   "file_extension": ".jl",
   "mimetype": "application/julia",
   "name": "julia",
   "version": "1.4.0"
  }
 },
 "nbformat": 4,
 "nbformat_minor": 4
}
