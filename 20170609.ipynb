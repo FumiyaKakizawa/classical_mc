{
 "cells": [
  {
   "cell_type": "markdown",
   "metadata": {},
   "source": [
    "# NumPyを使った配列演算"
   ]
  },
  {
   "cell_type": "markdown",
   "metadata": {},
   "source": [
    "* 演算が高速 (C++/Fortran並に)\n",
    "* 行列演算、テンソル演算を簡潔に記述"
   ]
  },
  {
   "cell_type": "markdown",
   "metadata": {},
   "source": [
    "## 配列の生成"
   ]
  },
  {
   "cell_type": "code",
   "execution_count": 23,
   "metadata": {
    "collapsed": false
   },
   "outputs": [
    {
     "name": "stdout",
     "output_type": "stream",
     "text": [
      "[ 1  4 16 64]\n",
      "(100, 100)\n",
      "0.0 100.0\n",
      "[ 0.          0.11111111  0.22222222  0.33333333  0.44444444  0.55555556\n",
      "  0.66666667  0.77777778  0.88888889  1.        ]\n",
      "[ 0  1  4  9 16 25 36 49 64 81]\n"
     ]
    }
   ],
   "source": [
    "import numpy as np\n",
    "\n",
    "a = np.zeros((100,100)) #Create a new ndarray and fill it with zeros.\n",
    "\n",
    "l = np.array([1, 4, 16, 64]) #Convert a list to a ndarray.\n",
    "print(l)\n",
    "\n",
    "b = np.array(a)  #Create a new ndarray with the same elements.\n",
    "\n",
    "b = np.zeros_like(a)\n",
    "\n",
    "b = a.copy()     #Make a copy\n",
    "print(b.shape)\n",
    "b[0,0] = 100\n",
    "print(a[0,0], b[0,0])\n",
    "\n",
    "a = np.linspace(0.0, 1.0, 10)\n",
    "print(a)\n",
    "\n",
    "a = np.array([n**2 for n in range(10)])\n",
    "print(a)"
   ]
  },
  {
   "cell_type": "markdown",
   "metadata": {},
   "source": [
    "## Viewの作成"
   ]
  },
  {
   "cell_type": "code",
   "execution_count": 99,
   "metadata": {
    "collapsed": false
   },
   "outputs": [
    {
     "name": "stdout",
     "output_type": "stream",
     "text": [
      "[ 1  2  3  4  5  6  7  8  9 10]\n",
      "[ 1  2  3  4  5  6  7  8  9 10]\n",
      "[10000     2     3     4     5     6     7     8     9    10]\n",
      "[4 5]\n",
      "[ 4  5  6  7  8  9 10]\n",
      "[ 4  6  8 10]\n",
      "[4 6]\n",
      "[10000     2     3     1     5     1     7     1     9     1]\n"
     ]
    }
   ],
   "source": [
    "N = 10\n",
    "a = np.arange(1,N+1)\n",
    "print(a)\n",
    "\n",
    "#Create a view\n",
    "b = a\n",
    "print(b)\n",
    "b[0] = 10000\n",
    "print(a)\n",
    "\n",
    "#Creating a view by basic indexing\n",
    "b = a[3:5]\n",
    "print(b)\n",
    "\n",
    "print(a[3:])\n",
    "print(a[3::2])\n",
    "print(a[3:6:2])\n",
    "a[3::2] = 1 \n",
    "print(a)"
   ]
  },
  {
   "cell_type": "code",
   "execution_count": 101,
   "metadata": {
    "collapsed": false
   },
   "outputs": [
    {
     "name": "stdout",
     "output_type": "stream",
     "text": [
      "[[ 0.  0.  0.  0.]\n",
      " [ 0.  0.  0.  0.]\n",
      " [ 0.  0.  0.  0.]\n",
      " [ 0.  0.  0.  0.]]\n",
      "[ 0.  0.  0.  0.  0.  0.  0.  0.  0.  0.  0.  0.  0.  0.  0.  0.]\n",
      "[[ 0.  0.  0.  0.]\n",
      " [ 1.  0.  0.  0.]\n",
      " [ 2.  0.  0.  0.]\n",
      " [ 3.  0.  0.  0.]]\n",
      "[ 0.  0.  0.  0.  1.  0.  0.  0.  2.  0.  0.  0.  3.  0.  0.  0.]\n",
      "[ 0.  0.  0.  0.  1.  0.  0.  0.  2.  0.  0.  0.  3.  0.  0.  0.]\n",
      "[[[[ 0.  0.]\n",
      "   [ 0.  0.]]\n",
      "\n",
      "  [[ 1.  0.]\n",
      "   [ 0.  0.]]]\n",
      "\n",
      "\n",
      " [[[ 2.  0.]\n",
      "   [ 0.  0.]]\n",
      "\n",
      "  [[ 3.  0.]\n",
      "   [ 0.  0.]]]]\n"
     ]
    }
   ],
   "source": [
    "#Create a view by reshape\n",
    "N = 4\n",
    "a = np.zeros((N,N)); print(a)\n",
    "\n",
    "print(a.reshape(N**2))\n",
    "b = a.reshape(N**2)\n",
    "for i in range(N):\n",
    "    a[i,0] = i\n",
    "print(a)\n",
    "print(b)\n",
    "print(np.reshape(a,N**2))\n",
    "print( a.reshape((2,2,2,2)) )"
   ]
  },
  {
   "cell_type": "markdown",
   "metadata": {
    "collapsed": false
   },
   "source": [
    "## 要素毎の演算"
   ]
  },
  {
   "cell_type": "code",
   "execution_count": 103,
   "metadata": {
    "collapsed": false
   },
   "outputs": [
    {
     "name": "stdout",
     "output_type": "stream",
     "text": [
      "[0 1 2 3 4 5 6 7 8 9]\n",
      "[ 0  2  4  6  8 10 12 14 16 18]\n",
      "[ 0  3  6  9 12 15 18 21 24 27]\n",
      "[  0   9  36  81 144 225 324 441 576 729]\n",
      "[ 0.          0.6981317   1.3962634   2.0943951   2.7925268   3.4906585\n",
      "  4.1887902   4.88692191  5.58505361  6.28318531]\n",
      "[  0.00000000e+00   6.42787610e-01   9.84807753e-01   8.66025404e-01\n",
      "   3.42020143e-01  -3.42020143e-01  -8.66025404e-01  -9.84807753e-01\n",
      "  -6.42787610e-01  -2.44929360e-16]\n",
      "8.81375475581e-17\n"
     ]
    }
   ],
   "source": [
    "a = np.arange(0,10); print(a)\n",
    "\n",
    "b = 2*a; print(b)\n",
    "\n",
    "b += a; print(b)\n",
    "\n",
    "b = b**2; print(b)\n",
    "\n",
    "a = np.linspace(0.0, 2*np.pi, 10); print(a)\n",
    "b = np.sin(a); print(b)\n",
    "print(np.sum(b))"
   ]
  },
  {
   "cell_type": "markdown",
   "metadata": {
    "collapsed": false
   },
   "source": [
    "## 行列積"
   ]
  },
  {
   "cell_type": "code",
   "execution_count": 82,
   "metadata": {
    "collapsed": false
   },
   "outputs": [
    {
     "name": "stdout",
     "output_type": "stream",
     "text": [
      "[[ 0.69072088  0.50759283  0.63029159  0.81515131]\n",
      " [ 0.41772473  0.62732514  0.02766277  0.20043876]]\n",
      "[[ 0.86718835  0.53390035]\n",
      " [ 0.44614057  0.35212393]\n",
      " [ 0.79937676  0.70519489]\n",
      " [ 0.08101726  0.52046182]]\n",
      "(2, 4) (4, 2)\n",
      "[[ 1.39532463  1.41624525]\n",
      " [ 0.68047319  0.56774794]]\n"
     ]
    }
   ],
   "source": [
    "#import random\n",
    "\n",
    "N = 2\n",
    "a = np.random.rand(2*N**2).reshape((N,2*N))\n",
    "print(a)\n",
    "\n",
    "b = np.random.rand(2*N**2).reshape((2*N,N))\n",
    "print(b)\n",
    "\n",
    "print(a.shape, b.shape)\n",
    "\n",
    "print(a@b)"
   ]
  },
  {
   "cell_type": "markdown",
   "metadata": {},
   "source": [
    "## 線形代数"
   ]
  },
  {
   "cell_type": "code",
   "execution_count": 93,
   "metadata": {
    "collapsed": false
   },
   "outputs": [
    {
     "name": "stdout",
     "output_type": "stream",
     "text": [
      "(2, 4)\n",
      "(2, 2)\n",
      "(2,)\n",
      "(2, 4)\n",
      "a= [[ 0.69072088  0.50759283  0.63029159  0.81515131]\n",
      " [ 0.41772473  0.62732514  0.02766277  0.20043876]]\n",
      "a= [[ 0.69072088  0.50759283  0.63029159  0.81515131]\n",
      " [ 0.41772473  0.62732514  0.02766277  0.20043876]]\n"
     ]
    }
   ],
   "source": [
    "print(a.shape)\n",
    "U,s,Vt = np.linalg.svd(a,full_matrices=False)\n",
    "print(U.shape)\n",
    "print(s.shape)\n",
    "print(Vt.shape)\n",
    "\n",
    "print(\"a=\", a)\n",
    "print(\"a=\", U@np.diag(s)@Vt)"
   ]
  },
  {
   "cell_type": "markdown",
   "metadata": {},
   "source": [
    "## IO"
   ]
  },
  {
   "cell_type": "code",
   "execution_count": 94,
   "metadata": {
    "collapsed": true
   },
   "outputs": [],
   "source": [
    "np.save(\"a.npy\", a)\n",
    "b = np.load(\"a.npy\")"
   ]
  },
  {
   "cell_type": "code",
   "execution_count": 113,
   "metadata": {
    "collapsed": false
   },
   "outputs": [
    {
     "name": "stdout",
     "output_type": "stream",
     "text": [
      "3.14159151082\n"
     ]
    }
   ],
   "source": [
    "N = 1000000\n",
    "x = np.linspace(0, 1, N)\n",
    "print((4/N)*np.sum(np.sqrt(1-x**2)))\n",
    "\n",
    "#r = 0.0\n",
    "#for i in range(N):\n",
    "#    r += np.sqrt(1-x[i]**2)\n",
    "#print((4/N)*r)"
   ]
  }
 ],
 "metadata": {
  "anaconda-cloud": {},
  "kernelspec": {
   "display_name": "Python 3",
   "language": "python",
   "name": "python3"
  },
  "language_info": {
   "codemirror_mode": {
    "name": "ipython",
    "version": 3
   },
   "file_extension": ".py",
   "mimetype": "text/x-python",
   "name": "python",
   "nbconvert_exporter": "python",
   "pygments_lexer": "ipython3",
   "version": "3.5.2"
  }
 },
 "nbformat": 4,
 "nbformat_minor": 1
}
