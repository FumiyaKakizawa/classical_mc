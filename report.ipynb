{
 "cells": [
  {
   "cell_type": "markdown",
   "metadata": {},
   "source": [
    "# レポート課題"
   ]
  },
  {
   "cell_type": "markdown",
   "metadata": {
    "collapsed": false
   },
   "source": [
    "6スピンイジング模型を考える。「エネルギー」は\n",
    "$$\n",
    "E(\\{S_i\\}) = \\frac{1}{2}\\sum_{i,j=1, i\\neq j}^6 S_i S_j\n",
    "$$\n",
    "で与えられる。ただし、$S_i=\\pm 1$。\n",
    "エネルギーを最小にする解$\\{S_i\\}$の個数を求めるプログラムを書け。(答えは20)\n"
   ]
  }
 ],
 "metadata": {
  "anaconda-cloud": {},
  "kernelspec": {
   "display_name": "Python 3",
   "language": "python",
   "name": "python3"
  },
  "language_info": {
   "codemirror_mode": {
    "name": "ipython",
    "version": 3
   },
   "file_extension": ".py",
   "mimetype": "text/x-python",
   "name": "python",
   "nbconvert_exporter": "python",
   "pygments_lexer": "ipython3",
   "version": "3.5.2"
  }
 },
 "nbformat": 4,
 "nbformat_minor": 1
}
