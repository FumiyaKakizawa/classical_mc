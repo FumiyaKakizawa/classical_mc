{
 "cells": [
  {
   "cell_type": "code",
   "execution_count": 46,
   "metadata": {},
   "outputs": [],
   "source": [
    "import numpy as np\n",
    "%matplotlib inline\n",
    "import matplotlib.pyplot as plt\n",
    "from scipy import interpolate\n",
    "\n",
    "pole = 1.0\n",
    "beta = 10.0\n",
    "\n",
    "iwn = lambda n: 1J*(2*n+1)*np.pi/beta\n",
    "gtau = lambda tau: -np.exp(- tau * pole)/(1 + np.exp(-beta*pole))\n",
    "giwn = lambda n: 1/(iwn(n) - pole)"
   ]
  },
  {
   "cell_type": "markdown",
   "metadata": {},
   "source": [
    "# データをスプライン補間した上で、高周波数テールを見積もる\n",
    "詳しくは、E. Gullの博士論文B.1章を参照のこと\n",
    "http://hdl.handle.net/20.500.11850/104013"
   ]
  },
  {
   "cell_type": "code",
   "execution_count": 62,
   "metadata": {},
   "outputs": [],
   "source": [
    "def to_freq_fermionic_real_field(beta,n_freq,f_tau):\n",
    "    ndiv_tau_smpl = len(f_tau)-1\n",
    "    n_tau_dense = 2*n_freq\n",
    "    tau_mesh=np.linspace(0,beta,ndiv_tau_smpl+1)\n",
    "    tau_mesh_dense=np.linspace(0,beta,n_tau_dense+1)\n",
    "    freq_mesh=np.linspace(np.pi/beta, (2*n_freq-1)*np.pi/beta, n_freq)\n",
    "    f_freq = np.zeros(n_freq,dtype=complex)\n",
    "\n",
    "    #Spline interpolation to evaluate the high-frequency tail\n",
    "    fit = interpolate.InterpolatedUnivariateSpline(tau_mesh,f_tau)\n",
    "    deriv_0 = fit.derivatives(0.0)\n",
    "    deriv_beta = fit.derivatives(beta)\n",
    "    c1 = -deriv_beta[0]-deriv_0[0]\n",
    "    c2 = deriv_beta[1]+deriv_0[1]\n",
    "    c3 = -deriv_beta[2]-deriv_0[2]\n",
    "    for im in range(0,n_freq):\n",
    "        f_freq[im]=c1/(1J*freq_mesh[im])+c2/(1J*freq_mesh[im])**2+c3/(1J*freq_mesh[im])**3\n",
    "\n",
    "    #Contribution from the rest part\n",
    "    f_tau_rest_dense = fit(tau_mesh_dense)-c1*f_tau_tail_fermionic(beta,n_tau_dense,1)-c2*f_tau_tail_fermionic(beta,n_tau_dense,2)-c3*f_tau_tail_fermionic(beta,n_tau_dense,3)\n",
    "    for im in range(n_freq):\n",
    "        ftmp=f_tau_rest_dense*np.exp(1J*freq_mesh[im]*tau_mesh_dense[:])\n",
    "        f_freq[im]+=np.trapz(ftmp,tau_mesh_dense)\n",
    "\n",
    "    return f_freq\n",
    "\n",
    "# Utility functions for FT_to_n_fermionic_real_field\n",
    "#  This returns the Fourier transform of 1/(i omega_m).\n",
    "def f_tau_tail_fermionic(beta,ndiv_tau,m):\n",
    "    tau_mesh=np.linspace(0,beta,ndiv_tau+1)\n",
    "    if m==1:\n",
    "        tau_mesh[:] = -0.5\n",
    "        return tau_mesh\n",
    "    elif m==2:\n",
    "        return 0.25*(-beta+2*tau_mesh)\n",
    "    elif m==3:\n",
    "        return 0.25*(beta*tau_mesh-tau_mesh**2)\n",
    "    else:\n",
    "        raise RuntimeError(\"Error: m=\" + str(m))"
   ]
  },
  {
   "cell_type": "code",
   "execution_count": 63,
   "metadata": {},
   "outputs": [],
   "source": [
    "ntau = 1000\n",
    "nfreq = 1000\n",
    "taus = np.linspace(0, beta, ntau)\n",
    "gtau_data = np.array([gtau(tau) for tau in taus])\n",
    "giwn_data = to_freq_fermionic_real_field(beta, nfreq, gtau_data)"
   ]
  },
  {
   "cell_type": "code",
   "execution_count": 64,
   "metadata": {},
   "outputs": [
    {
     "data": {
      "image/png": "[encoded data removed]",
      "text/plain": [
       "<Figure size 432x288 with 1 Axes>"
      ]
     },
     "metadata": {},
     "output_type": "display_data"
    }
   ],
   "source": [
    "nvec = np.arange(0, nfreq)\n",
    "giwn_ref = np.array([giwn(n) for n in nvec])\n",
    "plt.plot(nvec, -giwn_data.imag)\n",
    "plt.plot(nvec, -giwn_ref.imag)\n",
    "plt.plot(nvec, np.abs(-giwn_ref.imag +giwn_data.imag) )\n",
    "plt.xscale(\"log\")\n",
    "plt.yscale(\"log\")"
   ]
  }
 ],
 "metadata": {
  "kernelspec": {
   "display_name": "Python 3",
   "language": "python",
   "name": "python3"
  },
  "language_info": {
   "codemirror_mode": {
    "name": "ipython",
    "version": 3
   },
   "file_extension": ".py",
   "mimetype": "text/x-python",
   "name": "python",
   "nbconvert_exporter": "python",
   "pygments_lexer": "ipython3",
   "version": "3.6.5"
  }
 },
 "nbformat": 4,
 "nbformat_minor": 2
}
