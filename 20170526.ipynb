{
 "cells": [
  {
   "cell_type": "markdown",
   "metadata": {},
   "source": [
    "# 再帰とループ"
   ]
  },
  {
   "cell_type": "code",
   "execution_count": 1,
   "metadata": {
    "collapsed": false
   },
   "outputs": [
    {
     "name": "stdout",
     "output_type": "stream",
     "text": [
      "0 1\n",
      "1 1\n",
      "2 2\n",
      "3 6\n",
      "4 24\n",
      "5 120\n",
      "6 720\n",
      "7 5040\n",
      "8 40320\n",
      "9 362880\n"
     ]
    }
   ],
   "source": [
    "#Let us compute factorials in two different ways.\n",
    "\n",
    "def factorial_recursive(n):\n",
    "    assert n>=0\n",
    "    if n==0 or n==1:\n",
    "        return 1\n",
    "    else:\n",
    "        return n * factorial_recursive(n-1)\n",
    "\n",
    "for i in range(10):\n",
    "    print(i, factorial_recursive(i))"
   ]
  },
  {
   "cell_type": "code",
   "execution_count": 7,
   "metadata": {
    "collapsed": false
   },
   "outputs": [
    {
     "name": "stdout",
     "output_type": "stream",
     "text": [
      "0 1\n",
      "1 1\n",
      "2 2\n",
      "3 6\n",
      "4 24\n",
      "5 120\n",
      "6 720\n",
      "7 5040\n",
      "8 40320\n",
      "9 362880\n"
     ]
    }
   ],
   "source": [
    "def factorial_loop(n):\n",
    "    assert n>=0\n",
    "    if n==0 or n==1:\n",
    "        return 1\n",
    "    r = 1\n",
    "    for i in range(2,n+1):\n",
    "        r *= i\n",
    "    return r\n",
    "\n",
    "for i in range(10):\n",
    "    print(i, factorial_loop(i))"
   ]
  },
  {
   "cell_type": "code",
   "execution_count": 8,
   "metadata": {
    "collapsed": false
   },
   "outputs": [
    {
     "ename": "AssertionError",
     "evalue": "",
     "output_type": "error",
     "traceback": [
      "\u001b[0;31m---------------------------------------------------------------------------\u001b[0m",
      "\u001b[0;31mAssertionError\u001b[0m                            Traceback (most recent call last)",
      "\u001b[0;32m<ipython-input-8-0fcfb90574be>\u001b[0m in \u001b[0;36m<module>\u001b[0;34m()\u001b[0m\n\u001b[0;32m----> 1\u001b[0;31m \u001b[0mfactorial_loop\u001b[0m\u001b[0;34m(\u001b[0m\u001b[0;34m-\u001b[0m\u001b[0;36m1\u001b[0m\u001b[0;34m)\u001b[0m\u001b[0;34m\u001b[0m\u001b[0m\n\u001b[0m",
      "\u001b[0;32m<ipython-input-7-6f319da90090>\u001b[0m in \u001b[0;36mfactorial_loop\u001b[0;34m(n)\u001b[0m\n\u001b[1;32m      1\u001b[0m \u001b[0;32mdef\u001b[0m \u001b[0mfactorial_loop\u001b[0m\u001b[0;34m(\u001b[0m\u001b[0mn\u001b[0m\u001b[0;34m)\u001b[0m\u001b[0;34m:\u001b[0m\u001b[0;34m\u001b[0m\u001b[0m\n\u001b[0;32m----> 2\u001b[0;31m     \u001b[0;32massert\u001b[0m \u001b[0mn\u001b[0m\u001b[0;34m>=\u001b[0m\u001b[0;36m0\u001b[0m\u001b[0;34m\u001b[0m\u001b[0m\n\u001b[0m\u001b[1;32m      3\u001b[0m     \u001b[0;32mif\u001b[0m \u001b[0mn\u001b[0m\u001b[0;34m==\u001b[0m\u001b[0;36m0\u001b[0m \u001b[0;32mor\u001b[0m \u001b[0mn\u001b[0m\u001b[0;34m==\u001b[0m\u001b[0;36m1\u001b[0m\u001b[0;34m:\u001b[0m\u001b[0;34m\u001b[0m\u001b[0m\n\u001b[1;32m      4\u001b[0m         \u001b[0;32mreturn\u001b[0m \u001b[0;36m1\u001b[0m\u001b[0;34m\u001b[0m\u001b[0m\n\u001b[1;32m      5\u001b[0m     \u001b[0mr\u001b[0m \u001b[0;34m=\u001b[0m \u001b[0;36m1\u001b[0m\u001b[0;34m\u001b[0m\u001b[0m\n",
      "\u001b[0;31mAssertionError\u001b[0m: "
     ]
    }
   ],
   "source": [
    "#Safe to use assertion\n",
    "factorial_loop(-1)"
   ]
  },
  {
   "cell_type": "code",
   "execution_count": 10,
   "metadata": {
    "collapsed": false
   },
   "outputs": [
    {
     "name": "stdout",
     "output_type": "stream",
     "text": [
      "362880.0\n"
     ]
    }
   ],
   "source": [
    "# In practical calculations, avoid to reinvent the wheel!\n",
    "from scipy.special import factorial\n",
    "\n",
    "print(factorial(9))"
   ]
  },
  {
   "cell_type": "markdown",
   "metadata": {
    "collapsed": false
   },
   "source": [
    "再帰の方が論理構造がわかりやすい場合がある。ただし、多数の関数呼び出しが必要なので、性能が悪い可能性も考慮。性能にクリティカルに関わる部分以外は、基本的にわかりやすいコードにするのが鉄則。"
   ]
  },
  {
   "cell_type": "markdown",
   "metadata": {},
   "source": [
    "# クラス"
   ]
  },
  {
   "cell_type": "code",
   "execution_count": 3,
   "metadata": {
    "collapsed": false
   },
   "outputs": [
    {
     "name": "stdout",
     "output_type": "stream",
     "text": [
      "3\n",
      "10\n"
     ]
    }
   ],
   "source": [
    "import numpy as np\n",
    "\n",
    "class MyVector:\n",
    "    #Constructor\n",
    "    def __init__(self, N):\n",
    "        self.N = N\n",
    "        self.data = np.zeros((N,),dtype=float)\n",
    "    \n",
    "    #Member function\n",
    "    def len(self):\n",
    "        return self.N\n",
    "        \n",
    "v3 = MyVector(3)\n",
    "print(v3.len())\n",
    "\n",
    "v10 = MyVector(10)\n",
    "print(v10.len())"
   ]
  },
  {
   "cell_type": "code",
   "execution_count": 6,
   "metadata": {
    "collapsed": false
   },
   "outputs": [
    {
     "name": "stdout",
     "output_type": "stream",
     "text": [
      "3\n",
      "10\n",
      "[  0.00000000e+00   0.00000000e+00   0.00000000e+00   1.00000000e+30\n",
      "   0.00000000e+00   0.00000000e+00   0.00000000e+00   0.00000000e+00\n",
      "   0.00000000e+00   0.00000000e+00]\n",
      "[  0.00000000e+00   0.00000000e+00   0.00000000e+00   1.00000000e+30\n",
      "   0.00000000e+00   0.00000000e+00   0.00000000e+00   0.00000000e+00\n",
      "   0.00000000e+00   0.00000000e+00]\n"
     ]
    }
   ],
   "source": [
    "import numpy as np\n",
    "\n",
    "class MyVector:\n",
    "    #Constructor\n",
    "    def __init__(self, N):\n",
    "        self.data = np.zeros((N,),dtype=float)\n",
    "    \n",
    "    #Member functions\n",
    "    def len(self):\n",
    "        return len(self.data)\n",
    "    \n",
    "    def write_at(self, i, new_value):\n",
    "        assert i < self.len()\n",
    "        assert new_value >= 0.0\n",
    "        self.data[i] = new_value\n",
    "    \n",
    "    def print(self):\n",
    "        print(self.data)\n",
    "        \n",
    "v3 = MyVector(3)\n",
    "print(v3.len())\n",
    "\n",
    "v10 = MyVector(10)\n",
    "print(v10.len())\n",
    "\n",
    "v10.write_at(3, 1E+30)\n",
    "v10.print()\n",
    "\n",
    "print(v10.data)"
   ]
  },
  {
   "cell_type": "markdown",
   "metadata": {},
   "source": [
    "Inheritance (継承)"
   ]
  },
  {
   "cell_type": "code",
   "execution_count": 8,
   "metadata": {
    "collapsed": false
   },
   "outputs": [
    {
     "name": "stdout",
     "output_type": "stream",
     "text": [
      "Initializing: A\n",
      "Initializing: A\n",
      "Initializing: B\n",
      "I am a B\n"
     ]
    }
   ],
   "source": [
    "class A:\n",
    "    def __init__(self):\n",
    "        print(\"Initializing: A\")\n",
    "\n",
    "class B(A):\n",
    "    def __init__(self):\n",
    "        super().__init__()\n",
    "        print(\"Initializing: B\")\n",
    "    \n",
    "    def print(self):\n",
    "        print(\"I am a B\")\n",
    "\n",
    "\n",
    "a = A()\n",
    "b = B()\n",
    "b.print()"
   ]
  },
  {
   "cell_type": "code",
   "execution_count": 41,
   "metadata": {
    "collapsed": false
   },
   "outputs": [
    {
     "ename": "AttributeError",
     "evalue": "'MyVector' object has no attribute 'write_at'",
     "output_type": "error",
     "traceback": [
      "\u001b[0;31m---------------------------------------------------------------------------\u001b[0m",
      "\u001b[0;31mAttributeError\u001b[0m                            Traceback (most recent call last)",
      "\u001b[0;32m<ipython-input-41-f6ff1776a4e7>\u001b[0m in \u001b[0;36m<module>\u001b[0;34m()\u001b[0m\n\u001b[1;32m     27\u001b[0m \u001b[0;34m\u001b[0m\u001b[0m\n\u001b[1;32m     28\u001b[0m \u001b[0mv3\u001b[0m \u001b[0;34m=\u001b[0m \u001b[0mMyVector\u001b[0m\u001b[0;34m(\u001b[0m\u001b[0;36m3\u001b[0m\u001b[0;34m)\u001b[0m\u001b[0;34m\u001b[0m\u001b[0m\n\u001b[0;32m---> 29\u001b[0;31m \u001b[0mv3\u001b[0m\u001b[0;34m.\u001b[0m\u001b[0mwrite_at\u001b[0m\u001b[0;34m(\u001b[0m\u001b[0;36m1\u001b[0m\u001b[0;34m,\u001b[0m \u001b[0;36m1E+30\u001b[0m\u001b[0;34m)\u001b[0m\u001b[0;34m\u001b[0m\u001b[0m\n\u001b[0m",
      "\u001b[0;31mAttributeError\u001b[0m: 'MyVector' object has no attribute 'write_at'"
     ]
    }
   ],
   "source": [
    "import numpy as np\n",
    "\n",
    "class MyVector:\n",
    "    #Constructor\n",
    "    def __init__(self, N):\n",
    "        self.data = np.zeros((N,),dtype=float)\n",
    "    \n",
    "    #Member functions\n",
    "    def len(self):\n",
    "        return len(self.data)\n",
    "    \n",
    "    def print(self):\n",
    "        print(self.data)\n",
    "\n",
    "class WritableVector(MyVector):\n",
    "    def __init__(self, N):\n",
    "        super().__init__(N)\n",
    "        #You can do additional things here if any.\n",
    "        self.x = 100.0\n",
    "    \n",
    "    def write_at(self, i, new_value):\n",
    "        assert i < self.len()\n",
    "        self.data[i] = new_value\n",
    "\n",
    "wv3 = WritableVector(3)\n",
    "wv3.write_at(1, 1E+30)\n",
    "        \n",
    "v3 = MyVector(3)\n",
    "v3.write_at(1, 1E+30)\n"
   ]
  },
  {
   "cell_type": "code",
   "execution_count": 12,
   "metadata": {
    "collapsed": false
   },
   "outputs": [
    {
     "name": "stdout",
     "output_type": "stream",
     "text": [
      "[ 0.36828817  0.16383559  0.23906343  0.9656778   0.15059267  0.54631083\n",
      "  0.44894779  0.2759926   0.76087218  0.4539795 ]\n"
     ]
    }
   ],
   "source": [
    "import random\n",
    "import numpy as np\n",
    "\n",
    "N=10\n",
    "nums = np.zeros(N)\n",
    "for i in range(N):\n",
    "    nums[i] = random.random()\n",
    "    \n",
    "print(nums)\n",
    "#print(np.sort(nums))"
   ]
  }
 ],
 "metadata": {
  "anaconda-cloud": {},
  "kernelspec": {
   "display_name": "Python 3",
   "language": "python",
   "name": "python3"
  },
  "language_info": {
   "codemirror_mode": {
    "name": "ipython",
    "version": 3
   },
   "file_extension": ".py",
   "mimetype": "text/x-python",
   "name": "python",
   "nbconvert_exporter": "python",
   "pygments_lexer": "ipython3",
   "version": "3.5.2"
  }
 },
 "nbformat": 4,
 "nbformat_minor": 1
}
