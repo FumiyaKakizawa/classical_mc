{
 "cells": [
  {
   "cell_type": "markdown",
   "metadata": {},
   "source": [
    "# 数値積分"
   ]
  },
  {
   "cell_type": "markdown",
   "metadata": {},
   "source": [
    "## 台形公式"
   ]
  },
  {
   "cell_type": "markdown",
   "metadata": {},
   "source": [
    "$$\\int_a^b f(x) \\mathrm{d}x$$の数値的近似解を求めたい。ただし、関数は連続で滑らか。\n",
    "区間を等間隔な幅$h$を持つ区間に分割しする。\n",
    "$$\\int_a^b f(x) \\mathrm{d}x = \\sum_{n=1}^{N-1} \\int_{a_n}^{a_{n+1}}f(x) \\mathrm{d}x.$$\n",
    "ただし、$$a_1=a, a_N=b.$$\n",
    "ここで、各区間の積分を以下のように近似する。\n",
    "$$\\int_{a_n}^{a_{n+1}}f(x) \\mathrm{d}x \\simeq \\frac{f(a_n) + f(a_{n+1})}{2} h.$$\n",
    "すべての項をまとめると、\n",
    "$$\\int_a^b f(x) \\mathrm{d}x \\simeq h\\sum_{n=1}^{N-1} \\frac{f(a_n) + f(a_{n+1})}{2} = h \\sum_{n=1}^N f(a_{n}) - h f(a_1)/2 - h f(a_N)/2.$$\n",
    "$$f(x) = f(x_0) + f(x_0)^\\prime + O(x)$$"
   ]
  },
  {
   "cell_type": "code",
   "execution_count": 13,
   "metadata": {},
   "outputs": [
    {
     "name": "stdout",
     "output_type": "stream",
     "text": [
      "-0.000105176587653\n"
     ]
    }
   ],
   "source": [
    "import numpy as np\n",
    "\n",
    "def f(x):\n",
    "    return np.sqrt(1-x**2)\n",
    "\n",
    "N = 1000\n",
    "h = 2.0/N\n",
    "S = 0.0\n",
    "for i in range(N):\n",
    "    x0 = h*i - 1.0\n",
    "    x1 = h*(i+1) -1.0\n",
    "    dS = (f(x0) + f(x1))* h * 0.5\n",
    "    S += dS\n",
    "print(2*S-np.pi)"
   ]
  },
  {
   "cell_type": "code",
   "execution_count": 19,
   "metadata": {},
   "outputs": [
    {
     "name": "stdout",
     "output_type": "stream",
     "text": [
      "1000000 -3.32616467702e-09\n"
     ]
    }
   ],
   "source": [
    "def compute_pi(N):\n",
    "    h = 2.0/N\n",
    "    S = 0.0\n",
    "    for i in range(N):\n",
    "        x0 = h*i - 1.0\n",
    "        x1 = h*(i+1) -1.0\n",
    "        dS = (f(x0) + f(x1))* h * 0.5\n",
    "        S += dS\n",
    "    return 2*S\n",
    "\n",
    "for N in [1000000]:\n",
    "    print(N, compute_pi(N)-np.pi)"
   ]
  },
  {
   "cell_type": "code",
   "execution_count": 28,
   "metadata": {},
   "outputs": [
    {
     "data": {
      "text/plain": [
       "3.1415926221705242"
      ]
     },
     "execution_count": 28,
     "metadata": {},
     "output_type": "execute_result"
    }
   ],
   "source": [
    "N = 100000000\n",
    "x = np.linspace(-1, 1, N)\n",
    "#print(x)\n",
    "fx = np.sqrt(1-x**2)\n",
    "#print(fx)\n",
    "2*np.sum(fx)*(2/N)"
   ]
  },
  {
   "cell_type": "code",
   "execution_count": 46,
   "metadata": {},
   "outputs": [
    {
     "name": "stdout",
     "output_type": "stream",
     "text": [
      "0.866025398011 0.866025409558\n",
      "-5.13152753623e-09 -7.69851672068e-05\n",
      "-0.0332723943542 0.022238756877\n"
     ]
    }
   ],
   "source": [
    "x = 0.5\n",
    "print(f(x+1e-8), f(x-1e-8))\n",
    "for h in [0.0001, 1e-15]:\n",
    "    a = (f(x+h) - f(x-h))/(2*h)\n",
    "    b = (f(x+h) - f(x))/h\n",
    "    c = -x/np.sqrt(1-x**2)\n",
    "    print(a-c, b-c)"
   ]
  }
 ],
 "metadata": {
  "anaconda-cloud": {},
  "kernelspec": {
   "display_name": "Python 3",
   "language": "python",
   "name": "python3"
  },
  "language_info": {
   "codemirror_mode": {
    "name": "ipython",
    "version": 3
   },
   "file_extension": ".py",
   "mimetype": "text/x-python",
   "name": "python",
   "nbconvert_exporter": "python",
   "pygments_lexer": "ipython3",
   "version": "3.6.5"
  }
 },
 "nbformat": 4,
 "nbformat_minor": 1
}
